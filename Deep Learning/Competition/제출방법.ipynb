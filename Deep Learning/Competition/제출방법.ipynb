{
  "nbformat": 4,
  "nbformat_minor": 0,
  "metadata": {
    "colab": {
      "name": "제출방법.ipynb",
      "provenance": []
    },
    "kernelspec": {
      "name": "python3",
      "display_name": "Python 3"
    },
    "language_info": {
      "name": "python"
    }
  },
  "cells": [
    {
      "cell_type": "markdown",
      "source": [
        "# 우선 testdata를 만들고 loader에 넣기 위해 test 데이터를 만들어줍니다.\n",
        "## 이때 유의할 점을 test폴더를 또다른 폴더 안에 넣고 imagefolder에 넣어줘야한다는 것입니다![image.png](data:image/png;base64,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)"
      ],
      "metadata": {
        "id": "zkCMH_gK4MR-"
      }
    },
    {
      "cell_type": "markdown",
      "source": [
        "위처럼 test폴더를 만들었다면 아래와 같이 test loader를 지정합니다 무조건 shuffle은 false로 두셔야합니다"
      ],
      "metadata": {
        "id": "DWeoVrdP4sMv"
      }
    },
    {
      "cell_type": "code",
      "source": [
        "test = CustomImageFolder(\"/content/test\",transform=alb_valid_transform)\n",
        "test_loader = DataLoader(test,shuffle=False,batch_size=32,num_workers=2) "
      ],
      "metadata": {
        "id": "JSMAkYI34T0k"
      },
      "execution_count": null,
      "outputs": []
    },
    {
      "cell_type": "markdown",
      "source": [
        "lightning에서 model checkpoint를 사용하시는 분들은 ckpt에서 모델을 불러와 결과를 내는법을 따로 알려드리겠습니다 연락주세요\n",
        "그외에 일반 pytorch라면 모델에 test data를 통과시킵니다."
      ],
      "metadata": {
        "id": "DqgCjSJl47ge"
      }
    },
    {
      "cell_type": "code",
      "source": [
        "model.eval()\n",
        "prediction = []\n",
        "for i, data in enumerate(test_loader):\n",
        "  images,label =data\n",
        "  outputs = model(images)\n",
        "  _, predicted = torch.max(outputs.data, 1)\n",
        "  predicted_list=predicted.tolist()\n",
        "  prediction.append(predicted_list) \n",
        "  #print(predicted)\n",
        "prediction = sum(prediction,[])"
      ],
      "metadata": {
        "id": "02wXueqX4cPp"
      },
      "execution_count": null,
      "outputs": []
    },
    {
      "cell_type": "code",
      "source": [
        "import csv\n",
        "with open('submission.csv','w') as file :\n",
        "\n",
        "    write = csv.writer(file)\n",
        "    write.writerow(prediction)"
      ],
      "metadata": {
        "id": "E7-tTzBP44GG"
      },
      "execution_count": null,
      "outputs": []
    },
    {
      "cell_type": "markdown",
      "source": [
        "#위에서 생겨난 csv를 저에게 제출해주시면됩니다\n",
        "팀당 최대 3개의 csv를 받겠습니다 어떤 모델이 가장 좋은지 잘 판단하여 전해주시길 바랍니다."
      ],
      "metadata": {
        "id": "8meu3r-h5SHG"
      }
    }
  ]
}