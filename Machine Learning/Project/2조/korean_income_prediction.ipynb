{
 "cells": [
  {
   "cell_type": "code",
   "execution_count": 1,
   "id": "5cae0bc6",
   "metadata": {
    "id": "5cae0bc6"
   },
   "outputs": [],
   "source": [
    "# data exploration, 눈으로 변수간의 상관관계 먼저 파악해보기...?\n",
    "# 전체적인 income의 분포를 scatter 해보기"
   ]
  },
  {
   "cell_type": "code",
   "execution_count": 2,
   "id": "62e4748b",
   "metadata": {
    "id": "62e4748b"
   },
   "outputs": [],
   "source": [
    "%matplotlib inline\n",
    "import pandas as pd\n",
    "import numpy as np\n",
    "import matplotlib.pyplot as plt\n",
    "import matplotlib\n",
    "matplotlib.rcParams['font.family']='Malgun Gothic'\n",
    "matplotlib.rcParams['axes.unicode_minus']=False\n",
    "\n",
    "from sklearn import svm\n",
    "from sklearn.model_selection import train_test_split\n",
    "from sklearn.preprocessing import StandardScaler, MinMaxScaler\n",
    "from sklearn.linear_model import LogisticRegression\n",
    "from sklearn.linear_model import LinearRegression\n",
    "from sklearn.metrics import accuracy_score, confusion_matrix\n",
    "from sklearn.model_selection import GridSearchCV\n",
    "from sklearn.metrics import r2_score\n",
    "from sklearn.metrics import mean_squared_error\n",
    "import seaborn as sns"
   ]
  },
  {
   "cell_type": "markdown",
   "id": "afa02659",
   "metadata": {
    "id": "afa02659"
   },
   "source": [
    "1. 결측치 처리\n",
    "2. 각 데이터 분포 확인하고 표준화\n",
    "3. 문자열 변수 가변수화\n",
    "4. 모델별 RMSE 찾고 비교\n",
    "5. Grid Search"
   ]
  },
  {
   "cell_type": "code",
   "execution_count": 3,
   "id": "24cc6498",
   "metadata": {
    "id": "24cc6498"
   },
   "outputs": [],
   "source": [
    "test = pd.read_csv('Kor_income_test_data.csv', index_col=0)\n",
    "train = pd.read_csv('Kor_income_training_data.csv', index_col=0)"
   ]
  },
  {
   "cell_type": "code",
   "execution_count": 4,
   "id": "233f86c8",
   "metadata": {
    "colab": {
     "base_uri": "https://localhost:8080/"
    },
    "id": "233f86c8",
    "outputId": "9ee7f73a-3582-4c4c-a9da-629f36231dda"
   },
   "outputs": [
    {
     "data": {
      "text/plain": [
       "[74.413,\n",
       " 76.081,\n",
       " 78.01,\n",
       " 81.656,\n",
       " 83.906,\n",
       " 86.373,\n",
       " 89.85,\n",
       " 91.815,\n",
       " 93.01,\n",
       " 94.196,\n",
       " 94.861,\n",
       " 95.783,\n",
       " 97.645,\n",
       " 99.086]"
      ]
     },
     "execution_count": 4,
     "metadata": {},
     "output_type": "execute_result"
    }
   ],
   "source": [
    "cpi = pd.read_csv('cpi.csv', index_col=0)\n",
    "cpi = list(np.array(cpi['cpi'].tolist()))\n",
    "cpi    # cpi는 소비자 물가지수"
   ]
  },
  {
   "cell_type": "code",
   "execution_count": 5,
   "id": "3f83d863",
   "metadata": {
    "id": "3f83d863"
   },
   "outputs": [],
   "source": [
    "for k in range(1,15):\n",
    "    globals()['is_w'+str(k)] = train['wave'] == k\n",
    "    globals()['w'+str(k)] = train[globals()['is_w'+str(k)]]\n",
    "    globals()['tmpw'+str(k)] = globals()['w'+str(k)]['income']/cpi[k-1]*100\n",
    "    globals()['tmpw'+str(k)] = pd.DataFrame(globals()['tmpw'+str(k)])\n",
    "    globals()['tmpw'+str(k)].rename(columns = {'income':'r_income'}, inplace = True)\n",
    "    globals()['cpiw'+str(k)] = pd.concat([globals()['w'+str(k)],globals()['tmpw'+str(k)]], axis=1)\n",
    "    globals()['cpiw'+str(k)] = globals()['cpiw'+str(k)].drop(['income'], axis=1)"
   ]
  },
  {
   "cell_type": "code",
   "execution_count": 6,
   "id": "79cf5c17",
   "metadata": {
    "colab": {
     "base_uri": "https://localhost:8080/",
     "height": 488
    },
    "id": "79cf5c17",
    "outputId": "59f159ce-7c28-401b-aafd-b713fef0e1f8"
   },
   "outputs": [
    {
     "data": {
      "text/html": [
       "<div>\n",
       "<style scoped>\n",
       "    .dataframe tbody tr th:only-of-type {\n",
       "        vertical-align: middle;\n",
       "    }\n",
       "\n",
       "    .dataframe tbody tr th {\n",
       "        vertical-align: top;\n",
       "    }\n",
       "\n",
       "    .dataframe thead th {\n",
       "        text-align: right;\n",
       "    }\n",
       "</style>\n",
       "<table border=\"1\" class=\"dataframe\">\n",
       "  <thead>\n",
       "    <tr style=\"text-align: right;\">\n",
       "      <th></th>\n",
       "      <th>id</th>\n",
       "      <th>year</th>\n",
       "      <th>wave</th>\n",
       "      <th>region</th>\n",
       "      <th>family_member</th>\n",
       "      <th>gender</th>\n",
       "      <th>year_born</th>\n",
       "      <th>education_level</th>\n",
       "      <th>marriage</th>\n",
       "      <th>religion</th>\n",
       "      <th>occupation</th>\n",
       "      <th>company_size</th>\n",
       "      <th>reason_none_worker</th>\n",
       "      <th>income</th>\n",
       "    </tr>\n",
       "  </thead>\n",
       "  <tbody>\n",
       "    <tr>\n",
       "      <th>77530</th>\n",
       "      <td>68460101</td>\n",
       "      <td>2005</td>\n",
       "      <td>1</td>\n",
       "      <td>3</td>\n",
       "      <td>1</td>\n",
       "      <td>2</td>\n",
       "      <td>1940</td>\n",
       "      <td>2</td>\n",
       "      <td>2</td>\n",
       "      <td>1</td>\n",
       "      <td>617</td>\n",
       "      <td>1</td>\n",
       "      <td></td>\n",
       "      <td>618.171556</td>\n",
       "    </tr>\n",
       "    <tr>\n",
       "      <th>25998</th>\n",
       "      <td>24350101</td>\n",
       "      <td>2005</td>\n",
       "      <td>1</td>\n",
       "      <td>2</td>\n",
       "      <td>2</td>\n",
       "      <td>1</td>\n",
       "      <td>1940</td>\n",
       "      <td>5</td>\n",
       "      <td>1</td>\n",
       "      <td>2</td>\n",
       "      <td></td>\n",
       "      <td></td>\n",
       "      <td></td>\n",
       "      <td>2468.654671</td>\n",
       "    </tr>\n",
       "    <tr>\n",
       "      <th>3626</th>\n",
       "      <td>3420101</td>\n",
       "      <td>2005</td>\n",
       "      <td>1</td>\n",
       "      <td>1</td>\n",
       "      <td>4</td>\n",
       "      <td>2</td>\n",
       "      <td>1958</td>\n",
       "      <td>4</td>\n",
       "      <td>1</td>\n",
       "      <td>2</td>\n",
       "      <td>422</td>\n",
       "      <td>1</td>\n",
       "      <td></td>\n",
       "      <td>2023.839920</td>\n",
       "    </tr>\n",
       "    <tr>\n",
       "      <th>50176</th>\n",
       "      <td>46240101</td>\n",
       "      <td>2005</td>\n",
       "      <td>1</td>\n",
       "      <td>6</td>\n",
       "      <td>1</td>\n",
       "      <td>2</td>\n",
       "      <td>1925</td>\n",
       "      <td>3</td>\n",
       "      <td>2</td>\n",
       "      <td>1</td>\n",
       "      <td></td>\n",
       "      <td></td>\n",
       "      <td>4</td>\n",
       "      <td>49.722495</td>\n",
       "    </tr>\n",
       "    <tr>\n",
       "      <th>17894</th>\n",
       "      <td>17150101</td>\n",
       "      <td>2005</td>\n",
       "      <td>1</td>\n",
       "      <td>3</td>\n",
       "      <td>6</td>\n",
       "      <td>1</td>\n",
       "      <td>1967</td>\n",
       "      <td>7</td>\n",
       "      <td>1</td>\n",
       "      <td>1</td>\n",
       "      <td>843</td>\n",
       "      <td>1</td>\n",
       "      <td></td>\n",
       "      <td>2902.718611</td>\n",
       "    </tr>\n",
       "    <tr>\n",
       "      <th>...</th>\n",
       "      <td>...</td>\n",
       "      <td>...</td>\n",
       "      <td>...</td>\n",
       "      <td>...</td>\n",
       "      <td>...</td>\n",
       "      <td>...</td>\n",
       "      <td>...</td>\n",
       "      <td>...</td>\n",
       "      <td>...</td>\n",
       "      <td>...</td>\n",
       "      <td>...</td>\n",
       "      <td>...</td>\n",
       "      <td>...</td>\n",
       "      <td>...</td>\n",
       "    </tr>\n",
       "    <tr>\n",
       "      <th>59508</th>\n",
       "      <td>53720101</td>\n",
       "      <td>2018</td>\n",
       "      <td>14</td>\n",
       "      <td>7</td>\n",
       "      <td>1</td>\n",
       "      <td>2</td>\n",
       "      <td>1938</td>\n",
       "      <td>4</td>\n",
       "      <td>2</td>\n",
       "      <td>2</td>\n",
       "      <td></td>\n",
       "      <td></td>\n",
       "      <td>10</td>\n",
       "      <td>1484.568960</td>\n",
       "    </tr>\n",
       "    <tr>\n",
       "      <th>78714</th>\n",
       "      <td>69360101</td>\n",
       "      <td>2018</td>\n",
       "      <td>14</td>\n",
       "      <td>7</td>\n",
       "      <td>2</td>\n",
       "      <td>1</td>\n",
       "      <td>1943</td>\n",
       "      <td>5</td>\n",
       "      <td>1</td>\n",
       "      <td>2</td>\n",
       "      <td></td>\n",
       "      <td></td>\n",
       "      <td>10</td>\n",
       "      <td>2749.127021</td>\n",
       "    </tr>\n",
       "    <tr>\n",
       "      <th>50162</th>\n",
       "      <td>46220101</td>\n",
       "      <td>2018</td>\n",
       "      <td>14</td>\n",
       "      <td>6</td>\n",
       "      <td>2</td>\n",
       "      <td>1</td>\n",
       "      <td>1938</td>\n",
       "      <td>3</td>\n",
       "      <td>1</td>\n",
       "      <td>2</td>\n",
       "      <td>611</td>\n",
       "      <td>1</td>\n",
       "      <td></td>\n",
       "      <td>1212.078397</td>\n",
       "    </tr>\n",
       "    <tr>\n",
       "      <th>89920</th>\n",
       "      <td>93890701</td>\n",
       "      <td>2018</td>\n",
       "      <td>14</td>\n",
       "      <td>4</td>\n",
       "      <td>2</td>\n",
       "      <td>1</td>\n",
       "      <td>1949</td>\n",
       "      <td>4</td>\n",
       "      <td>1</td>\n",
       "      <td>1</td>\n",
       "      <td>611</td>\n",
       "      <td>1</td>\n",
       "      <td></td>\n",
       "      <td>3758.351331</td>\n",
       "    </tr>\n",
       "    <tr>\n",
       "      <th>61686</th>\n",
       "      <td>55380101</td>\n",
       "      <td>2018</td>\n",
       "      <td>14</td>\n",
       "      <td>7</td>\n",
       "      <td>1</td>\n",
       "      <td>2</td>\n",
       "      <td>1936</td>\n",
       "      <td>3</td>\n",
       "      <td>2</td>\n",
       "      <td>2</td>\n",
       "      <td></td>\n",
       "      <td></td>\n",
       "      <td>10</td>\n",
       "      <td>1712.653654</td>\n",
       "    </tr>\n",
       "  </tbody>\n",
       "</table>\n",
       "<p>78928 rows × 14 columns</p>\n",
       "</div>"
      ],
      "text/plain": [
       "             id  year  wave  region  family_member  gender  year_born  \\\n",
       "77530  68460101  2005     1       3              1       2       1940   \n",
       "25998  24350101  2005     1       2              2       1       1940   \n",
       "3626    3420101  2005     1       1              4       2       1958   \n",
       "50176  46240101  2005     1       6              1       2       1925   \n",
       "17894  17150101  2005     1       3              6       1       1967   \n",
       "...         ...   ...   ...     ...            ...     ...        ...   \n",
       "59508  53720101  2018    14       7              1       2       1938   \n",
       "78714  69360101  2018    14       7              2       1       1943   \n",
       "50162  46220101  2018    14       6              2       1       1938   \n",
       "89920  93890701  2018    14       4              2       1       1949   \n",
       "61686  55380101  2018    14       7              1       2       1936   \n",
       "\n",
       "       education_level  marriage  religion occupation company_size  \\\n",
       "77530                2         2         1        617            1   \n",
       "25998                5         1         2                           \n",
       "3626                 4         1         2        422            1   \n",
       "50176                3         2         1                           \n",
       "17894                7         1         1        843            1   \n",
       "...                ...       ...       ...        ...          ...   \n",
       "59508                4         2         2                           \n",
       "78714                5         1         2                           \n",
       "50162                3         1         2        611            1   \n",
       "89920                4         1         1        611            1   \n",
       "61686                3         2         2                           \n",
       "\n",
       "      reason_none_worker       income  \n",
       "77530                      618.171556  \n",
       "25998                     2468.654671  \n",
       "3626                      2023.839920  \n",
       "50176                  4    49.722495  \n",
       "17894                     2902.718611  \n",
       "...                  ...          ...  \n",
       "59508                 10  1484.568960  \n",
       "78714                 10  2749.127021  \n",
       "50162                     1212.078397  \n",
       "89920                     3758.351331  \n",
       "61686                 10  1712.653654  \n",
       "\n",
       "[78928 rows x 14 columns]"
      ]
     },
     "execution_count": 6,
     "metadata": {},
     "output_type": "execute_result"
    }
   ],
   "source": [
    "train = pd.concat([cpiw1,cpiw2,cpiw3,cpiw4,cpiw5,cpiw6,cpiw7,cpiw8,cpiw9,cpiw10])\n",
    "train = pd.concat([train,cpiw11,cpiw12,cpiw13,cpiw14])\n",
    "train.rename(columns = {'r_income':'income'}, inplace = True)\n",
    "train\n",
    "\n",
    "\n",
    "# 물가지수 표준화"
   ]
  },
  {
   "cell_type": "code",
   "execution_count": 7,
   "id": "b6b04781",
   "metadata": {
    "colab": {
     "base_uri": "https://localhost:8080/",
     "height": 270
    },
    "id": "b6b04781",
    "outputId": "a62b8b8a-c662-4f3a-ae93-8a53eb5235ad",
    "scrolled": false
   },
   "outputs": [
    {
     "data": {
      "text/html": [
       "<div>\n",
       "<style scoped>\n",
       "    .dataframe tbody tr th:only-of-type {\n",
       "        vertical-align: middle;\n",
       "    }\n",
       "\n",
       "    .dataframe tbody tr th {\n",
       "        vertical-align: top;\n",
       "    }\n",
       "\n",
       "    .dataframe thead th {\n",
       "        text-align: right;\n",
       "    }\n",
       "</style>\n",
       "<table border=\"1\" class=\"dataframe\">\n",
       "  <thead>\n",
       "    <tr style=\"text-align: right;\">\n",
       "      <th></th>\n",
       "      <th>id</th>\n",
       "      <th>year</th>\n",
       "      <th>wave</th>\n",
       "      <th>region</th>\n",
       "      <th>family_member</th>\n",
       "      <th>gender</th>\n",
       "      <th>year_born</th>\n",
       "      <th>education_level</th>\n",
       "      <th>marriage</th>\n",
       "      <th>religion</th>\n",
       "      <th>occupation</th>\n",
       "      <th>company_size</th>\n",
       "      <th>reason_none_worker</th>\n",
       "    </tr>\n",
       "  </thead>\n",
       "  <tbody>\n",
       "    <tr>\n",
       "      <th>51802</th>\n",
       "      <td>47520101</td>\n",
       "      <td>2015</td>\n",
       "      <td>11</td>\n",
       "      <td>2</td>\n",
       "      <td>1</td>\n",
       "      <td>1</td>\n",
       "      <td>1965</td>\n",
       "      <td>5</td>\n",
       "      <td>3</td>\n",
       "      <td>2</td>\n",
       "      <td>873</td>\n",
       "      <td>1</td>\n",
       "      <td></td>\n",
       "    </tr>\n",
       "    <tr>\n",
       "      <th>24685</th>\n",
       "      <td>23120101</td>\n",
       "      <td>2015</td>\n",
       "      <td>11</td>\n",
       "      <td>2</td>\n",
       "      <td>4</td>\n",
       "      <td>1</td>\n",
       "      <td>1970</td>\n",
       "      <td>5</td>\n",
       "      <td>1</td>\n",
       "      <td>2</td>\n",
       "      <td>521</td>\n",
       "      <td>1</td>\n",
       "      <td></td>\n",
       "    </tr>\n",
       "    <tr>\n",
       "      <th>20910</th>\n",
       "      <td>19780101</td>\n",
       "      <td>2009</td>\n",
       "      <td>5</td>\n",
       "      <td>4</td>\n",
       "      <td>3</td>\n",
       "      <td>1</td>\n",
       "      <td>1946</td>\n",
       "      <td>5</td>\n",
       "      <td>1</td>\n",
       "      <td>2</td>\n",
       "      <td></td>\n",
       "      <td></td>\n",
       "      <td>10</td>\n",
       "    </tr>\n",
       "    <tr>\n",
       "      <th>24267</th>\n",
       "      <td>22730101</td>\n",
       "      <td>2005</td>\n",
       "      <td>1</td>\n",
       "      <td>2</td>\n",
       "      <td>4</td>\n",
       "      <td>1</td>\n",
       "      <td>1968</td>\n",
       "      <td>7</td>\n",
       "      <td>1</td>\n",
       "      <td>2</td>\n",
       "      <td>9999</td>\n",
       "      <td>10</td>\n",
       "      <td></td>\n",
       "    </tr>\n",
       "    <tr>\n",
       "      <th>71797</th>\n",
       "      <td>63660101</td>\n",
       "      <td>2009</td>\n",
       "      <td>5</td>\n",
       "      <td>4</td>\n",
       "      <td>2</td>\n",
       "      <td>1</td>\n",
       "      <td>1942</td>\n",
       "      <td>3</td>\n",
       "      <td>1</td>\n",
       "      <td>1</td>\n",
       "      <td>611</td>\n",
       "      <td>1</td>\n",
       "      <td></td>\n",
       "    </tr>\n",
       "  </tbody>\n",
       "</table>\n",
       "</div>"
      ],
      "text/plain": [
       "             id  year  wave  region  family_member  gender  year_born  \\\n",
       "51802  47520101  2015    11       2              1       1       1965   \n",
       "24685  23120101  2015    11       2              4       1       1970   \n",
       "20910  19780101  2009     5       4              3       1       1946   \n",
       "24267  22730101  2005     1       2              4       1       1968   \n",
       "71797  63660101  2009     5       4              2       1       1942   \n",
       "\n",
       "       education_level  marriage  religion occupation company_size  \\\n",
       "51802                5         3         2        873            1   \n",
       "24685                5         1         2        521            1   \n",
       "20910                5         1         2                           \n",
       "24267                7         1         2       9999           10   \n",
       "71797                3         1         1        611            1   \n",
       "\n",
       "      reason_none_worker  \n",
       "51802                     \n",
       "24685                     \n",
       "20910                 10  \n",
       "24267                     \n",
       "71797                     "
      ]
     },
     "execution_count": 7,
     "metadata": {},
     "output_type": "execute_result"
    }
   ],
   "source": [
    "test.head()\n",
    "# occupation, company_size, reason_none_worker --> 버리지말기\n",
    "# 근데 카테고리가 너무 많으면 그것도 좋지는 않음 (적당한 수 찾기)"
   ]
  },
  {
   "cell_type": "code",
   "execution_count": 8,
   "id": "a3d29468",
   "metadata": {
    "colab": {
     "base_uri": "https://localhost:8080/",
     "height": 488
    },
    "id": "a3d29468",
    "outputId": "4303c3ad-c8d5-4b7e-970e-8f84f6664746"
   },
   "outputs": [
    {
     "data": {
      "text/html": [
       "<div>\n",
       "<style scoped>\n",
       "    .dataframe tbody tr th:only-of-type {\n",
       "        vertical-align: middle;\n",
       "    }\n",
       "\n",
       "    .dataframe tbody tr th {\n",
       "        vertical-align: top;\n",
       "    }\n",
       "\n",
       "    .dataframe thead th {\n",
       "        text-align: right;\n",
       "    }\n",
       "</style>\n",
       "<table border=\"1\" class=\"dataframe\">\n",
       "  <thead>\n",
       "    <tr style=\"text-align: right;\">\n",
       "      <th></th>\n",
       "      <th>id</th>\n",
       "      <th>year</th>\n",
       "      <th>wave</th>\n",
       "      <th>region</th>\n",
       "      <th>family_member</th>\n",
       "      <th>gender</th>\n",
       "      <th>year_born</th>\n",
       "      <th>education_level</th>\n",
       "      <th>marriage</th>\n",
       "      <th>religion</th>\n",
       "      <th>occupation</th>\n",
       "      <th>company_size</th>\n",
       "      <th>reason_none_worker</th>\n",
       "      <th>income</th>\n",
       "    </tr>\n",
       "  </thead>\n",
       "  <tbody>\n",
       "    <tr>\n",
       "      <th>77530</th>\n",
       "      <td>68460101</td>\n",
       "      <td>2005</td>\n",
       "      <td>1</td>\n",
       "      <td>3</td>\n",
       "      <td>1</td>\n",
       "      <td>2</td>\n",
       "      <td>1940</td>\n",
       "      <td>2</td>\n",
       "      <td>2</td>\n",
       "      <td>1</td>\n",
       "      <td>617</td>\n",
       "      <td>1</td>\n",
       "      <td>0</td>\n",
       "      <td>618</td>\n",
       "    </tr>\n",
       "    <tr>\n",
       "      <th>25998</th>\n",
       "      <td>24350101</td>\n",
       "      <td>2005</td>\n",
       "      <td>1</td>\n",
       "      <td>2</td>\n",
       "      <td>2</td>\n",
       "      <td>1</td>\n",
       "      <td>1940</td>\n",
       "      <td>5</td>\n",
       "      <td>1</td>\n",
       "      <td>2</td>\n",
       "      <td>0</td>\n",
       "      <td>0</td>\n",
       "      <td>0</td>\n",
       "      <td>2468</td>\n",
       "    </tr>\n",
       "    <tr>\n",
       "      <th>3626</th>\n",
       "      <td>3420101</td>\n",
       "      <td>2005</td>\n",
       "      <td>1</td>\n",
       "      <td>1</td>\n",
       "      <td>4</td>\n",
       "      <td>2</td>\n",
       "      <td>1958</td>\n",
       "      <td>4</td>\n",
       "      <td>1</td>\n",
       "      <td>2</td>\n",
       "      <td>422</td>\n",
       "      <td>1</td>\n",
       "      <td>0</td>\n",
       "      <td>2023</td>\n",
       "    </tr>\n",
       "    <tr>\n",
       "      <th>50176</th>\n",
       "      <td>46240101</td>\n",
       "      <td>2005</td>\n",
       "      <td>1</td>\n",
       "      <td>6</td>\n",
       "      <td>1</td>\n",
       "      <td>2</td>\n",
       "      <td>1925</td>\n",
       "      <td>3</td>\n",
       "      <td>2</td>\n",
       "      <td>1</td>\n",
       "      <td>0</td>\n",
       "      <td>0</td>\n",
       "      <td>4</td>\n",
       "      <td>49</td>\n",
       "    </tr>\n",
       "    <tr>\n",
       "      <th>17894</th>\n",
       "      <td>17150101</td>\n",
       "      <td>2005</td>\n",
       "      <td>1</td>\n",
       "      <td>3</td>\n",
       "      <td>6</td>\n",
       "      <td>1</td>\n",
       "      <td>1967</td>\n",
       "      <td>7</td>\n",
       "      <td>1</td>\n",
       "      <td>1</td>\n",
       "      <td>843</td>\n",
       "      <td>1</td>\n",
       "      <td>0</td>\n",
       "      <td>2902</td>\n",
       "    </tr>\n",
       "    <tr>\n",
       "      <th>...</th>\n",
       "      <td>...</td>\n",
       "      <td>...</td>\n",
       "      <td>...</td>\n",
       "      <td>...</td>\n",
       "      <td>...</td>\n",
       "      <td>...</td>\n",
       "      <td>...</td>\n",
       "      <td>...</td>\n",
       "      <td>...</td>\n",
       "      <td>...</td>\n",
       "      <td>...</td>\n",
       "      <td>...</td>\n",
       "      <td>...</td>\n",
       "      <td>...</td>\n",
       "    </tr>\n",
       "    <tr>\n",
       "      <th>59508</th>\n",
       "      <td>53720101</td>\n",
       "      <td>2018</td>\n",
       "      <td>14</td>\n",
       "      <td>7</td>\n",
       "      <td>1</td>\n",
       "      <td>2</td>\n",
       "      <td>1938</td>\n",
       "      <td>4</td>\n",
       "      <td>2</td>\n",
       "      <td>2</td>\n",
       "      <td>0</td>\n",
       "      <td>0</td>\n",
       "      <td>10</td>\n",
       "      <td>1484</td>\n",
       "    </tr>\n",
       "    <tr>\n",
       "      <th>78714</th>\n",
       "      <td>69360101</td>\n",
       "      <td>2018</td>\n",
       "      <td>14</td>\n",
       "      <td>7</td>\n",
       "      <td>2</td>\n",
       "      <td>1</td>\n",
       "      <td>1943</td>\n",
       "      <td>5</td>\n",
       "      <td>1</td>\n",
       "      <td>2</td>\n",
       "      <td>0</td>\n",
       "      <td>0</td>\n",
       "      <td>10</td>\n",
       "      <td>2749</td>\n",
       "    </tr>\n",
       "    <tr>\n",
       "      <th>50162</th>\n",
       "      <td>46220101</td>\n",
       "      <td>2018</td>\n",
       "      <td>14</td>\n",
       "      <td>6</td>\n",
       "      <td>2</td>\n",
       "      <td>1</td>\n",
       "      <td>1938</td>\n",
       "      <td>3</td>\n",
       "      <td>1</td>\n",
       "      <td>2</td>\n",
       "      <td>611</td>\n",
       "      <td>1</td>\n",
       "      <td>0</td>\n",
       "      <td>1212</td>\n",
       "    </tr>\n",
       "    <tr>\n",
       "      <th>89920</th>\n",
       "      <td>93890701</td>\n",
       "      <td>2018</td>\n",
       "      <td>14</td>\n",
       "      <td>4</td>\n",
       "      <td>2</td>\n",
       "      <td>1</td>\n",
       "      <td>1949</td>\n",
       "      <td>4</td>\n",
       "      <td>1</td>\n",
       "      <td>1</td>\n",
       "      <td>611</td>\n",
       "      <td>1</td>\n",
       "      <td>0</td>\n",
       "      <td>3758</td>\n",
       "    </tr>\n",
       "    <tr>\n",
       "      <th>61686</th>\n",
       "      <td>55380101</td>\n",
       "      <td>2018</td>\n",
       "      <td>14</td>\n",
       "      <td>7</td>\n",
       "      <td>1</td>\n",
       "      <td>2</td>\n",
       "      <td>1936</td>\n",
       "      <td>3</td>\n",
       "      <td>2</td>\n",
       "      <td>2</td>\n",
       "      <td>0</td>\n",
       "      <td>0</td>\n",
       "      <td>10</td>\n",
       "      <td>1712</td>\n",
       "    </tr>\n",
       "  </tbody>\n",
       "</table>\n",
       "<p>78928 rows × 14 columns</p>\n",
       "</div>"
      ],
      "text/plain": [
       "             id  year  wave  region  family_member  gender  year_born  \\\n",
       "77530  68460101  2005     1       3              1       2       1940   \n",
       "25998  24350101  2005     1       2              2       1       1940   \n",
       "3626    3420101  2005     1       1              4       2       1958   \n",
       "50176  46240101  2005     1       6              1       2       1925   \n",
       "17894  17150101  2005     1       3              6       1       1967   \n",
       "...         ...   ...   ...     ...            ...     ...        ...   \n",
       "59508  53720101  2018    14       7              1       2       1938   \n",
       "78714  69360101  2018    14       7              2       1       1943   \n",
       "50162  46220101  2018    14       6              2       1       1938   \n",
       "89920  93890701  2018    14       4              2       1       1949   \n",
       "61686  55380101  2018    14       7              1       2       1936   \n",
       "\n",
       "       education_level  marriage  religion  occupation  company_size  \\\n",
       "77530                2         2         1         617             1   \n",
       "25998                5         1         2           0             0   \n",
       "3626                 4         1         2         422             1   \n",
       "50176                3         2         1           0             0   \n",
       "17894                7         1         1         843             1   \n",
       "...                ...       ...       ...         ...           ...   \n",
       "59508                4         2         2           0             0   \n",
       "78714                5         1         2           0             0   \n",
       "50162                3         1         2         611             1   \n",
       "89920                4         1         1         611             1   \n",
       "61686                3         2         2           0             0   \n",
       "\n",
       "       reason_none_worker  income  \n",
       "77530                   0     618  \n",
       "25998                   0    2468  \n",
       "3626                    0    2023  \n",
       "50176                   4      49  \n",
       "17894                   0    2902  \n",
       "...                   ...     ...  \n",
       "59508                  10    1484  \n",
       "78714                  10    2749  \n",
       "50162                   0    1212  \n",
       "89920                   0    3758  \n",
       "61686                  10    1712  \n",
       "\n",
       "[78928 rows x 14 columns]"
      ]
     },
     "execution_count": 8,
     "metadata": {},
     "output_type": "execute_result"
    }
   ],
   "source": [
    "# occupation, company_size를 전처리\n",
    "train = train.replace(' ', np.nan)\n",
    "train.loc[train['company_size'].isnull()==True, 'company_size']='0'\n",
    "train.loc[train['occupation'].isnull()==True, 'occupation']='0'\n",
    "train.loc[train['reason_none_worker'].isnull()==True, 'reason_none_worker']='0'\n",
    "train.loc[train['reason_none_worker']=='99', 'reason_none_worker']='11'\n",
    "train=train.astype('int')    # 결측치를 처리하는 과정에서 'str' type의 column 발생\n",
    "train"
   ]
  },
  {
   "cell_type": "code",
   "execution_count": 9,
   "id": "571ef4a9",
   "metadata": {
    "colab": {
     "base_uri": "https://localhost:8080/",
     "height": 488
    },
    "id": "571ef4a9",
    "outputId": "f999e19c-1c2b-4859-e28d-1cd930dc539e"
   },
   "outputs": [
    {
     "data": {
      "text/html": [
       "<div>\n",
       "<style scoped>\n",
       "    .dataframe tbody tr th:only-of-type {\n",
       "        vertical-align: middle;\n",
       "    }\n",
       "\n",
       "    .dataframe tbody tr th {\n",
       "        vertical-align: top;\n",
       "    }\n",
       "\n",
       "    .dataframe thead th {\n",
       "        text-align: right;\n",
       "    }\n",
       "</style>\n",
       "<table border=\"1\" class=\"dataframe\">\n",
       "  <thead>\n",
       "    <tr style=\"text-align: right;\">\n",
       "      <th></th>\n",
       "      <th>id</th>\n",
       "      <th>year</th>\n",
       "      <th>wave</th>\n",
       "      <th>region</th>\n",
       "      <th>family_member</th>\n",
       "      <th>gender</th>\n",
       "      <th>year_born</th>\n",
       "      <th>education_level</th>\n",
       "      <th>marriage</th>\n",
       "      <th>religion</th>\n",
       "      <th>occupation</th>\n",
       "      <th>company_size</th>\n",
       "      <th>reason_none_worker</th>\n",
       "    </tr>\n",
       "  </thead>\n",
       "  <tbody>\n",
       "    <tr>\n",
       "      <th>51802</th>\n",
       "      <td>47520101</td>\n",
       "      <td>2015</td>\n",
       "      <td>11</td>\n",
       "      <td>2</td>\n",
       "      <td>1</td>\n",
       "      <td>1</td>\n",
       "      <td>1965</td>\n",
       "      <td>5</td>\n",
       "      <td>3</td>\n",
       "      <td>2</td>\n",
       "      <td>873</td>\n",
       "      <td>1</td>\n",
       "      <td>0</td>\n",
       "    </tr>\n",
       "    <tr>\n",
       "      <th>24685</th>\n",
       "      <td>23120101</td>\n",
       "      <td>2015</td>\n",
       "      <td>11</td>\n",
       "      <td>2</td>\n",
       "      <td>4</td>\n",
       "      <td>1</td>\n",
       "      <td>1970</td>\n",
       "      <td>5</td>\n",
       "      <td>1</td>\n",
       "      <td>2</td>\n",
       "      <td>521</td>\n",
       "      <td>1</td>\n",
       "      <td>0</td>\n",
       "    </tr>\n",
       "    <tr>\n",
       "      <th>20910</th>\n",
       "      <td>19780101</td>\n",
       "      <td>2009</td>\n",
       "      <td>5</td>\n",
       "      <td>4</td>\n",
       "      <td>3</td>\n",
       "      <td>1</td>\n",
       "      <td>1946</td>\n",
       "      <td>5</td>\n",
       "      <td>1</td>\n",
       "      <td>2</td>\n",
       "      <td>0</td>\n",
       "      <td>0</td>\n",
       "      <td>10</td>\n",
       "    </tr>\n",
       "    <tr>\n",
       "      <th>24267</th>\n",
       "      <td>22730101</td>\n",
       "      <td>2005</td>\n",
       "      <td>1</td>\n",
       "      <td>2</td>\n",
       "      <td>4</td>\n",
       "      <td>1</td>\n",
       "      <td>1968</td>\n",
       "      <td>7</td>\n",
       "      <td>1</td>\n",
       "      <td>2</td>\n",
       "      <td>9999</td>\n",
       "      <td>10</td>\n",
       "      <td>0</td>\n",
       "    </tr>\n",
       "    <tr>\n",
       "      <th>71797</th>\n",
       "      <td>63660101</td>\n",
       "      <td>2009</td>\n",
       "      <td>5</td>\n",
       "      <td>4</td>\n",
       "      <td>2</td>\n",
       "      <td>1</td>\n",
       "      <td>1942</td>\n",
       "      <td>3</td>\n",
       "      <td>1</td>\n",
       "      <td>1</td>\n",
       "      <td>611</td>\n",
       "      <td>1</td>\n",
       "      <td>0</td>\n",
       "    </tr>\n",
       "    <tr>\n",
       "      <th>...</th>\n",
       "      <td>...</td>\n",
       "      <td>...</td>\n",
       "      <td>...</td>\n",
       "      <td>...</td>\n",
       "      <td>...</td>\n",
       "      <td>...</td>\n",
       "      <td>...</td>\n",
       "      <td>...</td>\n",
       "      <td>...</td>\n",
       "      <td>...</td>\n",
       "      <td>...</td>\n",
       "      <td>...</td>\n",
       "      <td>...</td>\n",
       "    </tr>\n",
       "    <tr>\n",
       "      <th>38521</th>\n",
       "      <td>35540101</td>\n",
       "      <td>2008</td>\n",
       "      <td>4</td>\n",
       "      <td>2</td>\n",
       "      <td>3</td>\n",
       "      <td>1</td>\n",
       "      <td>1975</td>\n",
       "      <td>5</td>\n",
       "      <td>1</td>\n",
       "      <td>2</td>\n",
       "      <td>821</td>\n",
       "      <td>3</td>\n",
       "      <td>0</td>\n",
       "    </tr>\n",
       "    <tr>\n",
       "      <th>50641</th>\n",
       "      <td>46650101</td>\n",
       "      <td>2009</td>\n",
       "      <td>5</td>\n",
       "      <td>6</td>\n",
       "      <td>3</td>\n",
       "      <td>1</td>\n",
       "      <td>1952</td>\n",
       "      <td>4</td>\n",
       "      <td>1</td>\n",
       "      <td>2</td>\n",
       "      <td>922</td>\n",
       "      <td>1</td>\n",
       "      <td>0</td>\n",
       "    </tr>\n",
       "    <tr>\n",
       "      <th>49905</th>\n",
       "      <td>46060101</td>\n",
       "      <td>2005</td>\n",
       "      <td>1</td>\n",
       "      <td>6</td>\n",
       "      <td>1</td>\n",
       "      <td>2</td>\n",
       "      <td>1942</td>\n",
       "      <td>3</td>\n",
       "      <td>3</td>\n",
       "      <td>2</td>\n",
       "      <td>0</td>\n",
       "      <td>0</td>\n",
       "      <td>1</td>\n",
       "    </tr>\n",
       "    <tr>\n",
       "      <th>30391</th>\n",
       "      <td>28220101</td>\n",
       "      <td>2007</td>\n",
       "      <td>3</td>\n",
       "      <td>7</td>\n",
       "      <td>4</td>\n",
       "      <td>1</td>\n",
       "      <td>1952</td>\n",
       "      <td>3</td>\n",
       "      <td>1</td>\n",
       "      <td>2</td>\n",
       "      <td>941</td>\n",
       "      <td>3</td>\n",
       "      <td>0</td>\n",
       "    </tr>\n",
       "    <tr>\n",
       "      <th>23628</th>\n",
       "      <td>22140101</td>\n",
       "      <td>2016</td>\n",
       "      <td>12</td>\n",
       "      <td>4</td>\n",
       "      <td>1</td>\n",
       "      <td>2</td>\n",
       "      <td>1950</td>\n",
       "      <td>3</td>\n",
       "      <td>2</td>\n",
       "      <td>1</td>\n",
       "      <td>0</td>\n",
       "      <td>0</td>\n",
       "      <td>10</td>\n",
       "    </tr>\n",
       "  </tbody>\n",
       "</table>\n",
       "<p>13929 rows × 13 columns</p>\n",
       "</div>"
      ],
      "text/plain": [
       "             id  year  wave  region  family_member  gender  year_born  \\\n",
       "51802  47520101  2015    11       2              1       1       1965   \n",
       "24685  23120101  2015    11       2              4       1       1970   \n",
       "20910  19780101  2009     5       4              3       1       1946   \n",
       "24267  22730101  2005     1       2              4       1       1968   \n",
       "71797  63660101  2009     5       4              2       1       1942   \n",
       "...         ...   ...   ...     ...            ...     ...        ...   \n",
       "38521  35540101  2008     4       2              3       1       1975   \n",
       "50641  46650101  2009     5       6              3       1       1952   \n",
       "49905  46060101  2005     1       6              1       2       1942   \n",
       "30391  28220101  2007     3       7              4       1       1952   \n",
       "23628  22140101  2016    12       4              1       2       1950   \n",
       "\n",
       "       education_level  marriage  religion  occupation  company_size  \\\n",
       "51802                5         3         2         873             1   \n",
       "24685                5         1         2         521             1   \n",
       "20910                5         1         2           0             0   \n",
       "24267                7         1         2        9999            10   \n",
       "71797                3         1         1         611             1   \n",
       "...                ...       ...       ...         ...           ...   \n",
       "38521                5         1         2         821             3   \n",
       "50641                4         1         2         922             1   \n",
       "49905                3         3         2           0             0   \n",
       "30391                3         1         2         941             3   \n",
       "23628                3         2         1           0             0   \n",
       "\n",
       "       reason_none_worker  \n",
       "51802                   0  \n",
       "24685                   0  \n",
       "20910                  10  \n",
       "24267                   0  \n",
       "71797                   0  \n",
       "...                   ...  \n",
       "38521                   0  \n",
       "50641                   0  \n",
       "49905                   1  \n",
       "30391                   0  \n",
       "23628                  10  \n",
       "\n",
       "[13929 rows x 13 columns]"
      ]
     },
     "execution_count": 9,
     "metadata": {},
     "output_type": "execute_result"
    }
   ],
   "source": [
    "test = test.replace(' ', np.nan)\n",
    "test.loc[test['company_size'].isnull()==True, 'company_size']='0'\n",
    "test.loc[test['occupation'].isnull()==True, 'occupation']='0'\n",
    "test.loc[test['reason_none_worker'].isnull()==True, 'reason_none_worker']='0'\n",
    "test.loc[test['reason_none_worker']=='99', 'reason_none_worker']='11'\n",
    "test=test.astype('int')    # 결측치를 처리하는 과정에서 'str' type의 column 발생\n",
    "test"
   ]
  },
  {
   "cell_type": "code",
   "execution_count": 10,
   "id": "378444bd",
   "metadata": {
    "id": "378444bd"
   },
   "outputs": [],
   "source": [
    "train=train[['income','year','wave','region','family_member','gender','year_born','education_level','company_size','reason_none_worker']]\n",
    "test=test[['year','wave','region','family_member','gender','year_born','education_level','company_size','reason_none_worker']]\n",
    "# income : 예측해야하는 값\n",
    "# year, year_born: 나이를 구할 예정\n",
    "# wave : 시대마다 물가가 다르므로, 예측한 값들에 물가를 적용시킬 예정\n",
    "# region : 지역마다 income이 다를 것으로 예상\n",
    "# family_member : 가족구성원에 따라 income이 다를 것으로 예상\n",
    "# gender : 성별에 다라 income에 차이가 있을 것으로 예상\n",
    "# education_level : 받은 교육의 수준에 따라 income에 차이가 있을 것으로 예상\n",
    "# company_size"
   ]
  },
  {
   "cell_type": "code",
   "execution_count": 11,
   "id": "b18c1902",
   "metadata": {
    "id": "b18c1902"
   },
   "outputs": [],
   "source": [
    "train=train[train.income>=0]\n",
    "train=train[train.income<=20000]\n",
    "\n",
    "# outlier 제거"
   ]
  },
  {
   "cell_type": "code",
   "execution_count": 12,
   "id": "facb8b61",
   "metadata": {
    "colab": {
     "base_uri": "https://localhost:8080/"
    },
    "id": "facb8b61",
    "outputId": "c6ec12f7-cc15-4e31-e1ea-ee11390ec4f7"
   },
   "outputs": [
    {
     "name": "stdout",
     "output_type": "stream",
     "text": [
      "Int64Index([1, 2], dtype='int64')\n",
      "Int64Index([1, 2], dtype='int64')\n"
     ]
    }
   ],
   "source": [
    "print(train['gender'].value_counts().index)\n",
    "print(test['gender'].value_counts().index)"
   ]
  },
  {
   "cell_type": "code",
   "execution_count": 13,
   "id": "mWK0KJ_HHCfb",
   "metadata": {
    "colab": {
     "base_uri": "https://localhost:8080/",
     "height": 206
    },
    "id": "mWK0KJ_HHCfb",
    "outputId": "eeb5254f-b68c-43ad-d67d-0812770d0e2a"
   },
   "outputs": [
    {
     "data": {
      "text/html": [
       "<div>\n",
       "<style scoped>\n",
       "    .dataframe tbody tr th:only-of-type {\n",
       "        vertical-align: middle;\n",
       "    }\n",
       "\n",
       "    .dataframe tbody tr th {\n",
       "        vertical-align: top;\n",
       "    }\n",
       "\n",
       "    .dataframe thead th {\n",
       "        text-align: right;\n",
       "    }\n",
       "</style>\n",
       "<table border=\"1\" class=\"dataframe\">\n",
       "  <thead>\n",
       "    <tr style=\"text-align: right;\">\n",
       "      <th></th>\n",
       "      <th>income</th>\n",
       "      <th>year</th>\n",
       "      <th>wave</th>\n",
       "      <th>region</th>\n",
       "      <th>family_member</th>\n",
       "      <th>year_born</th>\n",
       "      <th>education_level</th>\n",
       "      <th>company_size</th>\n",
       "      <th>reason_none_worker</th>\n",
       "      <th>gender_1</th>\n",
       "      <th>gender_2</th>\n",
       "    </tr>\n",
       "  </thead>\n",
       "  <tbody>\n",
       "    <tr>\n",
       "      <th>77530</th>\n",
       "      <td>618</td>\n",
       "      <td>2005</td>\n",
       "      <td>1</td>\n",
       "      <td>3</td>\n",
       "      <td>1</td>\n",
       "      <td>1940</td>\n",
       "      <td>2</td>\n",
       "      <td>1</td>\n",
       "      <td>0</td>\n",
       "      <td>0</td>\n",
       "      <td>1</td>\n",
       "    </tr>\n",
       "    <tr>\n",
       "      <th>25998</th>\n",
       "      <td>2468</td>\n",
       "      <td>2005</td>\n",
       "      <td>1</td>\n",
       "      <td>2</td>\n",
       "      <td>2</td>\n",
       "      <td>1940</td>\n",
       "      <td>5</td>\n",
       "      <td>0</td>\n",
       "      <td>0</td>\n",
       "      <td>1</td>\n",
       "      <td>0</td>\n",
       "    </tr>\n",
       "    <tr>\n",
       "      <th>3626</th>\n",
       "      <td>2023</td>\n",
       "      <td>2005</td>\n",
       "      <td>1</td>\n",
       "      <td>1</td>\n",
       "      <td>4</td>\n",
       "      <td>1958</td>\n",
       "      <td>4</td>\n",
       "      <td>1</td>\n",
       "      <td>0</td>\n",
       "      <td>0</td>\n",
       "      <td>1</td>\n",
       "    </tr>\n",
       "    <tr>\n",
       "      <th>50176</th>\n",
       "      <td>49</td>\n",
       "      <td>2005</td>\n",
       "      <td>1</td>\n",
       "      <td>6</td>\n",
       "      <td>1</td>\n",
       "      <td>1925</td>\n",
       "      <td>3</td>\n",
       "      <td>0</td>\n",
       "      <td>4</td>\n",
       "      <td>0</td>\n",
       "      <td>1</td>\n",
       "    </tr>\n",
       "    <tr>\n",
       "      <th>17894</th>\n",
       "      <td>2902</td>\n",
       "      <td>2005</td>\n",
       "      <td>1</td>\n",
       "      <td>3</td>\n",
       "      <td>6</td>\n",
       "      <td>1967</td>\n",
       "      <td>7</td>\n",
       "      <td>1</td>\n",
       "      <td>0</td>\n",
       "      <td>1</td>\n",
       "      <td>0</td>\n",
       "    </tr>\n",
       "  </tbody>\n",
       "</table>\n",
       "</div>"
      ],
      "text/plain": [
       "       income  year  wave  region  family_member  year_born  education_level  \\\n",
       "77530     618  2005     1       3              1       1940                2   \n",
       "25998    2468  2005     1       2              2       1940                5   \n",
       "3626     2023  2005     1       1              4       1958                4   \n",
       "50176      49  2005     1       6              1       1925                3   \n",
       "17894    2902  2005     1       3              6       1967                7   \n",
       "\n",
       "       company_size  reason_none_worker  gender_1  gender_2  \n",
       "77530             1                   0         0         1  \n",
       "25998             0                   0         1         0  \n",
       "3626              1                   0         0         1  \n",
       "50176             0                   4         0         1  \n",
       "17894             1                   0         1         0  "
      ]
     },
     "execution_count": 13,
     "metadata": {},
     "output_type": "execute_result"
    }
   ],
   "source": [
    "gender_list = [1, 2]\n",
    "for A in gender_list:\n",
    "    train['gender_' +f'{A}']=train['gender']==A\n",
    "for A in range(1,3):\n",
    "    train['gender_' +f'{A}'] = train['gender_' +f'{A}'].astype(int)\n",
    "train=train.drop(['gender'],axis=1)\n",
    "train.head()\n",
    "# gender 변수에 대하여 더미변수 생성"
   ]
  },
  {
   "cell_type": "code",
   "execution_count": 14,
   "id": "0enRBsbyGJik",
   "metadata": {
    "colab": {
     "base_uri": "https://localhost:8080/",
     "height": 430
    },
    "id": "0enRBsbyGJik",
    "outputId": "8d9f7abe-8b6a-4276-f098-322f6a7b87ca"
   },
   "outputs": [
    {
     "name": "stderr",
     "output_type": "stream",
     "text": [
      "C:\\Users\\ohds\\AppData\\Local\\Temp/ipykernel_7268/2538610517.py:3: SettingWithCopyWarning: \n",
      "A value is trying to be set on a copy of a slice from a DataFrame.\n",
      "Try using .loc[row_indexer,col_indexer] = value instead\n",
      "\n",
      "See the caveats in the documentation: https://pandas.pydata.org/pandas-docs/stable/user_guide/indexing.html#returning-a-view-versus-a-copy\n",
      "  test['gender_' +f'{A}']=test['gender']==A\n",
      "C:\\Users\\ohds\\AppData\\Local\\Temp/ipykernel_7268/2538610517.py:5: SettingWithCopyWarning: \n",
      "A value is trying to be set on a copy of a slice from a DataFrame.\n",
      "Try using .loc[row_indexer,col_indexer] = value instead\n",
      "\n",
      "See the caveats in the documentation: https://pandas.pydata.org/pandas-docs/stable/user_guide/indexing.html#returning-a-view-versus-a-copy\n",
      "  test['gender_' +f'{A}']=test['gender_' +f'{A}'].astype(int)\n"
     ]
    },
    {
     "data": {
      "text/html": [
       "<div>\n",
       "<style scoped>\n",
       "    .dataframe tbody tr th:only-of-type {\n",
       "        vertical-align: middle;\n",
       "    }\n",
       "\n",
       "    .dataframe tbody tr th {\n",
       "        vertical-align: top;\n",
       "    }\n",
       "\n",
       "    .dataframe thead th {\n",
       "        text-align: right;\n",
       "    }\n",
       "</style>\n",
       "<table border=\"1\" class=\"dataframe\">\n",
       "  <thead>\n",
       "    <tr style=\"text-align: right;\">\n",
       "      <th></th>\n",
       "      <th>year</th>\n",
       "      <th>wave</th>\n",
       "      <th>region</th>\n",
       "      <th>family_member</th>\n",
       "      <th>year_born</th>\n",
       "      <th>education_level</th>\n",
       "      <th>company_size</th>\n",
       "      <th>reason_none_worker</th>\n",
       "      <th>gender_1</th>\n",
       "      <th>gender_2</th>\n",
       "    </tr>\n",
       "  </thead>\n",
       "  <tbody>\n",
       "    <tr>\n",
       "      <th>51802</th>\n",
       "      <td>2015</td>\n",
       "      <td>11</td>\n",
       "      <td>2</td>\n",
       "      <td>1</td>\n",
       "      <td>1965</td>\n",
       "      <td>5</td>\n",
       "      <td>1</td>\n",
       "      <td>0</td>\n",
       "      <td>1</td>\n",
       "      <td>0</td>\n",
       "    </tr>\n",
       "    <tr>\n",
       "      <th>24685</th>\n",
       "      <td>2015</td>\n",
       "      <td>11</td>\n",
       "      <td>2</td>\n",
       "      <td>4</td>\n",
       "      <td>1970</td>\n",
       "      <td>5</td>\n",
       "      <td>1</td>\n",
       "      <td>0</td>\n",
       "      <td>1</td>\n",
       "      <td>0</td>\n",
       "    </tr>\n",
       "    <tr>\n",
       "      <th>20910</th>\n",
       "      <td>2009</td>\n",
       "      <td>5</td>\n",
       "      <td>4</td>\n",
       "      <td>3</td>\n",
       "      <td>1946</td>\n",
       "      <td>5</td>\n",
       "      <td>0</td>\n",
       "      <td>10</td>\n",
       "      <td>1</td>\n",
       "      <td>0</td>\n",
       "    </tr>\n",
       "    <tr>\n",
       "      <th>24267</th>\n",
       "      <td>2005</td>\n",
       "      <td>1</td>\n",
       "      <td>2</td>\n",
       "      <td>4</td>\n",
       "      <td>1968</td>\n",
       "      <td>7</td>\n",
       "      <td>10</td>\n",
       "      <td>0</td>\n",
       "      <td>1</td>\n",
       "      <td>0</td>\n",
       "    </tr>\n",
       "    <tr>\n",
       "      <th>71797</th>\n",
       "      <td>2009</td>\n",
       "      <td>5</td>\n",
       "      <td>4</td>\n",
       "      <td>2</td>\n",
       "      <td>1942</td>\n",
       "      <td>3</td>\n",
       "      <td>1</td>\n",
       "      <td>0</td>\n",
       "      <td>1</td>\n",
       "      <td>0</td>\n",
       "    </tr>\n",
       "  </tbody>\n",
       "</table>\n",
       "</div>"
      ],
      "text/plain": [
       "       year  wave  region  family_member  year_born  education_level  \\\n",
       "51802  2015    11       2              1       1965                5   \n",
       "24685  2015    11       2              4       1970                5   \n",
       "20910  2009     5       4              3       1946                5   \n",
       "24267  2005     1       2              4       1968                7   \n",
       "71797  2009     5       4              2       1942                3   \n",
       "\n",
       "       company_size  reason_none_worker  gender_1  gender_2  \n",
       "51802             1                   0         1         0  \n",
       "24685             1                   0         1         0  \n",
       "20910             0                  10         1         0  \n",
       "24267            10                   0         1         0  \n",
       "71797             1                   0         1         0  "
      ]
     },
     "execution_count": 14,
     "metadata": {},
     "output_type": "execute_result"
    }
   ],
   "source": [
    "gender_list = [1, 2]\n",
    "for A in gender_list:\n",
    "    test['gender_' +f'{A}']=test['gender']==A\n",
    "for A in range(1,3):\n",
    "    test['gender_' +f'{A}']=test['gender_' +f'{A}'].astype(int)\n",
    "test=test.drop(['gender'],axis=1)\n",
    "test.head()\n",
    "# gender 변수에 대하여 더미변수 생성"
   ]
  },
  {
   "cell_type": "code",
   "execution_count": 15,
   "id": "yHbwQPJ0RxDK",
   "metadata": {
    "id": "yHbwQPJ0RxDK"
   },
   "outputs": [],
   "source": [
    "log_income = np.log1p(train['income'])\n",
    "train['log_income']=log_income"
   ]
  },
  {
   "cell_type": "code",
   "execution_count": 16,
   "id": "fd14996a",
   "metadata": {
    "colab": {
     "base_uri": "https://localhost:8080/"
    },
    "id": "fd14996a",
    "outputId": "4ab5f302-cc59-4347-f063-587bc4ace806"
   },
   "outputs": [
    {
     "name": "stdout",
     "output_type": "stream",
     "text": [
      "Int64Index([2, 3, 7, 1, 4, 5, 6], dtype='int64')\n",
      "Int64Index([2, 3, 7, 1, 4, 5, 6], dtype='int64')\n"
     ]
    }
   ],
   "source": [
    "print(train['region'].value_counts().index)\n",
    "print(test['region'].value_counts().index)"
   ]
  },
  {
   "cell_type": "code",
   "execution_count": 17,
   "id": "cb6773d1",
   "metadata": {
    "colab": {
     "base_uri": "https://localhost:8080/",
     "height": 270
    },
    "id": "cb6773d1",
    "outputId": "68593974-5aac-4632-fc26-44efdc7be78e",
    "scrolled": false
   },
   "outputs": [
    {
     "data": {
      "text/html": [
       "<div>\n",
       "<style scoped>\n",
       "    .dataframe tbody tr th:only-of-type {\n",
       "        vertical-align: middle;\n",
       "    }\n",
       "\n",
       "    .dataframe tbody tr th {\n",
       "        vertical-align: top;\n",
       "    }\n",
       "\n",
       "    .dataframe thead th {\n",
       "        text-align: right;\n",
       "    }\n",
       "</style>\n",
       "<table border=\"1\" class=\"dataframe\">\n",
       "  <thead>\n",
       "    <tr style=\"text-align: right;\">\n",
       "      <th></th>\n",
       "      <th>income</th>\n",
       "      <th>year</th>\n",
       "      <th>wave</th>\n",
       "      <th>family_member</th>\n",
       "      <th>year_born</th>\n",
       "      <th>education_level</th>\n",
       "      <th>company_size</th>\n",
       "      <th>reason_none_worker</th>\n",
       "      <th>gender_1</th>\n",
       "      <th>gender_2</th>\n",
       "      <th>log_income</th>\n",
       "      <th>region_1</th>\n",
       "      <th>region_2</th>\n",
       "      <th>region_3</th>\n",
       "      <th>region_4</th>\n",
       "      <th>region_5</th>\n",
       "      <th>region_6</th>\n",
       "      <th>region_7</th>\n",
       "    </tr>\n",
       "  </thead>\n",
       "  <tbody>\n",
       "    <tr>\n",
       "      <th>77530</th>\n",
       "      <td>618</td>\n",
       "      <td>2005</td>\n",
       "      <td>1</td>\n",
       "      <td>1</td>\n",
       "      <td>1940</td>\n",
       "      <td>2</td>\n",
       "      <td>1</td>\n",
       "      <td>0</td>\n",
       "      <td>0</td>\n",
       "      <td>1</td>\n",
       "      <td>6.428105</td>\n",
       "      <td>0</td>\n",
       "      <td>0</td>\n",
       "      <td>1</td>\n",
       "      <td>0</td>\n",
       "      <td>0</td>\n",
       "      <td>0</td>\n",
       "      <td>0</td>\n",
       "    </tr>\n",
       "    <tr>\n",
       "      <th>25998</th>\n",
       "      <td>2468</td>\n",
       "      <td>2005</td>\n",
       "      <td>1</td>\n",
       "      <td>2</td>\n",
       "      <td>1940</td>\n",
       "      <td>5</td>\n",
       "      <td>0</td>\n",
       "      <td>0</td>\n",
       "      <td>1</td>\n",
       "      <td>0</td>\n",
       "      <td>7.811568</td>\n",
       "      <td>0</td>\n",
       "      <td>1</td>\n",
       "      <td>0</td>\n",
       "      <td>0</td>\n",
       "      <td>0</td>\n",
       "      <td>0</td>\n",
       "      <td>0</td>\n",
       "    </tr>\n",
       "    <tr>\n",
       "      <th>3626</th>\n",
       "      <td>2023</td>\n",
       "      <td>2005</td>\n",
       "      <td>1</td>\n",
       "      <td>4</td>\n",
       "      <td>1958</td>\n",
       "      <td>4</td>\n",
       "      <td>1</td>\n",
       "      <td>0</td>\n",
       "      <td>0</td>\n",
       "      <td>1</td>\n",
       "      <td>7.612831</td>\n",
       "      <td>1</td>\n",
       "      <td>0</td>\n",
       "      <td>0</td>\n",
       "      <td>0</td>\n",
       "      <td>0</td>\n",
       "      <td>0</td>\n",
       "      <td>0</td>\n",
       "    </tr>\n",
       "    <tr>\n",
       "      <th>50176</th>\n",
       "      <td>49</td>\n",
       "      <td>2005</td>\n",
       "      <td>1</td>\n",
       "      <td>1</td>\n",
       "      <td>1925</td>\n",
       "      <td>3</td>\n",
       "      <td>0</td>\n",
       "      <td>4</td>\n",
       "      <td>0</td>\n",
       "      <td>1</td>\n",
       "      <td>3.912023</td>\n",
       "      <td>0</td>\n",
       "      <td>0</td>\n",
       "      <td>0</td>\n",
       "      <td>0</td>\n",
       "      <td>0</td>\n",
       "      <td>1</td>\n",
       "      <td>0</td>\n",
       "    </tr>\n",
       "    <tr>\n",
       "      <th>17894</th>\n",
       "      <td>2902</td>\n",
       "      <td>2005</td>\n",
       "      <td>1</td>\n",
       "      <td>6</td>\n",
       "      <td>1967</td>\n",
       "      <td>7</td>\n",
       "      <td>1</td>\n",
       "      <td>0</td>\n",
       "      <td>1</td>\n",
       "      <td>0</td>\n",
       "      <td>7.973500</td>\n",
       "      <td>0</td>\n",
       "      <td>0</td>\n",
       "      <td>1</td>\n",
       "      <td>0</td>\n",
       "      <td>0</td>\n",
       "      <td>0</td>\n",
       "      <td>0</td>\n",
       "    </tr>\n",
       "  </tbody>\n",
       "</table>\n",
       "</div>"
      ],
      "text/plain": [
       "       income  year  wave  family_member  year_born  education_level  \\\n",
       "77530     618  2005     1              1       1940                2   \n",
       "25998    2468  2005     1              2       1940                5   \n",
       "3626     2023  2005     1              4       1958                4   \n",
       "50176      49  2005     1              1       1925                3   \n",
       "17894    2902  2005     1              6       1967                7   \n",
       "\n",
       "       company_size  reason_none_worker  gender_1  gender_2  log_income  \\\n",
       "77530             1                   0         0         1    6.428105   \n",
       "25998             0                   0         1         0    7.811568   \n",
       "3626              1                   0         0         1    7.612831   \n",
       "50176             0                   4         0         1    3.912023   \n",
       "17894             1                   0         1         0    7.973500   \n",
       "\n",
       "       region_1  region_2  region_3  region_4  region_5  region_6  region_7  \n",
       "77530         0         0         1         0         0         0         0  \n",
       "25998         0         1         0         0         0         0         0  \n",
       "3626          1         0         0         0         0         0         0  \n",
       "50176         0         0         0         0         0         1         0  \n",
       "17894         0         0         1         0         0         0         0  "
      ]
     },
     "execution_count": 17,
     "metadata": {},
     "output_type": "execute_result"
    }
   ],
   "source": [
    "region_list = [1,2,3,4,5,6,7]\n",
    "for A in region_list:\n",
    "    train['region_' +f'{A}']=train['region']==A\n",
    "for A in range(1,8):\n",
    "    train['region_' +f'{A}'] = train['region_' +f'{A}'].astype(int)\n",
    "train=train.drop(['region'],axis=1)\n",
    "train.head()\n",
    "\n",
    "# region 변수에 대하여 더미변수 생성"
   ]
  },
  {
   "cell_type": "code",
   "execution_count": 18,
   "id": "22du1VpfGQdL",
   "metadata": {
    "colab": {
     "base_uri": "https://localhost:8080/",
     "height": 270
    },
    "id": "22du1VpfGQdL",
    "outputId": "d97086fb-d523-4702-abda-8a733c2174bb"
   },
   "outputs": [
    {
     "data": {
      "text/html": [
       "<div>\n",
       "<style scoped>\n",
       "    .dataframe tbody tr th:only-of-type {\n",
       "        vertical-align: middle;\n",
       "    }\n",
       "\n",
       "    .dataframe tbody tr th {\n",
       "        vertical-align: top;\n",
       "    }\n",
       "\n",
       "    .dataframe thead th {\n",
       "        text-align: right;\n",
       "    }\n",
       "</style>\n",
       "<table border=\"1\" class=\"dataframe\">\n",
       "  <thead>\n",
       "    <tr style=\"text-align: right;\">\n",
       "      <th></th>\n",
       "      <th>year</th>\n",
       "      <th>wave</th>\n",
       "      <th>family_member</th>\n",
       "      <th>year_born</th>\n",
       "      <th>education_level</th>\n",
       "      <th>company_size</th>\n",
       "      <th>reason_none_worker</th>\n",
       "      <th>gender_1</th>\n",
       "      <th>gender_2</th>\n",
       "      <th>region_1</th>\n",
       "      <th>region_2</th>\n",
       "      <th>region_3</th>\n",
       "      <th>region_4</th>\n",
       "      <th>region_5</th>\n",
       "      <th>region_6</th>\n",
       "      <th>region_7</th>\n",
       "    </tr>\n",
       "  </thead>\n",
       "  <tbody>\n",
       "    <tr>\n",
       "      <th>51802</th>\n",
       "      <td>2015</td>\n",
       "      <td>11</td>\n",
       "      <td>1</td>\n",
       "      <td>1965</td>\n",
       "      <td>5</td>\n",
       "      <td>1</td>\n",
       "      <td>0</td>\n",
       "      <td>1</td>\n",
       "      <td>0</td>\n",
       "      <td>0</td>\n",
       "      <td>1</td>\n",
       "      <td>0</td>\n",
       "      <td>0</td>\n",
       "      <td>0</td>\n",
       "      <td>0</td>\n",
       "      <td>0</td>\n",
       "    </tr>\n",
       "    <tr>\n",
       "      <th>24685</th>\n",
       "      <td>2015</td>\n",
       "      <td>11</td>\n",
       "      <td>4</td>\n",
       "      <td>1970</td>\n",
       "      <td>5</td>\n",
       "      <td>1</td>\n",
       "      <td>0</td>\n",
       "      <td>1</td>\n",
       "      <td>0</td>\n",
       "      <td>0</td>\n",
       "      <td>1</td>\n",
       "      <td>0</td>\n",
       "      <td>0</td>\n",
       "      <td>0</td>\n",
       "      <td>0</td>\n",
       "      <td>0</td>\n",
       "    </tr>\n",
       "    <tr>\n",
       "      <th>20910</th>\n",
       "      <td>2009</td>\n",
       "      <td>5</td>\n",
       "      <td>3</td>\n",
       "      <td>1946</td>\n",
       "      <td>5</td>\n",
       "      <td>0</td>\n",
       "      <td>10</td>\n",
       "      <td>1</td>\n",
       "      <td>0</td>\n",
       "      <td>0</td>\n",
       "      <td>0</td>\n",
       "      <td>0</td>\n",
       "      <td>1</td>\n",
       "      <td>0</td>\n",
       "      <td>0</td>\n",
       "      <td>0</td>\n",
       "    </tr>\n",
       "    <tr>\n",
       "      <th>24267</th>\n",
       "      <td>2005</td>\n",
       "      <td>1</td>\n",
       "      <td>4</td>\n",
       "      <td>1968</td>\n",
       "      <td>7</td>\n",
       "      <td>10</td>\n",
       "      <td>0</td>\n",
       "      <td>1</td>\n",
       "      <td>0</td>\n",
       "      <td>0</td>\n",
       "      <td>1</td>\n",
       "      <td>0</td>\n",
       "      <td>0</td>\n",
       "      <td>0</td>\n",
       "      <td>0</td>\n",
       "      <td>0</td>\n",
       "    </tr>\n",
       "    <tr>\n",
       "      <th>71797</th>\n",
       "      <td>2009</td>\n",
       "      <td>5</td>\n",
       "      <td>2</td>\n",
       "      <td>1942</td>\n",
       "      <td>3</td>\n",
       "      <td>1</td>\n",
       "      <td>0</td>\n",
       "      <td>1</td>\n",
       "      <td>0</td>\n",
       "      <td>0</td>\n",
       "      <td>0</td>\n",
       "      <td>0</td>\n",
       "      <td>1</td>\n",
       "      <td>0</td>\n",
       "      <td>0</td>\n",
       "      <td>0</td>\n",
       "    </tr>\n",
       "  </tbody>\n",
       "</table>\n",
       "</div>"
      ],
      "text/plain": [
       "       year  wave  family_member  year_born  education_level  company_size  \\\n",
       "51802  2015    11              1       1965                5             1   \n",
       "24685  2015    11              4       1970                5             1   \n",
       "20910  2009     5              3       1946                5             0   \n",
       "24267  2005     1              4       1968                7            10   \n",
       "71797  2009     5              2       1942                3             1   \n",
       "\n",
       "       reason_none_worker  gender_1  gender_2  region_1  region_2  region_3  \\\n",
       "51802                   0         1         0         0         1         0   \n",
       "24685                   0         1         0         0         1         0   \n",
       "20910                  10         1         0         0         0         0   \n",
       "24267                   0         1         0         0         1         0   \n",
       "71797                   0         1         0         0         0         0   \n",
       "\n",
       "       region_4  region_5  region_6  region_7  \n",
       "51802         0         0         0         0  \n",
       "24685         0         0         0         0  \n",
       "20910         1         0         0         0  \n",
       "24267         0         0         0         0  \n",
       "71797         1         0         0         0  "
      ]
     },
     "execution_count": 18,
     "metadata": {},
     "output_type": "execute_result"
    }
   ],
   "source": [
    "region_list = [1,2,3,4,5,6,7]\n",
    "for A in region_list:\n",
    "    test['region_' +f'{A}']=test['region']==A\n",
    "for A in range(1,8):\n",
    "    test['region_' +f'{A}'] = test['region_' +f'{A}'].astype(int)\n",
    "test=test.drop(['region'],axis=1)\n",
    "test.head()\n",
    "\n",
    "# region 변수에 대하여 더미변수 생성"
   ]
  },
  {
   "cell_type": "code",
   "execution_count": 19,
   "id": "ebc62924",
   "metadata": {
    "colab": {
     "base_uri": "https://localhost:8080/"
    },
    "id": "ebc62924",
    "outputId": "e4a781e2-aebe-4cd7-94af-825ed3aeb6b8"
   },
   "outputs": [
    {
     "name": "stdout",
     "output_type": "stream",
     "text": [
      "Int64Index([0, 10, 8, 9, 1, 7, 6, 4, 5, 11, 3, 2], dtype='int64')\n",
      "Int64Index([0, 10, 8, 9, 1, 7, 6, 4, 11, 5, 3], dtype='int64')\n"
     ]
    }
   ],
   "source": [
    "print(train['reason_none_worker'].value_counts().index)\n",
    "print(test['reason_none_worker'].value_counts().index)"
   ]
  },
  {
   "cell_type": "code",
   "execution_count": 20,
   "id": "d2483e30",
   "metadata": {
    "colab": {
     "base_uri": "https://localhost:8080/",
     "height": 299
    },
    "id": "d2483e30",
    "outputId": "9cf2fc27-1efb-4023-881f-c1a84c0f5756"
   },
   "outputs": [
    {
     "data": {
      "text/html": [
       "<div>\n",
       "<style scoped>\n",
       "    .dataframe tbody tr th:only-of-type {\n",
       "        vertical-align: middle;\n",
       "    }\n",
       "\n",
       "    .dataframe tbody tr th {\n",
       "        vertical-align: top;\n",
       "    }\n",
       "\n",
       "    .dataframe thead th {\n",
       "        text-align: right;\n",
       "    }\n",
       "</style>\n",
       "<table border=\"1\" class=\"dataframe\">\n",
       "  <thead>\n",
       "    <tr style=\"text-align: right;\">\n",
       "      <th></th>\n",
       "      <th>income</th>\n",
       "      <th>year</th>\n",
       "      <th>wave</th>\n",
       "      <th>family_member</th>\n",
       "      <th>year_born</th>\n",
       "      <th>education_level</th>\n",
       "      <th>company_size</th>\n",
       "      <th>gender_1</th>\n",
       "      <th>gender_2</th>\n",
       "      <th>log_income</th>\n",
       "      <th>...</th>\n",
       "      <th>reason_none_worker_2</th>\n",
       "      <th>reason_none_worker_3</th>\n",
       "      <th>reason_none_worker_4</th>\n",
       "      <th>reason_none_worker_5</th>\n",
       "      <th>reason_none_worker_6</th>\n",
       "      <th>reason_none_worker_7</th>\n",
       "      <th>reason_none_worker_8</th>\n",
       "      <th>reason_none_worker_9</th>\n",
       "      <th>reason_none_worker_10</th>\n",
       "      <th>reason_none_worker_11</th>\n",
       "    </tr>\n",
       "  </thead>\n",
       "  <tbody>\n",
       "    <tr>\n",
       "      <th>77530</th>\n",
       "      <td>618</td>\n",
       "      <td>2005</td>\n",
       "      <td>1</td>\n",
       "      <td>1</td>\n",
       "      <td>1940</td>\n",
       "      <td>2</td>\n",
       "      <td>1</td>\n",
       "      <td>0</td>\n",
       "      <td>1</td>\n",
       "      <td>6.428105</td>\n",
       "      <td>...</td>\n",
       "      <td>0</td>\n",
       "      <td>0</td>\n",
       "      <td>0</td>\n",
       "      <td>0</td>\n",
       "      <td>0</td>\n",
       "      <td>0</td>\n",
       "      <td>0</td>\n",
       "      <td>0</td>\n",
       "      <td>0</td>\n",
       "      <td>0</td>\n",
       "    </tr>\n",
       "    <tr>\n",
       "      <th>25998</th>\n",
       "      <td>2468</td>\n",
       "      <td>2005</td>\n",
       "      <td>1</td>\n",
       "      <td>2</td>\n",
       "      <td>1940</td>\n",
       "      <td>5</td>\n",
       "      <td>0</td>\n",
       "      <td>1</td>\n",
       "      <td>0</td>\n",
       "      <td>7.811568</td>\n",
       "      <td>...</td>\n",
       "      <td>0</td>\n",
       "      <td>0</td>\n",
       "      <td>0</td>\n",
       "      <td>0</td>\n",
       "      <td>0</td>\n",
       "      <td>0</td>\n",
       "      <td>0</td>\n",
       "      <td>0</td>\n",
       "      <td>0</td>\n",
       "      <td>0</td>\n",
       "    </tr>\n",
       "    <tr>\n",
       "      <th>3626</th>\n",
       "      <td>2023</td>\n",
       "      <td>2005</td>\n",
       "      <td>1</td>\n",
       "      <td>4</td>\n",
       "      <td>1958</td>\n",
       "      <td>4</td>\n",
       "      <td>1</td>\n",
       "      <td>0</td>\n",
       "      <td>1</td>\n",
       "      <td>7.612831</td>\n",
       "      <td>...</td>\n",
       "      <td>0</td>\n",
       "      <td>0</td>\n",
       "      <td>0</td>\n",
       "      <td>0</td>\n",
       "      <td>0</td>\n",
       "      <td>0</td>\n",
       "      <td>0</td>\n",
       "      <td>0</td>\n",
       "      <td>0</td>\n",
       "      <td>0</td>\n",
       "    </tr>\n",
       "    <tr>\n",
       "      <th>50176</th>\n",
       "      <td>49</td>\n",
       "      <td>2005</td>\n",
       "      <td>1</td>\n",
       "      <td>1</td>\n",
       "      <td>1925</td>\n",
       "      <td>3</td>\n",
       "      <td>0</td>\n",
       "      <td>0</td>\n",
       "      <td>1</td>\n",
       "      <td>3.912023</td>\n",
       "      <td>...</td>\n",
       "      <td>0</td>\n",
       "      <td>0</td>\n",
       "      <td>1</td>\n",
       "      <td>0</td>\n",
       "      <td>0</td>\n",
       "      <td>0</td>\n",
       "      <td>0</td>\n",
       "      <td>0</td>\n",
       "      <td>0</td>\n",
       "      <td>0</td>\n",
       "    </tr>\n",
       "    <tr>\n",
       "      <th>17894</th>\n",
       "      <td>2902</td>\n",
       "      <td>2005</td>\n",
       "      <td>1</td>\n",
       "      <td>6</td>\n",
       "      <td>1967</td>\n",
       "      <td>7</td>\n",
       "      <td>1</td>\n",
       "      <td>1</td>\n",
       "      <td>0</td>\n",
       "      <td>7.973500</td>\n",
       "      <td>...</td>\n",
       "      <td>0</td>\n",
       "      <td>0</td>\n",
       "      <td>0</td>\n",
       "      <td>0</td>\n",
       "      <td>0</td>\n",
       "      <td>0</td>\n",
       "      <td>0</td>\n",
       "      <td>0</td>\n",
       "      <td>0</td>\n",
       "      <td>0</td>\n",
       "    </tr>\n",
       "  </tbody>\n",
       "</table>\n",
       "<p>5 rows × 29 columns</p>\n",
       "</div>"
      ],
      "text/plain": [
       "       income  year  wave  family_member  year_born  education_level  \\\n",
       "77530     618  2005     1              1       1940                2   \n",
       "25998    2468  2005     1              2       1940                5   \n",
       "3626     2023  2005     1              4       1958                4   \n",
       "50176      49  2005     1              1       1925                3   \n",
       "17894    2902  2005     1              6       1967                7   \n",
       "\n",
       "       company_size  gender_1  gender_2  log_income  ...  \\\n",
       "77530             1         0         1    6.428105  ...   \n",
       "25998             0         1         0    7.811568  ...   \n",
       "3626              1         0         1    7.612831  ...   \n",
       "50176             0         0         1    3.912023  ...   \n",
       "17894             1         1         0    7.973500  ...   \n",
       "\n",
       "       reason_none_worker_2  reason_none_worker_3  reason_none_worker_4  \\\n",
       "77530                     0                     0                     0   \n",
       "25998                     0                     0                     0   \n",
       "3626                      0                     0                     0   \n",
       "50176                     0                     0                     1   \n",
       "17894                     0                     0                     0   \n",
       "\n",
       "       reason_none_worker_5  reason_none_worker_6  reason_none_worker_7  \\\n",
       "77530                     0                     0                     0   \n",
       "25998                     0                     0                     0   \n",
       "3626                      0                     0                     0   \n",
       "50176                     0                     0                     0   \n",
       "17894                     0                     0                     0   \n",
       "\n",
       "       reason_none_worker_8  reason_none_worker_9  reason_none_worker_10  \\\n",
       "77530                     0                     0                      0   \n",
       "25998                     0                     0                      0   \n",
       "3626                      0                     0                      0   \n",
       "50176                     0                     0                      0   \n",
       "17894                     0                     0                      0   \n",
       "\n",
       "       reason_none_worker_11  \n",
       "77530                      0  \n",
       "25998                      0  \n",
       "3626                       0  \n",
       "50176                      0  \n",
       "17894                      0  \n",
       "\n",
       "[5 rows x 29 columns]"
      ]
     },
     "execution_count": 20,
     "metadata": {},
     "output_type": "execute_result"
    }
   ],
   "source": [
    "reason_none_worker = [0,1,2,3,4,5,6,7,8,9,10,11]\n",
    "for A in reason_none_worker:\n",
    "    train['reason_none_worker_' +f'{A}']=train['reason_none_worker']==A\n",
    "for A in range(0,12):\n",
    "    train['reason_none_worker_' +f'{A}']=train['reason_none_worker_' +f'{A}'].astype(int)\n",
    "train=train.drop(['reason_none_worker'],axis=1)\n",
    "train.head()\n",
    "\n",
    "# reason_none_worker에 대하여 더미변수 생성\n",
    "\n",
    "# 더미변수를 만든 변수들을 없애기"
   ]
  },
  {
   "cell_type": "code",
   "execution_count": 21,
   "id": "P-2L3EuFGT60",
   "metadata": {
    "colab": {
     "base_uri": "https://localhost:8080/",
     "height": 299
    },
    "id": "P-2L3EuFGT60",
    "outputId": "27a76e3f-bfbc-4989-cb20-99e97e98c8b7"
   },
   "outputs": [
    {
     "data": {
      "text/html": [
       "<div>\n",
       "<style scoped>\n",
       "    .dataframe tbody tr th:only-of-type {\n",
       "        vertical-align: middle;\n",
       "    }\n",
       "\n",
       "    .dataframe tbody tr th {\n",
       "        vertical-align: top;\n",
       "    }\n",
       "\n",
       "    .dataframe thead th {\n",
       "        text-align: right;\n",
       "    }\n",
       "</style>\n",
       "<table border=\"1\" class=\"dataframe\">\n",
       "  <thead>\n",
       "    <tr style=\"text-align: right;\">\n",
       "      <th></th>\n",
       "      <th>year</th>\n",
       "      <th>wave</th>\n",
       "      <th>family_member</th>\n",
       "      <th>year_born</th>\n",
       "      <th>education_level</th>\n",
       "      <th>company_size</th>\n",
       "      <th>gender_1</th>\n",
       "      <th>gender_2</th>\n",
       "      <th>region_1</th>\n",
       "      <th>region_2</th>\n",
       "      <th>...</th>\n",
       "      <th>reason_none_worker_2</th>\n",
       "      <th>reason_none_worker_3</th>\n",
       "      <th>reason_none_worker_4</th>\n",
       "      <th>reason_none_worker_5</th>\n",
       "      <th>reason_none_worker_6</th>\n",
       "      <th>reason_none_worker_7</th>\n",
       "      <th>reason_none_worker_8</th>\n",
       "      <th>reason_none_worker_9</th>\n",
       "      <th>reason_none_worker_10</th>\n",
       "      <th>reason_none_worker_11</th>\n",
       "    </tr>\n",
       "  </thead>\n",
       "  <tbody>\n",
       "    <tr>\n",
       "      <th>51802</th>\n",
       "      <td>2015</td>\n",
       "      <td>11</td>\n",
       "      <td>1</td>\n",
       "      <td>1965</td>\n",
       "      <td>5</td>\n",
       "      <td>1</td>\n",
       "      <td>1</td>\n",
       "      <td>0</td>\n",
       "      <td>0</td>\n",
       "      <td>1</td>\n",
       "      <td>...</td>\n",
       "      <td>0</td>\n",
       "      <td>0</td>\n",
       "      <td>0</td>\n",
       "      <td>0</td>\n",
       "      <td>0</td>\n",
       "      <td>0</td>\n",
       "      <td>0</td>\n",
       "      <td>0</td>\n",
       "      <td>0</td>\n",
       "      <td>0</td>\n",
       "    </tr>\n",
       "    <tr>\n",
       "      <th>24685</th>\n",
       "      <td>2015</td>\n",
       "      <td>11</td>\n",
       "      <td>4</td>\n",
       "      <td>1970</td>\n",
       "      <td>5</td>\n",
       "      <td>1</td>\n",
       "      <td>1</td>\n",
       "      <td>0</td>\n",
       "      <td>0</td>\n",
       "      <td>1</td>\n",
       "      <td>...</td>\n",
       "      <td>0</td>\n",
       "      <td>0</td>\n",
       "      <td>0</td>\n",
       "      <td>0</td>\n",
       "      <td>0</td>\n",
       "      <td>0</td>\n",
       "      <td>0</td>\n",
       "      <td>0</td>\n",
       "      <td>0</td>\n",
       "      <td>0</td>\n",
       "    </tr>\n",
       "    <tr>\n",
       "      <th>20910</th>\n",
       "      <td>2009</td>\n",
       "      <td>5</td>\n",
       "      <td>3</td>\n",
       "      <td>1946</td>\n",
       "      <td>5</td>\n",
       "      <td>0</td>\n",
       "      <td>1</td>\n",
       "      <td>0</td>\n",
       "      <td>0</td>\n",
       "      <td>0</td>\n",
       "      <td>...</td>\n",
       "      <td>0</td>\n",
       "      <td>0</td>\n",
       "      <td>0</td>\n",
       "      <td>0</td>\n",
       "      <td>0</td>\n",
       "      <td>0</td>\n",
       "      <td>0</td>\n",
       "      <td>0</td>\n",
       "      <td>1</td>\n",
       "      <td>0</td>\n",
       "    </tr>\n",
       "    <tr>\n",
       "      <th>24267</th>\n",
       "      <td>2005</td>\n",
       "      <td>1</td>\n",
       "      <td>4</td>\n",
       "      <td>1968</td>\n",
       "      <td>7</td>\n",
       "      <td>10</td>\n",
       "      <td>1</td>\n",
       "      <td>0</td>\n",
       "      <td>0</td>\n",
       "      <td>1</td>\n",
       "      <td>...</td>\n",
       "      <td>0</td>\n",
       "      <td>0</td>\n",
       "      <td>0</td>\n",
       "      <td>0</td>\n",
       "      <td>0</td>\n",
       "      <td>0</td>\n",
       "      <td>0</td>\n",
       "      <td>0</td>\n",
       "      <td>0</td>\n",
       "      <td>0</td>\n",
       "    </tr>\n",
       "    <tr>\n",
       "      <th>71797</th>\n",
       "      <td>2009</td>\n",
       "      <td>5</td>\n",
       "      <td>2</td>\n",
       "      <td>1942</td>\n",
       "      <td>3</td>\n",
       "      <td>1</td>\n",
       "      <td>1</td>\n",
       "      <td>0</td>\n",
       "      <td>0</td>\n",
       "      <td>0</td>\n",
       "      <td>...</td>\n",
       "      <td>0</td>\n",
       "      <td>0</td>\n",
       "      <td>0</td>\n",
       "      <td>0</td>\n",
       "      <td>0</td>\n",
       "      <td>0</td>\n",
       "      <td>0</td>\n",
       "      <td>0</td>\n",
       "      <td>0</td>\n",
       "      <td>0</td>\n",
       "    </tr>\n",
       "  </tbody>\n",
       "</table>\n",
       "<p>5 rows × 27 columns</p>\n",
       "</div>"
      ],
      "text/plain": [
       "       year  wave  family_member  year_born  education_level  company_size  \\\n",
       "51802  2015    11              1       1965                5             1   \n",
       "24685  2015    11              4       1970                5             1   \n",
       "20910  2009     5              3       1946                5             0   \n",
       "24267  2005     1              4       1968                7            10   \n",
       "71797  2009     5              2       1942                3             1   \n",
       "\n",
       "       gender_1  gender_2  region_1  region_2  ...  reason_none_worker_2  \\\n",
       "51802         1         0         0         1  ...                     0   \n",
       "24685         1         0         0         1  ...                     0   \n",
       "20910         1         0         0         0  ...                     0   \n",
       "24267         1         0         0         1  ...                     0   \n",
       "71797         1         0         0         0  ...                     0   \n",
       "\n",
       "       reason_none_worker_3  reason_none_worker_4  reason_none_worker_5  \\\n",
       "51802                     0                     0                     0   \n",
       "24685                     0                     0                     0   \n",
       "20910                     0                     0                     0   \n",
       "24267                     0                     0                     0   \n",
       "71797                     0                     0                     0   \n",
       "\n",
       "       reason_none_worker_6  reason_none_worker_7  reason_none_worker_8  \\\n",
       "51802                     0                     0                     0   \n",
       "24685                     0                     0                     0   \n",
       "20910                     0                     0                     0   \n",
       "24267                     0                     0                     0   \n",
       "71797                     0                     0                     0   \n",
       "\n",
       "       reason_none_worker_9  reason_none_worker_10  reason_none_worker_11  \n",
       "51802                     0                      0                      0  \n",
       "24685                     0                      0                      0  \n",
       "20910                     0                      1                      0  \n",
       "24267                     0                      0                      0  \n",
       "71797                     0                      0                      0  \n",
       "\n",
       "[5 rows x 27 columns]"
      ]
     },
     "execution_count": 21,
     "metadata": {},
     "output_type": "execute_result"
    }
   ],
   "source": [
    "reason_none_worker = [0,1,2,3,4,5,6,7,8,9,10,11]\n",
    "for A in reason_none_worker:\n",
    "    test['reason_none_worker_' +f'{A}']=test['reason_none_worker']==A\n",
    "for A in range(0,12):\n",
    "    test['reason_none_worker_' +f'{A}']=test['reason_none_worker_' +f'{A}'].astype(int)\n",
    "test=test.drop(['reason_none_worker'],axis=1)\n",
    "test.head()\n",
    "\n",
    "# reason_none_worker에 대하여 더미변수 생성\n",
    "\n",
    "# 더미변수를 만든 변수들을 없애기"
   ]
  },
  {
   "cell_type": "code",
   "execution_count": 22,
   "id": "3e0542ef",
   "metadata": {
    "colab": {
     "base_uri": "https://localhost:8080/"
    },
    "id": "3e0542ef",
    "outputId": "779a2bcb-5c96-443b-999f-c42cf2c070f7"
   },
   "outputs": [
    {
     "name": "stdout",
     "output_type": "stream",
     "text": [
      "Int64Index([5, 3, 7, 4, 2, 6, 8, 9], dtype='int64')\n",
      "Int64Index([5, 3, 7, 4, 2, 6, 8, 9], dtype='int64')\n"
     ]
    }
   ],
   "source": [
    "print(train['education_level'].value_counts().index)\n",
    "print(test['education_level'].value_counts().index)"
   ]
  },
  {
   "cell_type": "code",
   "execution_count": 23,
   "id": "0445e2f8",
   "metadata": {
    "colab": {
     "base_uri": "https://localhost:8080/",
     "height": 299
    },
    "id": "0445e2f8",
    "outputId": "6601e84b-6ccb-474f-9d3d-ed048371df97",
    "scrolled": true
   },
   "outputs": [
    {
     "data": {
      "text/html": [
       "<div>\n",
       "<style scoped>\n",
       "    .dataframe tbody tr th:only-of-type {\n",
       "        vertical-align: middle;\n",
       "    }\n",
       "\n",
       "    .dataframe tbody tr th {\n",
       "        vertical-align: top;\n",
       "    }\n",
       "\n",
       "    .dataframe thead th {\n",
       "        text-align: right;\n",
       "    }\n",
       "</style>\n",
       "<table border=\"1\" class=\"dataframe\">\n",
       "  <thead>\n",
       "    <tr style=\"text-align: right;\">\n",
       "      <th></th>\n",
       "      <th>year</th>\n",
       "      <th>wave</th>\n",
       "      <th>family_member</th>\n",
       "      <th>year_born</th>\n",
       "      <th>education_level</th>\n",
       "      <th>company_size</th>\n",
       "      <th>gender_1</th>\n",
       "      <th>gender_2</th>\n",
       "      <th>region_1</th>\n",
       "      <th>region_2</th>\n",
       "      <th>...</th>\n",
       "      <th>reason_none_worker_2</th>\n",
       "      <th>reason_none_worker_3</th>\n",
       "      <th>reason_none_worker_4</th>\n",
       "      <th>reason_none_worker_5</th>\n",
       "      <th>reason_none_worker_6</th>\n",
       "      <th>reason_none_worker_7</th>\n",
       "      <th>reason_none_worker_8</th>\n",
       "      <th>reason_none_worker_9</th>\n",
       "      <th>reason_none_worker_10</th>\n",
       "      <th>reason_none_worker_11</th>\n",
       "    </tr>\n",
       "  </thead>\n",
       "  <tbody>\n",
       "    <tr>\n",
       "      <th>51802</th>\n",
       "      <td>2015</td>\n",
       "      <td>11</td>\n",
       "      <td>1</td>\n",
       "      <td>1965</td>\n",
       "      <td>5</td>\n",
       "      <td>1</td>\n",
       "      <td>1</td>\n",
       "      <td>0</td>\n",
       "      <td>0</td>\n",
       "      <td>1</td>\n",
       "      <td>...</td>\n",
       "      <td>0</td>\n",
       "      <td>0</td>\n",
       "      <td>0</td>\n",
       "      <td>0</td>\n",
       "      <td>0</td>\n",
       "      <td>0</td>\n",
       "      <td>0</td>\n",
       "      <td>0</td>\n",
       "      <td>0</td>\n",
       "      <td>0</td>\n",
       "    </tr>\n",
       "    <tr>\n",
       "      <th>24685</th>\n",
       "      <td>2015</td>\n",
       "      <td>11</td>\n",
       "      <td>4</td>\n",
       "      <td>1970</td>\n",
       "      <td>5</td>\n",
       "      <td>1</td>\n",
       "      <td>1</td>\n",
       "      <td>0</td>\n",
       "      <td>0</td>\n",
       "      <td>1</td>\n",
       "      <td>...</td>\n",
       "      <td>0</td>\n",
       "      <td>0</td>\n",
       "      <td>0</td>\n",
       "      <td>0</td>\n",
       "      <td>0</td>\n",
       "      <td>0</td>\n",
       "      <td>0</td>\n",
       "      <td>0</td>\n",
       "      <td>0</td>\n",
       "      <td>0</td>\n",
       "    </tr>\n",
       "    <tr>\n",
       "      <th>20910</th>\n",
       "      <td>2009</td>\n",
       "      <td>5</td>\n",
       "      <td>3</td>\n",
       "      <td>1946</td>\n",
       "      <td>5</td>\n",
       "      <td>0</td>\n",
       "      <td>1</td>\n",
       "      <td>0</td>\n",
       "      <td>0</td>\n",
       "      <td>0</td>\n",
       "      <td>...</td>\n",
       "      <td>0</td>\n",
       "      <td>0</td>\n",
       "      <td>0</td>\n",
       "      <td>0</td>\n",
       "      <td>0</td>\n",
       "      <td>0</td>\n",
       "      <td>0</td>\n",
       "      <td>0</td>\n",
       "      <td>1</td>\n",
       "      <td>0</td>\n",
       "    </tr>\n",
       "    <tr>\n",
       "      <th>24267</th>\n",
       "      <td>2005</td>\n",
       "      <td>1</td>\n",
       "      <td>4</td>\n",
       "      <td>1968</td>\n",
       "      <td>7</td>\n",
       "      <td>10</td>\n",
       "      <td>1</td>\n",
       "      <td>0</td>\n",
       "      <td>0</td>\n",
       "      <td>1</td>\n",
       "      <td>...</td>\n",
       "      <td>0</td>\n",
       "      <td>0</td>\n",
       "      <td>0</td>\n",
       "      <td>0</td>\n",
       "      <td>0</td>\n",
       "      <td>0</td>\n",
       "      <td>0</td>\n",
       "      <td>0</td>\n",
       "      <td>0</td>\n",
       "      <td>0</td>\n",
       "    </tr>\n",
       "    <tr>\n",
       "      <th>71797</th>\n",
       "      <td>2009</td>\n",
       "      <td>5</td>\n",
       "      <td>2</td>\n",
       "      <td>1942</td>\n",
       "      <td>3</td>\n",
       "      <td>1</td>\n",
       "      <td>1</td>\n",
       "      <td>0</td>\n",
       "      <td>0</td>\n",
       "      <td>0</td>\n",
       "      <td>...</td>\n",
       "      <td>0</td>\n",
       "      <td>0</td>\n",
       "      <td>0</td>\n",
       "      <td>0</td>\n",
       "      <td>0</td>\n",
       "      <td>0</td>\n",
       "      <td>0</td>\n",
       "      <td>0</td>\n",
       "      <td>0</td>\n",
       "      <td>0</td>\n",
       "    </tr>\n",
       "  </tbody>\n",
       "</table>\n",
       "<p>5 rows × 27 columns</p>\n",
       "</div>"
      ],
      "text/plain": [
       "       year  wave  family_member  year_born  education_level  company_size  \\\n",
       "51802  2015    11              1       1965                5             1   \n",
       "24685  2015    11              4       1970                5             1   \n",
       "20910  2009     5              3       1946                5             0   \n",
       "24267  2005     1              4       1968                7            10   \n",
       "71797  2009     5              2       1942                3             1   \n",
       "\n",
       "       gender_1  gender_2  region_1  region_2  ...  reason_none_worker_2  \\\n",
       "51802         1         0         0         1  ...                     0   \n",
       "24685         1         0         0         1  ...                     0   \n",
       "20910         1         0         0         0  ...                     0   \n",
       "24267         1         0         0         1  ...                     0   \n",
       "71797         1         0         0         0  ...                     0   \n",
       "\n",
       "       reason_none_worker_3  reason_none_worker_4  reason_none_worker_5  \\\n",
       "51802                     0                     0                     0   \n",
       "24685                     0                     0                     0   \n",
       "20910                     0                     0                     0   \n",
       "24267                     0                     0                     0   \n",
       "71797                     0                     0                     0   \n",
       "\n",
       "       reason_none_worker_6  reason_none_worker_7  reason_none_worker_8  \\\n",
       "51802                     0                     0                     0   \n",
       "24685                     0                     0                     0   \n",
       "20910                     0                     0                     0   \n",
       "24267                     0                     0                     0   \n",
       "71797                     0                     0                     0   \n",
       "\n",
       "       reason_none_worker_9  reason_none_worker_10  reason_none_worker_11  \n",
       "51802                     0                      0                      0  \n",
       "24685                     0                      0                      0  \n",
       "20910                     0                      1                      0  \n",
       "24267                     0                      0                      0  \n",
       "71797                     0                      0                      0  \n",
       "\n",
       "[5 rows x 27 columns]"
      ]
     },
     "execution_count": 23,
     "metadata": {},
     "output_type": "execute_result"
    }
   ],
   "source": [
    "education_level_list = [1,2,3,4,5,6,7,8,9]\n",
    "for A in education_level_list:\n",
    "    train['education_level_' +f'{A}']=train['education_level']==A\n",
    "for A in range(1,10):\n",
    "    train['education_level_' +f'{A}']=train['education_level_' +f'{A}'].astype(int)\n",
    "train=train.drop(['education_level'],axis=1)\n",
    "test.head()"
   ]
  },
  {
   "cell_type": "code",
   "execution_count": 24,
   "id": "dHSOjUXyGXbM",
   "metadata": {
    "colab": {
     "base_uri": "https://localhost:8080/",
     "height": 299
    },
    "id": "dHSOjUXyGXbM",
    "outputId": "00747ab1-b991-4854-8604-17b226afe29d"
   },
   "outputs": [
    {
     "data": {
      "text/html": [
       "<div>\n",
       "<style scoped>\n",
       "    .dataframe tbody tr th:only-of-type {\n",
       "        vertical-align: middle;\n",
       "    }\n",
       "\n",
       "    .dataframe tbody tr th {\n",
       "        vertical-align: top;\n",
       "    }\n",
       "\n",
       "    .dataframe thead th {\n",
       "        text-align: right;\n",
       "    }\n",
       "</style>\n",
       "<table border=\"1\" class=\"dataframe\">\n",
       "  <thead>\n",
       "    <tr style=\"text-align: right;\">\n",
       "      <th></th>\n",
       "      <th>year</th>\n",
       "      <th>wave</th>\n",
       "      <th>family_member</th>\n",
       "      <th>year_born</th>\n",
       "      <th>company_size</th>\n",
       "      <th>gender_1</th>\n",
       "      <th>gender_2</th>\n",
       "      <th>region_1</th>\n",
       "      <th>region_2</th>\n",
       "      <th>region_3</th>\n",
       "      <th>...</th>\n",
       "      <th>reason_none_worker_11</th>\n",
       "      <th>education_level_1</th>\n",
       "      <th>education_level_2</th>\n",
       "      <th>education_level_3</th>\n",
       "      <th>education_level_4</th>\n",
       "      <th>education_level_5</th>\n",
       "      <th>education_level_6</th>\n",
       "      <th>education_level_7</th>\n",
       "      <th>education_level_8</th>\n",
       "      <th>education_level_9</th>\n",
       "    </tr>\n",
       "  </thead>\n",
       "  <tbody>\n",
       "    <tr>\n",
       "      <th>51802</th>\n",
       "      <td>2015</td>\n",
       "      <td>11</td>\n",
       "      <td>1</td>\n",
       "      <td>1965</td>\n",
       "      <td>1</td>\n",
       "      <td>1</td>\n",
       "      <td>0</td>\n",
       "      <td>0</td>\n",
       "      <td>1</td>\n",
       "      <td>0</td>\n",
       "      <td>...</td>\n",
       "      <td>0</td>\n",
       "      <td>0</td>\n",
       "      <td>0</td>\n",
       "      <td>0</td>\n",
       "      <td>0</td>\n",
       "      <td>1</td>\n",
       "      <td>0</td>\n",
       "      <td>0</td>\n",
       "      <td>0</td>\n",
       "      <td>0</td>\n",
       "    </tr>\n",
       "    <tr>\n",
       "      <th>24685</th>\n",
       "      <td>2015</td>\n",
       "      <td>11</td>\n",
       "      <td>4</td>\n",
       "      <td>1970</td>\n",
       "      <td>1</td>\n",
       "      <td>1</td>\n",
       "      <td>0</td>\n",
       "      <td>0</td>\n",
       "      <td>1</td>\n",
       "      <td>0</td>\n",
       "      <td>...</td>\n",
       "      <td>0</td>\n",
       "      <td>0</td>\n",
       "      <td>0</td>\n",
       "      <td>0</td>\n",
       "      <td>0</td>\n",
       "      <td>1</td>\n",
       "      <td>0</td>\n",
       "      <td>0</td>\n",
       "      <td>0</td>\n",
       "      <td>0</td>\n",
       "    </tr>\n",
       "    <tr>\n",
       "      <th>20910</th>\n",
       "      <td>2009</td>\n",
       "      <td>5</td>\n",
       "      <td>3</td>\n",
       "      <td>1946</td>\n",
       "      <td>0</td>\n",
       "      <td>1</td>\n",
       "      <td>0</td>\n",
       "      <td>0</td>\n",
       "      <td>0</td>\n",
       "      <td>0</td>\n",
       "      <td>...</td>\n",
       "      <td>0</td>\n",
       "      <td>0</td>\n",
       "      <td>0</td>\n",
       "      <td>0</td>\n",
       "      <td>0</td>\n",
       "      <td>1</td>\n",
       "      <td>0</td>\n",
       "      <td>0</td>\n",
       "      <td>0</td>\n",
       "      <td>0</td>\n",
       "    </tr>\n",
       "    <tr>\n",
       "      <th>24267</th>\n",
       "      <td>2005</td>\n",
       "      <td>1</td>\n",
       "      <td>4</td>\n",
       "      <td>1968</td>\n",
       "      <td>10</td>\n",
       "      <td>1</td>\n",
       "      <td>0</td>\n",
       "      <td>0</td>\n",
       "      <td>1</td>\n",
       "      <td>0</td>\n",
       "      <td>...</td>\n",
       "      <td>0</td>\n",
       "      <td>0</td>\n",
       "      <td>0</td>\n",
       "      <td>0</td>\n",
       "      <td>0</td>\n",
       "      <td>0</td>\n",
       "      <td>0</td>\n",
       "      <td>1</td>\n",
       "      <td>0</td>\n",
       "      <td>0</td>\n",
       "    </tr>\n",
       "    <tr>\n",
       "      <th>71797</th>\n",
       "      <td>2009</td>\n",
       "      <td>5</td>\n",
       "      <td>2</td>\n",
       "      <td>1942</td>\n",
       "      <td>1</td>\n",
       "      <td>1</td>\n",
       "      <td>0</td>\n",
       "      <td>0</td>\n",
       "      <td>0</td>\n",
       "      <td>0</td>\n",
       "      <td>...</td>\n",
       "      <td>0</td>\n",
       "      <td>0</td>\n",
       "      <td>0</td>\n",
       "      <td>1</td>\n",
       "      <td>0</td>\n",
       "      <td>0</td>\n",
       "      <td>0</td>\n",
       "      <td>0</td>\n",
       "      <td>0</td>\n",
       "      <td>0</td>\n",
       "    </tr>\n",
       "  </tbody>\n",
       "</table>\n",
       "<p>5 rows × 35 columns</p>\n",
       "</div>"
      ],
      "text/plain": [
       "       year  wave  family_member  year_born  company_size  gender_1  gender_2  \\\n",
       "51802  2015    11              1       1965             1         1         0   \n",
       "24685  2015    11              4       1970             1         1         0   \n",
       "20910  2009     5              3       1946             0         1         0   \n",
       "24267  2005     1              4       1968            10         1         0   \n",
       "71797  2009     5              2       1942             1         1         0   \n",
       "\n",
       "       region_1  region_2  region_3  ...  reason_none_worker_11  \\\n",
       "51802         0         1         0  ...                      0   \n",
       "24685         0         1         0  ...                      0   \n",
       "20910         0         0         0  ...                      0   \n",
       "24267         0         1         0  ...                      0   \n",
       "71797         0         0         0  ...                      0   \n",
       "\n",
       "       education_level_1  education_level_2  education_level_3  \\\n",
       "51802                  0                  0                  0   \n",
       "24685                  0                  0                  0   \n",
       "20910                  0                  0                  0   \n",
       "24267                  0                  0                  0   \n",
       "71797                  0                  0                  1   \n",
       "\n",
       "       education_level_4  education_level_5  education_level_6  \\\n",
       "51802                  0                  1                  0   \n",
       "24685                  0                  1                  0   \n",
       "20910                  0                  1                  0   \n",
       "24267                  0                  0                  0   \n",
       "71797                  0                  0                  0   \n",
       "\n",
       "       education_level_7  education_level_8  education_level_9  \n",
       "51802                  0                  0                  0  \n",
       "24685                  0                  0                  0  \n",
       "20910                  0                  0                  0  \n",
       "24267                  1                  0                  0  \n",
       "71797                  0                  0                  0  \n",
       "\n",
       "[5 rows x 35 columns]"
      ]
     },
     "execution_count": 24,
     "metadata": {},
     "output_type": "execute_result"
    }
   ],
   "source": [
    "education_level_list = [1,2,3,4,5,6,7,8,9]\n",
    "for A in education_level_list:\n",
    "    test['education_level_' +f'{A}']=test['education_level']==A\n",
    "for A in range(1,10):\n",
    "    test['education_level_' +f'{A}']=test['education_level_' +f'{A}'].astype(int)\n",
    "test=test.drop(['education_level'],axis=1)\n",
    "test.head()\n",
    "\n",
    "# education_level에 대하여 더미변수 생성\n",
    "\n",
    "# 더미변수를 만든 변수들을 없애기"
   ]
  },
  {
   "cell_type": "code",
   "execution_count": 25,
   "id": "491d51c6",
   "metadata": {
    "colab": {
     "base_uri": "https://localhost:8080/",
     "height": 758
    },
    "id": "491d51c6",
    "outputId": "53467165-b4c3-4097-8f6f-df4c0b085324",
    "scrolled": false
   },
   "outputs": [
    {
     "data": {
      "text/plain": [
       "<seaborn.axisgrid.FacetGrid at 0x23182ea7a30>"
      ]
     },
     "execution_count": 25,
     "metadata": {},
     "output_type": "execute_result"
    },
    {
     "data": {
      "image/png": "[encoded data removed]",
      "text/plain": [
       "<Figure size 410.125x360 with 1 Axes>"
      ]
     },
     "metadata": {
      "needs_background": "light"
     },
     "output_type": "display_data"
    },
    {
     "data": {
      "image/png": "[encoded data removed]",
      "text/plain": [
       "<Figure size 410.125x360 with 1 Axes>"
      ]
     },
     "metadata": {
      "needs_background": "light"
     },
     "output_type": "display_data"
    }
   ],
   "source": [
    "train['age'] = train['year'] - train['year_born']\n",
    "train['age_class'] = pd.cut(train['age'], 10, labels=['0','1','2','3','4','5','6','7','8','9'])\n",
    "sns.displot(train, x='age', hue='age_class', element='step')\n",
    "\n",
    "test['age'] = test['year'] - test['year_born']\n",
    "test['age_class'] = pd.cut(test['age'], 10, labels=['0','1','2','3','4','5','6','7','8','9'])\n",
    "sns.displot(test, x='age', hue='age_class', element='step')\n",
    "\n",
    "# 나이를 나타내는 변수 'age' 생성 및 시각화 및 시각화"
   ]
  },
  {
   "cell_type": "code",
   "execution_count": 26,
   "id": "VKUXw_68Gaw_",
   "metadata": {
    "id": "VKUXw_68Gaw_"
   },
   "outputs": [],
   "source": [
    "train=train.drop(['year','year_born','wave','age'], axis=1)\n",
    "test=test.drop(['year','year_born','wave','age'], axis=1)\n",
    "# 필요 없는 변수 제거\n",
    "\n",
    "train=train.drop(['income'],axis=1)"
   ]
  },
  {
   "cell_type": "code",
   "execution_count": 27,
   "id": "9e3e2c31",
   "metadata": {
    "colab": {
     "base_uri": "https://localhost:8080/",
     "height": 299
    },
    "id": "9e3e2c31",
    "outputId": "5f3c6b4a-1d56-460c-a91d-ea8ad81c058b",
    "scrolled": true
   },
   "outputs": [
    {
     "data": {
      "text/html": [
       "<div>\n",
       "<style scoped>\n",
       "    .dataframe tbody tr th:only-of-type {\n",
       "        vertical-align: middle;\n",
       "    }\n",
       "\n",
       "    .dataframe tbody tr th {\n",
       "        vertical-align: top;\n",
       "    }\n",
       "\n",
       "    .dataframe thead th {\n",
       "        text-align: right;\n",
       "    }\n",
       "</style>\n",
       "<table border=\"1\" class=\"dataframe\">\n",
       "  <thead>\n",
       "    <tr style=\"text-align: right;\">\n",
       "      <th></th>\n",
       "      <th>family_member</th>\n",
       "      <th>company_size</th>\n",
       "      <th>gender_1</th>\n",
       "      <th>gender_2</th>\n",
       "      <th>log_income</th>\n",
       "      <th>region_1</th>\n",
       "      <th>region_2</th>\n",
       "      <th>region_3</th>\n",
       "      <th>region_4</th>\n",
       "      <th>region_5</th>\n",
       "      <th>...</th>\n",
       "      <th>education_level_1</th>\n",
       "      <th>education_level_2</th>\n",
       "      <th>education_level_3</th>\n",
       "      <th>education_level_4</th>\n",
       "      <th>education_level_5</th>\n",
       "      <th>education_level_6</th>\n",
       "      <th>education_level_7</th>\n",
       "      <th>education_level_8</th>\n",
       "      <th>education_level_9</th>\n",
       "      <th>age_class</th>\n",
       "    </tr>\n",
       "  </thead>\n",
       "  <tbody>\n",
       "    <tr>\n",
       "      <th>77530</th>\n",
       "      <td>1</td>\n",
       "      <td>1</td>\n",
       "      <td>0</td>\n",
       "      <td>1</td>\n",
       "      <td>6.428105</td>\n",
       "      <td>0</td>\n",
       "      <td>0</td>\n",
       "      <td>1</td>\n",
       "      <td>0</td>\n",
       "      <td>0</td>\n",
       "      <td>...</td>\n",
       "      <td>0</td>\n",
       "      <td>1</td>\n",
       "      <td>0</td>\n",
       "      <td>0</td>\n",
       "      <td>0</td>\n",
       "      <td>0</td>\n",
       "      <td>0</td>\n",
       "      <td>0</td>\n",
       "      <td>0</td>\n",
       "      <td>6</td>\n",
       "    </tr>\n",
       "    <tr>\n",
       "      <th>25998</th>\n",
       "      <td>2</td>\n",
       "      <td>0</td>\n",
       "      <td>1</td>\n",
       "      <td>0</td>\n",
       "      <td>7.811568</td>\n",
       "      <td>0</td>\n",
       "      <td>1</td>\n",
       "      <td>0</td>\n",
       "      <td>0</td>\n",
       "      <td>0</td>\n",
       "      <td>...</td>\n",
       "      <td>0</td>\n",
       "      <td>0</td>\n",
       "      <td>0</td>\n",
       "      <td>0</td>\n",
       "      <td>1</td>\n",
       "      <td>0</td>\n",
       "      <td>0</td>\n",
       "      <td>0</td>\n",
       "      <td>0</td>\n",
       "      <td>6</td>\n",
       "    </tr>\n",
       "    <tr>\n",
       "      <th>3626</th>\n",
       "      <td>4</td>\n",
       "      <td>1</td>\n",
       "      <td>0</td>\n",
       "      <td>1</td>\n",
       "      <td>7.612831</td>\n",
       "      <td>1</td>\n",
       "      <td>0</td>\n",
       "      <td>0</td>\n",
       "      <td>0</td>\n",
       "      <td>0</td>\n",
       "      <td>...</td>\n",
       "      <td>0</td>\n",
       "      <td>0</td>\n",
       "      <td>0</td>\n",
       "      <td>1</td>\n",
       "      <td>0</td>\n",
       "      <td>0</td>\n",
       "      <td>0</td>\n",
       "      <td>0</td>\n",
       "      <td>0</td>\n",
       "      <td>4</td>\n",
       "    </tr>\n",
       "    <tr>\n",
       "      <th>50176</th>\n",
       "      <td>1</td>\n",
       "      <td>0</td>\n",
       "      <td>0</td>\n",
       "      <td>1</td>\n",
       "      <td>3.912023</td>\n",
       "      <td>0</td>\n",
       "      <td>0</td>\n",
       "      <td>0</td>\n",
       "      <td>0</td>\n",
       "      <td>0</td>\n",
       "      <td>...</td>\n",
       "      <td>0</td>\n",
       "      <td>0</td>\n",
       "      <td>1</td>\n",
       "      <td>0</td>\n",
       "      <td>0</td>\n",
       "      <td>0</td>\n",
       "      <td>0</td>\n",
       "      <td>0</td>\n",
       "      <td>0</td>\n",
       "      <td>7</td>\n",
       "    </tr>\n",
       "    <tr>\n",
       "      <th>17894</th>\n",
       "      <td>6</td>\n",
       "      <td>1</td>\n",
       "      <td>1</td>\n",
       "      <td>0</td>\n",
       "      <td>7.973500</td>\n",
       "      <td>0</td>\n",
       "      <td>0</td>\n",
       "      <td>1</td>\n",
       "      <td>0</td>\n",
       "      <td>0</td>\n",
       "      <td>...</td>\n",
       "      <td>0</td>\n",
       "      <td>0</td>\n",
       "      <td>0</td>\n",
       "      <td>0</td>\n",
       "      <td>0</td>\n",
       "      <td>0</td>\n",
       "      <td>1</td>\n",
       "      <td>0</td>\n",
       "      <td>0</td>\n",
       "      <td>3</td>\n",
       "    </tr>\n",
       "  </tbody>\n",
       "</table>\n",
       "<p>5 rows × 34 columns</p>\n",
       "</div>"
      ],
      "text/plain": [
       "       family_member  company_size  gender_1  gender_2  log_income  region_1  \\\n",
       "77530              1             1         0         1    6.428105         0   \n",
       "25998              2             0         1         0    7.811568         0   \n",
       "3626               4             1         0         1    7.612831         1   \n",
       "50176              1             0         0         1    3.912023         0   \n",
       "17894              6             1         1         0    7.973500         0   \n",
       "\n",
       "       region_2  region_3  region_4  region_5  ...  education_level_1  \\\n",
       "77530         0         1         0         0  ...                  0   \n",
       "25998         1         0         0         0  ...                  0   \n",
       "3626          0         0         0         0  ...                  0   \n",
       "50176         0         0         0         0  ...                  0   \n",
       "17894         0         1         0         0  ...                  0   \n",
       "\n",
       "       education_level_2  education_level_3  education_level_4  \\\n",
       "77530                  1                  0                  0   \n",
       "25998                  0                  0                  0   \n",
       "3626                   0                  0                  1   \n",
       "50176                  0                  1                  0   \n",
       "17894                  0                  0                  0   \n",
       "\n",
       "       education_level_5  education_level_6  education_level_7  \\\n",
       "77530                  0                  0                  0   \n",
       "25998                  1                  0                  0   \n",
       "3626                   0                  0                  0   \n",
       "50176                  0                  0                  0   \n",
       "17894                  0                  0                  1   \n",
       "\n",
       "       education_level_8  education_level_9  age_class  \n",
       "77530                  0                  0          6  \n",
       "25998                  0                  0          6  \n",
       "3626                   0                  0          4  \n",
       "50176                  0                  0          7  \n",
       "17894                  0                  0          3  \n",
       "\n",
       "[5 rows x 34 columns]"
      ]
     },
     "execution_count": 27,
     "metadata": {},
     "output_type": "execute_result"
    }
   ],
   "source": [
    "train.head()"
   ]
  },
  {
   "cell_type": "code",
   "execution_count": 28,
   "id": "d0578954",
   "metadata": {
    "id": "d0578954"
   },
   "outputs": [],
   "source": [
    "# income, wave, faimly_number, gender, region, education_level, age 로 데이터를 전처리함\n",
    "# gender, region, education_level은 더미변수를 생성함"
   ]
  },
  {
   "cell_type": "code",
   "execution_count": 29,
   "id": "b84933bf",
   "metadata": {
    "colab": {
     "base_uri": "https://localhost:8080/",
     "height": 299
    },
    "id": "b84933bf",
    "outputId": "6ed50e52-6945-4d77-e345-efce3c0bf53e"
   },
   "outputs": [
    {
     "data": {
      "text/html": [
       "<div>\n",
       "<style scoped>\n",
       "    .dataframe tbody tr th:only-of-type {\n",
       "        vertical-align: middle;\n",
       "    }\n",
       "\n",
       "    .dataframe tbody tr th {\n",
       "        vertical-align: top;\n",
       "    }\n",
       "\n",
       "    .dataframe thead th {\n",
       "        text-align: right;\n",
       "    }\n",
       "</style>\n",
       "<table border=\"1\" class=\"dataframe\">\n",
       "  <thead>\n",
       "    <tr style=\"text-align: right;\">\n",
       "      <th></th>\n",
       "      <th>family_member</th>\n",
       "      <th>company_size</th>\n",
       "      <th>gender_1</th>\n",
       "      <th>gender_2</th>\n",
       "      <th>region_1</th>\n",
       "      <th>region_2</th>\n",
       "      <th>region_3</th>\n",
       "      <th>region_4</th>\n",
       "      <th>region_5</th>\n",
       "      <th>region_6</th>\n",
       "      <th>...</th>\n",
       "      <th>education_level_1</th>\n",
       "      <th>education_level_2</th>\n",
       "      <th>education_level_3</th>\n",
       "      <th>education_level_4</th>\n",
       "      <th>education_level_5</th>\n",
       "      <th>education_level_6</th>\n",
       "      <th>education_level_7</th>\n",
       "      <th>education_level_8</th>\n",
       "      <th>education_level_9</th>\n",
       "      <th>age_class</th>\n",
       "    </tr>\n",
       "  </thead>\n",
       "  <tbody>\n",
       "    <tr>\n",
       "      <th>51802</th>\n",
       "      <td>1</td>\n",
       "      <td>1</td>\n",
       "      <td>1</td>\n",
       "      <td>0</td>\n",
       "      <td>0</td>\n",
       "      <td>1</td>\n",
       "      <td>0</td>\n",
       "      <td>0</td>\n",
       "      <td>0</td>\n",
       "      <td>0</td>\n",
       "      <td>...</td>\n",
       "      <td>0</td>\n",
       "      <td>0</td>\n",
       "      <td>0</td>\n",
       "      <td>0</td>\n",
       "      <td>1</td>\n",
       "      <td>0</td>\n",
       "      <td>0</td>\n",
       "      <td>0</td>\n",
       "      <td>0</td>\n",
       "      <td>4</td>\n",
       "    </tr>\n",
       "    <tr>\n",
       "      <th>24685</th>\n",
       "      <td>4</td>\n",
       "      <td>1</td>\n",
       "      <td>1</td>\n",
       "      <td>0</td>\n",
       "      <td>0</td>\n",
       "      <td>1</td>\n",
       "      <td>0</td>\n",
       "      <td>0</td>\n",
       "      <td>0</td>\n",
       "      <td>0</td>\n",
       "      <td>...</td>\n",
       "      <td>0</td>\n",
       "      <td>0</td>\n",
       "      <td>0</td>\n",
       "      <td>0</td>\n",
       "      <td>1</td>\n",
       "      <td>0</td>\n",
       "      <td>0</td>\n",
       "      <td>0</td>\n",
       "      <td>0</td>\n",
       "      <td>3</td>\n",
       "    </tr>\n",
       "    <tr>\n",
       "      <th>20910</th>\n",
       "      <td>3</td>\n",
       "      <td>0</td>\n",
       "      <td>1</td>\n",
       "      <td>0</td>\n",
       "      <td>0</td>\n",
       "      <td>0</td>\n",
       "      <td>0</td>\n",
       "      <td>1</td>\n",
       "      <td>0</td>\n",
       "      <td>0</td>\n",
       "      <td>...</td>\n",
       "      <td>0</td>\n",
       "      <td>0</td>\n",
       "      <td>0</td>\n",
       "      <td>0</td>\n",
       "      <td>1</td>\n",
       "      <td>0</td>\n",
       "      <td>0</td>\n",
       "      <td>0</td>\n",
       "      <td>0</td>\n",
       "      <td>5</td>\n",
       "    </tr>\n",
       "    <tr>\n",
       "      <th>24267</th>\n",
       "      <td>4</td>\n",
       "      <td>10</td>\n",
       "      <td>1</td>\n",
       "      <td>0</td>\n",
       "      <td>0</td>\n",
       "      <td>1</td>\n",
       "      <td>0</td>\n",
       "      <td>0</td>\n",
       "      <td>0</td>\n",
       "      <td>0</td>\n",
       "      <td>...</td>\n",
       "      <td>0</td>\n",
       "      <td>0</td>\n",
       "      <td>0</td>\n",
       "      <td>0</td>\n",
       "      <td>0</td>\n",
       "      <td>0</td>\n",
       "      <td>1</td>\n",
       "      <td>0</td>\n",
       "      <td>0</td>\n",
       "      <td>2</td>\n",
       "    </tr>\n",
       "    <tr>\n",
       "      <th>71797</th>\n",
       "      <td>2</td>\n",
       "      <td>1</td>\n",
       "      <td>1</td>\n",
       "      <td>0</td>\n",
       "      <td>0</td>\n",
       "      <td>0</td>\n",
       "      <td>0</td>\n",
       "      <td>1</td>\n",
       "      <td>0</td>\n",
       "      <td>0</td>\n",
       "      <td>...</td>\n",
       "      <td>0</td>\n",
       "      <td>0</td>\n",
       "      <td>1</td>\n",
       "      <td>0</td>\n",
       "      <td>0</td>\n",
       "      <td>0</td>\n",
       "      <td>0</td>\n",
       "      <td>0</td>\n",
       "      <td>0</td>\n",
       "      <td>6</td>\n",
       "    </tr>\n",
       "  </tbody>\n",
       "</table>\n",
       "<p>5 rows × 33 columns</p>\n",
       "</div>"
      ],
      "text/plain": [
       "       family_member  company_size  gender_1  gender_2  region_1  region_2  \\\n",
       "51802              1             1         1         0         0         1   \n",
       "24685              4             1         1         0         0         1   \n",
       "20910              3             0         1         0         0         0   \n",
       "24267              4            10         1         0         0         1   \n",
       "71797              2             1         1         0         0         0   \n",
       "\n",
       "       region_3  region_4  region_5  region_6  ...  education_level_1  \\\n",
       "51802         0         0         0         0  ...                  0   \n",
       "24685         0         0         0         0  ...                  0   \n",
       "20910         0         1         0         0  ...                  0   \n",
       "24267         0         0         0         0  ...                  0   \n",
       "71797         0         1         0         0  ...                  0   \n",
       "\n",
       "       education_level_2  education_level_3  education_level_4  \\\n",
       "51802                  0                  0                  0   \n",
       "24685                  0                  0                  0   \n",
       "20910                  0                  0                  0   \n",
       "24267                  0                  0                  0   \n",
       "71797                  0                  1                  0   \n",
       "\n",
       "       education_level_5  education_level_6  education_level_7  \\\n",
       "51802                  1                  0                  0   \n",
       "24685                  1                  0                  0   \n",
       "20910                  1                  0                  0   \n",
       "24267                  0                  0                  1   \n",
       "71797                  0                  0                  0   \n",
       "\n",
       "       education_level_8  education_level_9  age_class  \n",
       "51802                  0                  0          4  \n",
       "24685                  0                  0          3  \n",
       "20910                  0                  0          5  \n",
       "24267                  0                  0          2  \n",
       "71797                  0                  0          6  \n",
       "\n",
       "[5 rows x 33 columns]"
      ]
     },
     "execution_count": 29,
     "metadata": {},
     "output_type": "execute_result"
    }
   ],
   "source": [
    "test.head()"
   ]
  },
  {
   "cell_type": "code",
   "execution_count": 30,
   "id": "131f1553",
   "metadata": {
    "id": "131f1553"
   },
   "outputs": [],
   "source": [
    "y_train=train[['log_income']]\n",
    "x_train=train.drop(['log_income'],axis=1)\n",
    "\n",
    "# income을 예측하는 모형을 만드는 것이므로 income을 종속변수\n",
    "# income을 제외한 나머지 변수는 독립변수로 x_train에 투입"
   ]
  },
  {
   "cell_type": "code",
   "execution_count": 31,
   "id": "41089785",
   "metadata": {
    "colab": {
     "base_uri": "https://localhost:8080/",
     "height": 206
    },
    "id": "41089785",
    "outputId": "9730458a-cd34-4839-a6de-3701ac76378a",
    "scrolled": false
   },
   "outputs": [
    {
     "data": {
      "text/html": [
       "<div>\n",
       "<style scoped>\n",
       "    .dataframe tbody tr th:only-of-type {\n",
       "        vertical-align: middle;\n",
       "    }\n",
       "\n",
       "    .dataframe tbody tr th {\n",
       "        vertical-align: top;\n",
       "    }\n",
       "\n",
       "    .dataframe thead th {\n",
       "        text-align: right;\n",
       "    }\n",
       "</style>\n",
       "<table border=\"1\" class=\"dataframe\">\n",
       "  <thead>\n",
       "    <tr style=\"text-align: right;\">\n",
       "      <th></th>\n",
       "      <th>log_income</th>\n",
       "    </tr>\n",
       "  </thead>\n",
       "  <tbody>\n",
       "    <tr>\n",
       "      <th>77530</th>\n",
       "      <td>6.428105</td>\n",
       "    </tr>\n",
       "    <tr>\n",
       "      <th>25998</th>\n",
       "      <td>7.811568</td>\n",
       "    </tr>\n",
       "    <tr>\n",
       "      <th>3626</th>\n",
       "      <td>7.612831</td>\n",
       "    </tr>\n",
       "    <tr>\n",
       "      <th>50176</th>\n",
       "      <td>3.912023</td>\n",
       "    </tr>\n",
       "    <tr>\n",
       "      <th>17894</th>\n",
       "      <td>7.973500</td>\n",
       "    </tr>\n",
       "  </tbody>\n",
       "</table>\n",
       "</div>"
      ],
      "text/plain": [
       "       log_income\n",
       "77530    6.428105\n",
       "25998    7.811568\n",
       "3626     7.612831\n",
       "50176    3.912023\n",
       "17894    7.973500"
      ]
     },
     "execution_count": 31,
     "metadata": {},
     "output_type": "execute_result"
    }
   ],
   "source": [
    "y_train.head()"
   ]
  },
  {
   "cell_type": "code",
   "execution_count": 32,
   "id": "00a1ec8a",
   "metadata": {
    "colab": {
     "base_uri": "https://localhost:8080/",
     "height": 299
    },
    "id": "00a1ec8a",
    "outputId": "a917cee0-5c21-4a9a-9e1b-7130fafeb679"
   },
   "outputs": [
    {
     "data": {
      "text/html": [
       "<div>\n",
       "<style scoped>\n",
       "    .dataframe tbody tr th:only-of-type {\n",
       "        vertical-align: middle;\n",
       "    }\n",
       "\n",
       "    .dataframe tbody tr th {\n",
       "        vertical-align: top;\n",
       "    }\n",
       "\n",
       "    .dataframe thead th {\n",
       "        text-align: right;\n",
       "    }\n",
       "</style>\n",
       "<table border=\"1\" class=\"dataframe\">\n",
       "  <thead>\n",
       "    <tr style=\"text-align: right;\">\n",
       "      <th></th>\n",
       "      <th>family_member</th>\n",
       "      <th>company_size</th>\n",
       "      <th>gender_1</th>\n",
       "      <th>gender_2</th>\n",
       "      <th>region_1</th>\n",
       "      <th>region_2</th>\n",
       "      <th>region_3</th>\n",
       "      <th>region_4</th>\n",
       "      <th>region_5</th>\n",
       "      <th>region_6</th>\n",
       "      <th>...</th>\n",
       "      <th>education_level_1</th>\n",
       "      <th>education_level_2</th>\n",
       "      <th>education_level_3</th>\n",
       "      <th>education_level_4</th>\n",
       "      <th>education_level_5</th>\n",
       "      <th>education_level_6</th>\n",
       "      <th>education_level_7</th>\n",
       "      <th>education_level_8</th>\n",
       "      <th>education_level_9</th>\n",
       "      <th>age_class</th>\n",
       "    </tr>\n",
       "  </thead>\n",
       "  <tbody>\n",
       "    <tr>\n",
       "      <th>77530</th>\n",
       "      <td>1</td>\n",
       "      <td>1</td>\n",
       "      <td>0</td>\n",
       "      <td>1</td>\n",
       "      <td>0</td>\n",
       "      <td>0</td>\n",
       "      <td>1</td>\n",
       "      <td>0</td>\n",
       "      <td>0</td>\n",
       "      <td>0</td>\n",
       "      <td>...</td>\n",
       "      <td>0</td>\n",
       "      <td>1</td>\n",
       "      <td>0</td>\n",
       "      <td>0</td>\n",
       "      <td>0</td>\n",
       "      <td>0</td>\n",
       "      <td>0</td>\n",
       "      <td>0</td>\n",
       "      <td>0</td>\n",
       "      <td>6</td>\n",
       "    </tr>\n",
       "    <tr>\n",
       "      <th>25998</th>\n",
       "      <td>2</td>\n",
       "      <td>0</td>\n",
       "      <td>1</td>\n",
       "      <td>0</td>\n",
       "      <td>0</td>\n",
       "      <td>1</td>\n",
       "      <td>0</td>\n",
       "      <td>0</td>\n",
       "      <td>0</td>\n",
       "      <td>0</td>\n",
       "      <td>...</td>\n",
       "      <td>0</td>\n",
       "      <td>0</td>\n",
       "      <td>0</td>\n",
       "      <td>0</td>\n",
       "      <td>1</td>\n",
       "      <td>0</td>\n",
       "      <td>0</td>\n",
       "      <td>0</td>\n",
       "      <td>0</td>\n",
       "      <td>6</td>\n",
       "    </tr>\n",
       "    <tr>\n",
       "      <th>3626</th>\n",
       "      <td>4</td>\n",
       "      <td>1</td>\n",
       "      <td>0</td>\n",
       "      <td>1</td>\n",
       "      <td>1</td>\n",
       "      <td>0</td>\n",
       "      <td>0</td>\n",
       "      <td>0</td>\n",
       "      <td>0</td>\n",
       "      <td>0</td>\n",
       "      <td>...</td>\n",
       "      <td>0</td>\n",
       "      <td>0</td>\n",
       "      <td>0</td>\n",
       "      <td>1</td>\n",
       "      <td>0</td>\n",
       "      <td>0</td>\n",
       "      <td>0</td>\n",
       "      <td>0</td>\n",
       "      <td>0</td>\n",
       "      <td>4</td>\n",
       "    </tr>\n",
       "    <tr>\n",
       "      <th>50176</th>\n",
       "      <td>1</td>\n",
       "      <td>0</td>\n",
       "      <td>0</td>\n",
       "      <td>1</td>\n",
       "      <td>0</td>\n",
       "      <td>0</td>\n",
       "      <td>0</td>\n",
       "      <td>0</td>\n",
       "      <td>0</td>\n",
       "      <td>1</td>\n",
       "      <td>...</td>\n",
       "      <td>0</td>\n",
       "      <td>0</td>\n",
       "      <td>1</td>\n",
       "      <td>0</td>\n",
       "      <td>0</td>\n",
       "      <td>0</td>\n",
       "      <td>0</td>\n",
       "      <td>0</td>\n",
       "      <td>0</td>\n",
       "      <td>7</td>\n",
       "    </tr>\n",
       "    <tr>\n",
       "      <th>17894</th>\n",
       "      <td>6</td>\n",
       "      <td>1</td>\n",
       "      <td>1</td>\n",
       "      <td>0</td>\n",
       "      <td>0</td>\n",
       "      <td>0</td>\n",
       "      <td>1</td>\n",
       "      <td>0</td>\n",
       "      <td>0</td>\n",
       "      <td>0</td>\n",
       "      <td>...</td>\n",
       "      <td>0</td>\n",
       "      <td>0</td>\n",
       "      <td>0</td>\n",
       "      <td>0</td>\n",
       "      <td>0</td>\n",
       "      <td>0</td>\n",
       "      <td>1</td>\n",
       "      <td>0</td>\n",
       "      <td>0</td>\n",
       "      <td>3</td>\n",
       "    </tr>\n",
       "  </tbody>\n",
       "</table>\n",
       "<p>5 rows × 33 columns</p>\n",
       "</div>"
      ],
      "text/plain": [
       "       family_member  company_size  gender_1  gender_2  region_1  region_2  \\\n",
       "77530              1             1         0         1         0         0   \n",
       "25998              2             0         1         0         0         1   \n",
       "3626               4             1         0         1         1         0   \n",
       "50176              1             0         0         1         0         0   \n",
       "17894              6             1         1         0         0         0   \n",
       "\n",
       "       region_3  region_4  region_5  region_6  ...  education_level_1  \\\n",
       "77530         1         0         0         0  ...                  0   \n",
       "25998         0         0         0         0  ...                  0   \n",
       "3626          0         0         0         0  ...                  0   \n",
       "50176         0         0         0         1  ...                  0   \n",
       "17894         1         0         0         0  ...                  0   \n",
       "\n",
       "       education_level_2  education_level_3  education_level_4  \\\n",
       "77530                  1                  0                  0   \n",
       "25998                  0                  0                  0   \n",
       "3626                   0                  0                  1   \n",
       "50176                  0                  1                  0   \n",
       "17894                  0                  0                  0   \n",
       "\n",
       "       education_level_5  education_level_6  education_level_7  \\\n",
       "77530                  0                  0                  0   \n",
       "25998                  1                  0                  0   \n",
       "3626                   0                  0                  0   \n",
       "50176                  0                  0                  0   \n",
       "17894                  0                  0                  1   \n",
       "\n",
       "       education_level_8  education_level_9  age_class  \n",
       "77530                  0                  0          6  \n",
       "25998                  0                  0          6  \n",
       "3626                   0                  0          4  \n",
       "50176                  0                  0          7  \n",
       "17894                  0                  0          3  \n",
       "\n",
       "[5 rows x 33 columns]"
      ]
     },
     "execution_count": 32,
     "metadata": {},
     "output_type": "execute_result"
    }
   ],
   "source": [
    "x_train.head()"
   ]
  },
  {
   "cell_type": "code",
   "execution_count": 33,
   "id": "a93bf109",
   "metadata": {
    "id": "a93bf109"
   },
   "outputs": [],
   "source": [
    "x_train, x_val, y_train, y_val = train_test_split(x_train, y_train, test_size = 0.15)\n",
    "\n",
    "# train_test_split()함수를 이용하여 x_train과 y_train을 각각 x_train, x_validation, y_train, y_validation으로 split\n",
    "# test_size는 test data가 전체 data의 약 15%이기에 validation 또한 15%로 하였음"
   ]
  },
  {
   "cell_type": "code",
   "execution_count": 34,
   "id": "65329e01",
   "metadata": {
    "colab": {
     "base_uri": "https://localhost:8080/"
    },
    "id": "65329e01",
    "outputId": "91042e24-fac0-450e-83ef-a9a733613a88"
   },
   "outputs": [
    {
     "name": "stdout",
     "output_type": "stream",
     "text": [
      "(66636, 33) (11760, 33)\n",
      "(66636, 1) (11760, 1)\n"
     ]
    }
   ],
   "source": [
    "print(x_train.shape,x_val.shape)\n",
    "print(y_train.shape,y_val.shape)"
   ]
  },
  {
   "cell_type": "code",
   "execution_count": 35,
   "id": "fd54ec94",
   "metadata": {
    "scrolled": true
   },
   "outputs": [
    {
     "name": "stderr",
     "output_type": "stream",
     "text": [
      "C:\\ProgramData\\Anaconda3\\lib\\site-packages\\sklearn\\utils\\validation.py:63: FutureWarning: Arrays of bytes/strings is being converted to decimal numbers if dtype='numeric'. This behavior is deprecated in 0.24 and will be removed in 1.1 (renaming of 0.26). Please convert your data to numeric values explicitly instead.\n",
      "  return f(*args, **kwargs)\n",
      "C:\\ProgramData\\Anaconda3\\lib\\site-packages\\sklearn\\utils\\validation.py:63: FutureWarning: Arrays of bytes/strings is being converted to decimal numbers if dtype='numeric'. This behavior is deprecated in 0.24 and will be removed in 1.1 (renaming of 0.26). Please convert your data to numeric values explicitly instead.\n",
      "  return f(*args, **kwargs)\n",
      "C:\\ProgramData\\Anaconda3\\lib\\site-packages\\sklearn\\utils\\validation.py:63: FutureWarning: Arrays of bytes/strings is being converted to decimal numbers if dtype='numeric'. This behavior is deprecated in 0.24 and will be removed in 1.1 (renaming of 0.26). Please convert your data to numeric values explicitly instead.\n",
      "  return f(*args, **kwargs)\n"
     ]
    },
    {
     "name": "stdout",
     "output_type": "stream",
     "text": [
      "train set score: 0.6073284209727781\n",
      "valid set score: 0.608428982036286\n"
     ]
    },
    {
     "name": "stderr",
     "output_type": "stream",
     "text": [
      "C:\\ProgramData\\Anaconda3\\lib\\site-packages\\sklearn\\utils\\validation.py:63: FutureWarning: Arrays of bytes/strings is being converted to decimal numbers if dtype='numeric'. This behavior is deprecated in 0.24 and will be removed in 1.1 (renaming of 0.26). Please convert your data to numeric values explicitly instead.\n",
      "  return f(*args, **kwargs)\n"
     ]
    },
    {
     "data": {
      "image/png": "[encoded data removed]",
      "text/plain": [
       "<Figure size 432x288 with 1 Axes>"
      ]
     },
     "metadata": {
      "needs_background": "light"
     },
     "output_type": "display_data"
    }
   ],
   "source": [
    "#여기서부터 모델 돌리기\n",
    "LR = LinearRegression()\n",
    "LR=LR.fit(x_train, y_train)\n",
    "y_prediction = LR.predict(x_val)\n",
    "y_test=y_prediction\n",
    "\n",
    "print(\"train set score:\", LR.score(x_train, y_train))\n",
    "print(\"valid set score:\",LR.score(x_val, y_val))\n",
    "\n",
    "plt.scatter(y_val, y_prediction, alpha=0.4)\n",
    "plt.title(\"MULTIPLE LINEAR REGRESSION\")\n",
    "plt.xlabel('Actual income')\n",
    "plt.ylabel('Predicted income')\n",
    "plt.show()"
   ]
  },
  {
   "cell_type": "code",
   "execution_count": 36,
   "id": "3b1783fb",
   "metadata": {},
   "outputs": [
    {
     "name": "stdout",
     "output_type": "stream",
     "text": [
      "R-square: 0.608428982036286\n"
     ]
    },
    {
     "name": "stderr",
     "output_type": "stream",
     "text": [
      "C:\\ProgramData\\Anaconda3\\lib\\site-packages\\sklearn\\utils\\validation.py:63: FutureWarning: Arrays of bytes/strings is being converted to decimal numbers if dtype='numeric'. This behavior is deprecated in 0.24 and will be removed in 1.1 (renaming of 0.26). Please convert your data to numeric values explicitly instead.\n",
      "  return f(*args, **kwargs)\n"
     ]
    }
   ],
   "source": [
    "print(\"R-square:\",LR.score(x_val, y_val))"
   ]
  },
  {
   "cell_type": "code",
   "execution_count": 37,
   "id": "afb29c89",
   "metadata": {},
   "outputs": [
    {
     "name": "stdout",
     "output_type": "stream",
     "text": [
      "R-squre: 0.6175056627231792\n"
     ]
    }
   ],
   "source": [
    "from sklearn.tree import DecisionTreeRegressor\n",
    "tree = DecisionTreeRegressor().fit(x_train, y_train)\n",
    "print(\"R-squre:\", tree.score(x_val, y_val))"
   ]
  },
  {
   "cell_type": "code",
   "execution_count": 38,
   "id": "e66ac0a9",
   "metadata": {
    "id": "e66ac0a9"
   },
   "outputs": [
    {
     "name": "stdout",
     "output_type": "stream",
     "text": [
      "Fitting 3 folds for each of 25 candidates, totalling 75 fits\n"
     ]
    },
    {
     "name": "stderr",
     "output_type": "stream",
     "text": [
      "C:\\ProgramData\\Anaconda3\\lib\\site-packages\\sklearn\\svm\\_base.py:255: ConvergenceWarning: Solver terminated early (max_iter=1000).  Consider pre-processing your data with StandardScaler or MinMaxScaler.\n",
      "  warnings.warn('Solver terminated early (max_iter=%i).'\n"
     ]
    },
    {
     "name": "stdout",
     "output_type": "stream",
     "text": [
      "[CV] END ...............................C=0.1, kernel=linear; total time=   5.6s\n"
     ]
    },
    {
     "name": "stderr",
     "output_type": "stream",
     "text": [
      "C:\\ProgramData\\Anaconda3\\lib\\site-packages\\sklearn\\svm\\_base.py:255: ConvergenceWarning: Solver terminated early (max_iter=1000).  Consider pre-processing your data with StandardScaler or MinMaxScaler.\n",
      "  warnings.warn('Solver terminated early (max_iter=%i).'\n"
     ]
    },
    {
     "name": "stdout",
     "output_type": "stream",
     "text": [
      "[CV] END ...............................C=0.1, kernel=linear; total time=   5.1s\n"
     ]
    },
    {
     "name": "stderr",
     "output_type": "stream",
     "text": [
      "C:\\ProgramData\\Anaconda3\\lib\\site-packages\\sklearn\\svm\\_base.py:255: ConvergenceWarning: Solver terminated early (max_iter=1000).  Consider pre-processing your data with StandardScaler or MinMaxScaler.\n",
      "  warnings.warn('Solver terminated early (max_iter=%i).'\n"
     ]
    },
    {
     "name": "stdout",
     "output_type": "stream",
     "text": [
      "[CV] END ...............................C=0.1, kernel=linear; total time=   5.1s\n"
     ]
    },
    {
     "name": "stderr",
     "output_type": "stream",
     "text": [
      "C:\\ProgramData\\Anaconda3\\lib\\site-packages\\sklearn\\svm\\_base.py:255: ConvergenceWarning: Solver terminated early (max_iter=1000).  Consider pre-processing your data with StandardScaler or MinMaxScaler.\n",
      "  warnings.warn('Solver terminated early (max_iter=%i).'\n"
     ]
    },
    {
     "name": "stdout",
     "output_type": "stream",
     "text": [
      "[CV] END ...............................C=1.0, kernel=linear; total time=   4.8s\n"
     ]
    },
    {
     "name": "stderr",
     "output_type": "stream",
     "text": [
      "C:\\ProgramData\\Anaconda3\\lib\\site-packages\\sklearn\\svm\\_base.py:255: ConvergenceWarning: Solver terminated early (max_iter=1000).  Consider pre-processing your data with StandardScaler or MinMaxScaler.\n",
      "  warnings.warn('Solver terminated early (max_iter=%i).'\n"
     ]
    },
    {
     "name": "stdout",
     "output_type": "stream",
     "text": [
      "[CV] END ...............................C=1.0, kernel=linear; total time=   4.5s\n"
     ]
    },
    {
     "name": "stderr",
     "output_type": "stream",
     "text": [
      "C:\\ProgramData\\Anaconda3\\lib\\site-packages\\sklearn\\svm\\_base.py:255: ConvergenceWarning: Solver terminated early (max_iter=1000).  Consider pre-processing your data with StandardScaler or MinMaxScaler.\n",
      "  warnings.warn('Solver terminated early (max_iter=%i).'\n"
     ]
    },
    {
     "name": "stdout",
     "output_type": "stream",
     "text": [
      "[CV] END ...............................C=1.0, kernel=linear; total time=   4.7s\n"
     ]
    },
    {
     "name": "stderr",
     "output_type": "stream",
     "text": [
      "C:\\ProgramData\\Anaconda3\\lib\\site-packages\\sklearn\\svm\\_base.py:255: ConvergenceWarning: Solver terminated early (max_iter=1000).  Consider pre-processing your data with StandardScaler or MinMaxScaler.\n",
      "  warnings.warn('Solver terminated early (max_iter=%i).'\n"
     ]
    },
    {
     "name": "stdout",
     "output_type": "stream",
     "text": [
      "[CV] END ..............................C=10.0, kernel=linear; total time=   3.2s\n"
     ]
    },
    {
     "name": "stderr",
     "output_type": "stream",
     "text": [
      "C:\\ProgramData\\Anaconda3\\lib\\site-packages\\sklearn\\svm\\_base.py:255: ConvergenceWarning: Solver terminated early (max_iter=1000).  Consider pre-processing your data with StandardScaler or MinMaxScaler.\n",
      "  warnings.warn('Solver terminated early (max_iter=%i).'\n"
     ]
    },
    {
     "name": "stdout",
     "output_type": "stream",
     "text": [
      "[CV] END ..............................C=10.0, kernel=linear; total time=   3.0s\n"
     ]
    },
    {
     "name": "stderr",
     "output_type": "stream",
     "text": [
      "C:\\ProgramData\\Anaconda3\\lib\\site-packages\\sklearn\\svm\\_base.py:255: ConvergenceWarning: Solver terminated early (max_iter=1000).  Consider pre-processing your data with StandardScaler or MinMaxScaler.\n",
      "  warnings.warn('Solver terminated early (max_iter=%i).'\n"
     ]
    },
    {
     "name": "stdout",
     "output_type": "stream",
     "text": [
      "[CV] END ..............................C=10.0, kernel=linear; total time=   3.0s\n"
     ]
    },
    {
     "name": "stderr",
     "output_type": "stream",
     "text": [
      "C:\\ProgramData\\Anaconda3\\lib\\site-packages\\sklearn\\svm\\_base.py:255: ConvergenceWarning: Solver terminated early (max_iter=1000).  Consider pre-processing your data with StandardScaler or MinMaxScaler.\n",
      "  warnings.warn('Solver terminated early (max_iter=%i).'\n"
     ]
    },
    {
     "name": "stdout",
     "output_type": "stream",
     "text": [
      "[CV] END ..............................C=30.0, kernel=linear; total time=   2.5s\n"
     ]
    },
    {
     "name": "stderr",
     "output_type": "stream",
     "text": [
      "C:\\ProgramData\\Anaconda3\\lib\\site-packages\\sklearn\\svm\\_base.py:255: ConvergenceWarning: Solver terminated early (max_iter=1000).  Consider pre-processing your data with StandardScaler or MinMaxScaler.\n",
      "  warnings.warn('Solver terminated early (max_iter=%i).'\n"
     ]
    },
    {
     "name": "stdout",
     "output_type": "stream",
     "text": [
      "[CV] END ..............................C=30.0, kernel=linear; total time=   2.7s\n"
     ]
    },
    {
     "name": "stderr",
     "output_type": "stream",
     "text": [
      "C:\\ProgramData\\Anaconda3\\lib\\site-packages\\sklearn\\svm\\_base.py:255: ConvergenceWarning: Solver terminated early (max_iter=1000).  Consider pre-processing your data with StandardScaler or MinMaxScaler.\n",
      "  warnings.warn('Solver terminated early (max_iter=%i).'\n"
     ]
    },
    {
     "name": "stdout",
     "output_type": "stream",
     "text": [
      "[CV] END ..............................C=30.0, kernel=linear; total time=   2.6s\n"
     ]
    },
    {
     "name": "stderr",
     "output_type": "stream",
     "text": [
      "C:\\ProgramData\\Anaconda3\\lib\\site-packages\\sklearn\\svm\\_base.py:255: ConvergenceWarning: Solver terminated early (max_iter=1000).  Consider pre-processing your data with StandardScaler or MinMaxScaler.\n",
      "  warnings.warn('Solver terminated early (max_iter=%i).'\n"
     ]
    },
    {
     "name": "stdout",
     "output_type": "stream",
     "text": [
      "[CV] END .............................C=100.0, kernel=linear; total time=   2.9s\n"
     ]
    },
    {
     "name": "stderr",
     "output_type": "stream",
     "text": [
      "C:\\ProgramData\\Anaconda3\\lib\\site-packages\\sklearn\\svm\\_base.py:255: ConvergenceWarning: Solver terminated early (max_iter=1000).  Consider pre-processing your data with StandardScaler or MinMaxScaler.\n",
      "  warnings.warn('Solver terminated early (max_iter=%i).'\n"
     ]
    },
    {
     "name": "stdout",
     "output_type": "stream",
     "text": [
      "[CV] END .............................C=100.0, kernel=linear; total time=   2.3s\n"
     ]
    },
    {
     "name": "stderr",
     "output_type": "stream",
     "text": [
      "C:\\ProgramData\\Anaconda3\\lib\\site-packages\\sklearn\\svm\\_base.py:255: ConvergenceWarning: Solver terminated early (max_iter=1000).  Consider pre-processing your data with StandardScaler or MinMaxScaler.\n",
      "  warnings.warn('Solver terminated early (max_iter=%i).'\n"
     ]
    },
    {
     "name": "stdout",
     "output_type": "stream",
     "text": [
      "[CV] END .............................C=100.0, kernel=linear; total time=   2.7s\n"
     ]
    },
    {
     "name": "stderr",
     "output_type": "stream",
     "text": [
      "C:\\ProgramData\\Anaconda3\\lib\\site-packages\\sklearn\\svm\\_base.py:255: ConvergenceWarning: Solver terminated early (max_iter=1000).  Consider pre-processing your data with StandardScaler or MinMaxScaler.\n",
      "  warnings.warn('Solver terminated early (max_iter=%i).'\n"
     ]
    },
    {
     "name": "stdout",
     "output_type": "stream",
     "text": [
      "[CV] END ......................C=0.1, gamma=0.01, kernel=rbf; total time=   9.2s\n"
     ]
    },
    {
     "name": "stderr",
     "output_type": "stream",
     "text": [
      "C:\\ProgramData\\Anaconda3\\lib\\site-packages\\sklearn\\svm\\_base.py:255: ConvergenceWarning: Solver terminated early (max_iter=1000).  Consider pre-processing your data with StandardScaler or MinMaxScaler.\n",
      "  warnings.warn('Solver terminated early (max_iter=%i).'\n"
     ]
    },
    {
     "name": "stdout",
     "output_type": "stream",
     "text": [
      "[CV] END ......................C=0.1, gamma=0.01, kernel=rbf; total time=   9.2s\n"
     ]
    },
    {
     "name": "stderr",
     "output_type": "stream",
     "text": [
      "C:\\ProgramData\\Anaconda3\\lib\\site-packages\\sklearn\\svm\\_base.py:255: ConvergenceWarning: Solver terminated early (max_iter=1000).  Consider pre-processing your data with StandardScaler or MinMaxScaler.\n",
      "  warnings.warn('Solver terminated early (max_iter=%i).'\n"
     ]
    },
    {
     "name": "stdout",
     "output_type": "stream",
     "text": [
      "[CV] END ......................C=0.1, gamma=0.01, kernel=rbf; total time=   9.8s\n"
     ]
    },
    {
     "name": "stderr",
     "output_type": "stream",
     "text": [
      "C:\\ProgramData\\Anaconda3\\lib\\site-packages\\sklearn\\svm\\_base.py:255: ConvergenceWarning: Solver terminated early (max_iter=1000).  Consider pre-processing your data with StandardScaler or MinMaxScaler.\n",
      "  warnings.warn('Solver terminated early (max_iter=%i).'\n"
     ]
    },
    {
     "name": "stdout",
     "output_type": "stream",
     "text": [
      "[CV] END ......................C=0.1, gamma=0.03, kernel=rbf; total time=   9.4s\n"
     ]
    },
    {
     "name": "stderr",
     "output_type": "stream",
     "text": [
      "C:\\ProgramData\\Anaconda3\\lib\\site-packages\\sklearn\\svm\\_base.py:255: ConvergenceWarning: Solver terminated early (max_iter=1000).  Consider pre-processing your data with StandardScaler or MinMaxScaler.\n",
      "  warnings.warn('Solver terminated early (max_iter=%i).'\n"
     ]
    },
    {
     "name": "stdout",
     "output_type": "stream",
     "text": [
      "[CV] END ......................C=0.1, gamma=0.03, kernel=rbf; total time=   9.3s\n"
     ]
    },
    {
     "name": "stderr",
     "output_type": "stream",
     "text": [
      "C:\\ProgramData\\Anaconda3\\lib\\site-packages\\sklearn\\svm\\_base.py:255: ConvergenceWarning: Solver terminated early (max_iter=1000).  Consider pre-processing your data with StandardScaler or MinMaxScaler.\n",
      "  warnings.warn('Solver terminated early (max_iter=%i).'\n"
     ]
    },
    {
     "name": "stdout",
     "output_type": "stream",
     "text": [
      "[CV] END ......................C=0.1, gamma=0.03, kernel=rbf; total time=   9.4s\n"
     ]
    },
    {
     "name": "stderr",
     "output_type": "stream",
     "text": [
      "C:\\ProgramData\\Anaconda3\\lib\\site-packages\\sklearn\\svm\\_base.py:255: ConvergenceWarning: Solver terminated early (max_iter=1000).  Consider pre-processing your data with StandardScaler or MinMaxScaler.\n",
      "  warnings.warn('Solver terminated early (max_iter=%i).'\n"
     ]
    },
    {
     "name": "stdout",
     "output_type": "stream",
     "text": [
      "[CV] END .......................C=0.1, gamma=0.1, kernel=rbf; total time=   9.3s\n"
     ]
    },
    {
     "name": "stderr",
     "output_type": "stream",
     "text": [
      "C:\\ProgramData\\Anaconda3\\lib\\site-packages\\sklearn\\svm\\_base.py:255: ConvergenceWarning: Solver terminated early (max_iter=1000).  Consider pre-processing your data with StandardScaler or MinMaxScaler.\n",
      "  warnings.warn('Solver terminated early (max_iter=%i).'\n"
     ]
    },
    {
     "name": "stdout",
     "output_type": "stream",
     "text": [
      "[CV] END .......................C=0.1, gamma=0.1, kernel=rbf; total time=   9.6s\n"
     ]
    },
    {
     "name": "stderr",
     "output_type": "stream",
     "text": [
      "C:\\ProgramData\\Anaconda3\\lib\\site-packages\\sklearn\\svm\\_base.py:255: ConvergenceWarning: Solver terminated early (max_iter=1000).  Consider pre-processing your data with StandardScaler or MinMaxScaler.\n",
      "  warnings.warn('Solver terminated early (max_iter=%i).'\n"
     ]
    },
    {
     "name": "stdout",
     "output_type": "stream",
     "text": [
      "[CV] END .......................C=0.1, gamma=0.1, kernel=rbf; total time=   9.7s\n"
     ]
    },
    {
     "name": "stderr",
     "output_type": "stream",
     "text": [
      "C:\\ProgramData\\Anaconda3\\lib\\site-packages\\sklearn\\svm\\_base.py:255: ConvergenceWarning: Solver terminated early (max_iter=1000).  Consider pre-processing your data with StandardScaler or MinMaxScaler.\n",
      "  warnings.warn('Solver terminated early (max_iter=%i).'\n"
     ]
    },
    {
     "name": "stdout",
     "output_type": "stream",
     "text": [
      "[CV] END .......................C=0.1, gamma=0.3, kernel=rbf; total time=   9.6s\n"
     ]
    },
    {
     "name": "stderr",
     "output_type": "stream",
     "text": [
      "C:\\ProgramData\\Anaconda3\\lib\\site-packages\\sklearn\\svm\\_base.py:255: ConvergenceWarning: Solver terminated early (max_iter=1000).  Consider pre-processing your data with StandardScaler or MinMaxScaler.\n",
      "  warnings.warn('Solver terminated early (max_iter=%i).'\n"
     ]
    },
    {
     "name": "stdout",
     "output_type": "stream",
     "text": [
      "[CV] END .......................C=0.1, gamma=0.3, kernel=rbf; total time=   9.4s\n"
     ]
    },
    {
     "name": "stderr",
     "output_type": "stream",
     "text": [
      "C:\\ProgramData\\Anaconda3\\lib\\site-packages\\sklearn\\svm\\_base.py:255: ConvergenceWarning: Solver terminated early (max_iter=1000).  Consider pre-processing your data with StandardScaler or MinMaxScaler.\n",
      "  warnings.warn('Solver terminated early (max_iter=%i).'\n"
     ]
    },
    {
     "name": "stdout",
     "output_type": "stream",
     "text": [
      "[CV] END .......................C=0.1, gamma=0.3, kernel=rbf; total time=   9.8s\n"
     ]
    },
    {
     "name": "stderr",
     "output_type": "stream",
     "text": [
      "C:\\ProgramData\\Anaconda3\\lib\\site-packages\\sklearn\\svm\\_base.py:255: ConvergenceWarning: Solver terminated early (max_iter=1000).  Consider pre-processing your data with StandardScaler or MinMaxScaler.\n",
      "  warnings.warn('Solver terminated early (max_iter=%i).'\n"
     ]
    },
    {
     "name": "stdout",
     "output_type": "stream",
     "text": [
      "[CV] END .......................C=0.1, gamma=1.0, kernel=rbf; total time=   9.3s\n"
     ]
    },
    {
     "name": "stderr",
     "output_type": "stream",
     "text": [
      "C:\\ProgramData\\Anaconda3\\lib\\site-packages\\sklearn\\svm\\_base.py:255: ConvergenceWarning: Solver terminated early (max_iter=1000).  Consider pre-processing your data with StandardScaler or MinMaxScaler.\n",
      "  warnings.warn('Solver terminated early (max_iter=%i).'\n"
     ]
    },
    {
     "name": "stdout",
     "output_type": "stream",
     "text": [
      "[CV] END .......................C=0.1, gamma=1.0, kernel=rbf; total time=  10.1s\n"
     ]
    },
    {
     "name": "stderr",
     "output_type": "stream",
     "text": [
      "C:\\ProgramData\\Anaconda3\\lib\\site-packages\\sklearn\\svm\\_base.py:255: ConvergenceWarning: Solver terminated early (max_iter=1000).  Consider pre-processing your data with StandardScaler or MinMaxScaler.\n",
      "  warnings.warn('Solver terminated early (max_iter=%i).'\n"
     ]
    },
    {
     "name": "stdout",
     "output_type": "stream",
     "text": [
      "[CV] END .......................C=0.1, gamma=1.0, kernel=rbf; total time=   9.6s\n"
     ]
    },
    {
     "name": "stderr",
     "output_type": "stream",
     "text": [
      "C:\\ProgramData\\Anaconda3\\lib\\site-packages\\sklearn\\svm\\_base.py:255: ConvergenceWarning: Solver terminated early (max_iter=1000).  Consider pre-processing your data with StandardScaler or MinMaxScaler.\n",
      "  warnings.warn('Solver terminated early (max_iter=%i).'\n"
     ]
    },
    {
     "name": "stdout",
     "output_type": "stream",
     "text": [
      "[CV] END ......................C=1.0, gamma=0.01, kernel=rbf; total time=   9.4s\n"
     ]
    },
    {
     "name": "stderr",
     "output_type": "stream",
     "text": [
      "C:\\ProgramData\\Anaconda3\\lib\\site-packages\\sklearn\\svm\\_base.py:255: ConvergenceWarning: Solver terminated early (max_iter=1000).  Consider pre-processing your data with StandardScaler or MinMaxScaler.\n",
      "  warnings.warn('Solver terminated early (max_iter=%i).'\n"
     ]
    },
    {
     "name": "stdout",
     "output_type": "stream",
     "text": [
      "[CV] END ......................C=1.0, gamma=0.01, kernel=rbf; total time=   9.3s\n"
     ]
    },
    {
     "name": "stderr",
     "output_type": "stream",
     "text": [
      "C:\\ProgramData\\Anaconda3\\lib\\site-packages\\sklearn\\svm\\_base.py:255: ConvergenceWarning: Solver terminated early (max_iter=1000).  Consider pre-processing your data with StandardScaler or MinMaxScaler.\n",
      "  warnings.warn('Solver terminated early (max_iter=%i).'\n"
     ]
    },
    {
     "name": "stdout",
     "output_type": "stream",
     "text": [
      "[CV] END ......................C=1.0, gamma=0.01, kernel=rbf; total time=   9.3s\n"
     ]
    },
    {
     "name": "stderr",
     "output_type": "stream",
     "text": [
      "C:\\ProgramData\\Anaconda3\\lib\\site-packages\\sklearn\\svm\\_base.py:255: ConvergenceWarning: Solver terminated early (max_iter=1000).  Consider pre-processing your data with StandardScaler or MinMaxScaler.\n",
      "  warnings.warn('Solver terminated early (max_iter=%i).'\n"
     ]
    },
    {
     "name": "stdout",
     "output_type": "stream",
     "text": [
      "[CV] END ......................C=1.0, gamma=0.03, kernel=rbf; total time=   9.5s\n"
     ]
    },
    {
     "name": "stderr",
     "output_type": "stream",
     "text": [
      "C:\\ProgramData\\Anaconda3\\lib\\site-packages\\sklearn\\svm\\_base.py:255: ConvergenceWarning: Solver terminated early (max_iter=1000).  Consider pre-processing your data with StandardScaler or MinMaxScaler.\n",
      "  warnings.warn('Solver terminated early (max_iter=%i).'\n"
     ]
    },
    {
     "name": "stdout",
     "output_type": "stream",
     "text": [
      "[CV] END ......................C=1.0, gamma=0.03, kernel=rbf; total time=   9.3s\n"
     ]
    },
    {
     "name": "stderr",
     "output_type": "stream",
     "text": [
      "C:\\ProgramData\\Anaconda3\\lib\\site-packages\\sklearn\\svm\\_base.py:255: ConvergenceWarning: Solver terminated early (max_iter=1000).  Consider pre-processing your data with StandardScaler or MinMaxScaler.\n",
      "  warnings.warn('Solver terminated early (max_iter=%i).'\n"
     ]
    },
    {
     "name": "stdout",
     "output_type": "stream",
     "text": [
      "[CV] END ......................C=1.0, gamma=0.03, kernel=rbf; total time=   9.4s\n"
     ]
    },
    {
     "name": "stderr",
     "output_type": "stream",
     "text": [
      "C:\\ProgramData\\Anaconda3\\lib\\site-packages\\sklearn\\svm\\_base.py:255: ConvergenceWarning: Solver terminated early (max_iter=1000).  Consider pre-processing your data with StandardScaler or MinMaxScaler.\n",
      "  warnings.warn('Solver terminated early (max_iter=%i).'\n"
     ]
    },
    {
     "name": "stdout",
     "output_type": "stream",
     "text": [
      "[CV] END .......................C=1.0, gamma=0.1, kernel=rbf; total time=   9.4s\n"
     ]
    },
    {
     "name": "stderr",
     "output_type": "stream",
     "text": [
      "C:\\ProgramData\\Anaconda3\\lib\\site-packages\\sklearn\\svm\\_base.py:255: ConvergenceWarning: Solver terminated early (max_iter=1000).  Consider pre-processing your data with StandardScaler or MinMaxScaler.\n",
      "  warnings.warn('Solver terminated early (max_iter=%i).'\n"
     ]
    },
    {
     "name": "stdout",
     "output_type": "stream",
     "text": [
      "[CV] END .......................C=1.0, gamma=0.1, kernel=rbf; total time=   9.5s\n"
     ]
    },
    {
     "name": "stderr",
     "output_type": "stream",
     "text": [
      "C:\\ProgramData\\Anaconda3\\lib\\site-packages\\sklearn\\svm\\_base.py:255: ConvergenceWarning: Solver terminated early (max_iter=1000).  Consider pre-processing your data with StandardScaler or MinMaxScaler.\n",
      "  warnings.warn('Solver terminated early (max_iter=%i).'\n"
     ]
    },
    {
     "name": "stdout",
     "output_type": "stream",
     "text": [
      "[CV] END .......................C=1.0, gamma=0.1, kernel=rbf; total time=   9.4s\n"
     ]
    },
    {
     "name": "stderr",
     "output_type": "stream",
     "text": [
      "C:\\ProgramData\\Anaconda3\\lib\\site-packages\\sklearn\\svm\\_base.py:255: ConvergenceWarning: Solver terminated early (max_iter=1000).  Consider pre-processing your data with StandardScaler or MinMaxScaler.\n",
      "  warnings.warn('Solver terminated early (max_iter=%i).'\n"
     ]
    },
    {
     "name": "stdout",
     "output_type": "stream",
     "text": [
      "[CV] END .......................C=1.0, gamma=0.3, kernel=rbf; total time=   9.5s\n"
     ]
    },
    {
     "name": "stderr",
     "output_type": "stream",
     "text": [
      "C:\\ProgramData\\Anaconda3\\lib\\site-packages\\sklearn\\svm\\_base.py:255: ConvergenceWarning: Solver terminated early (max_iter=1000).  Consider pre-processing your data with StandardScaler or MinMaxScaler.\n",
      "  warnings.warn('Solver terminated early (max_iter=%i).'\n"
     ]
    },
    {
     "name": "stdout",
     "output_type": "stream",
     "text": [
      "[CV] END .......................C=1.0, gamma=0.3, kernel=rbf; total time=   9.5s\n"
     ]
    },
    {
     "name": "stderr",
     "output_type": "stream",
     "text": [
      "C:\\ProgramData\\Anaconda3\\lib\\site-packages\\sklearn\\svm\\_base.py:255: ConvergenceWarning: Solver terminated early (max_iter=1000).  Consider pre-processing your data with StandardScaler or MinMaxScaler.\n",
      "  warnings.warn('Solver terminated early (max_iter=%i).'\n"
     ]
    },
    {
     "name": "stdout",
     "output_type": "stream",
     "text": [
      "[CV] END .......................C=1.0, gamma=0.3, kernel=rbf; total time=   9.3s\n"
     ]
    },
    {
     "name": "stderr",
     "output_type": "stream",
     "text": [
      "C:\\ProgramData\\Anaconda3\\lib\\site-packages\\sklearn\\svm\\_base.py:255: ConvergenceWarning: Solver terminated early (max_iter=1000).  Consider pre-processing your data with StandardScaler or MinMaxScaler.\n",
      "  warnings.warn('Solver terminated early (max_iter=%i).'\n"
     ]
    },
    {
     "name": "stdout",
     "output_type": "stream",
     "text": [
      "[CV] END .......................C=1.0, gamma=1.0, kernel=rbf; total time=   9.6s\n"
     ]
    },
    {
     "name": "stderr",
     "output_type": "stream",
     "text": [
      "C:\\ProgramData\\Anaconda3\\lib\\site-packages\\sklearn\\svm\\_base.py:255: ConvergenceWarning: Solver terminated early (max_iter=1000).  Consider pre-processing your data with StandardScaler or MinMaxScaler.\n",
      "  warnings.warn('Solver terminated early (max_iter=%i).'\n"
     ]
    },
    {
     "name": "stdout",
     "output_type": "stream",
     "text": [
      "[CV] END .......................C=1.0, gamma=1.0, kernel=rbf; total time=   9.5s\n"
     ]
    },
    {
     "name": "stderr",
     "output_type": "stream",
     "text": [
      "C:\\ProgramData\\Anaconda3\\lib\\site-packages\\sklearn\\svm\\_base.py:255: ConvergenceWarning: Solver terminated early (max_iter=1000).  Consider pre-processing your data with StandardScaler or MinMaxScaler.\n",
      "  warnings.warn('Solver terminated early (max_iter=%i).'\n"
     ]
    },
    {
     "name": "stdout",
     "output_type": "stream",
     "text": [
      "[CV] END .......................C=1.0, gamma=1.0, kernel=rbf; total time=   9.6s\n"
     ]
    },
    {
     "name": "stderr",
     "output_type": "stream",
     "text": [
      "C:\\ProgramData\\Anaconda3\\lib\\site-packages\\sklearn\\svm\\_base.py:255: ConvergenceWarning: Solver terminated early (max_iter=1000).  Consider pre-processing your data with StandardScaler or MinMaxScaler.\n",
      "  warnings.warn('Solver terminated early (max_iter=%i).'\n"
     ]
    },
    {
     "name": "stdout",
     "output_type": "stream",
     "text": [
      "[CV] END .....................C=10.0, gamma=0.01, kernel=rbf; total time=   9.3s\n"
     ]
    },
    {
     "name": "stderr",
     "output_type": "stream",
     "text": [
      "C:\\ProgramData\\Anaconda3\\lib\\site-packages\\sklearn\\svm\\_base.py:255: ConvergenceWarning: Solver terminated early (max_iter=1000).  Consider pre-processing your data with StandardScaler or MinMaxScaler.\n",
      "  warnings.warn('Solver terminated early (max_iter=%i).'\n"
     ]
    },
    {
     "name": "stdout",
     "output_type": "stream",
     "text": [
      "[CV] END .....................C=10.0, gamma=0.01, kernel=rbf; total time=   9.4s\n"
     ]
    },
    {
     "name": "stderr",
     "output_type": "stream",
     "text": [
      "C:\\ProgramData\\Anaconda3\\lib\\site-packages\\sklearn\\svm\\_base.py:255: ConvergenceWarning: Solver terminated early (max_iter=1000).  Consider pre-processing your data with StandardScaler or MinMaxScaler.\n",
      "  warnings.warn('Solver terminated early (max_iter=%i).'\n"
     ]
    },
    {
     "name": "stdout",
     "output_type": "stream",
     "text": [
      "[CV] END .....................C=10.0, gamma=0.01, kernel=rbf; total time=   9.5s\n"
     ]
    },
    {
     "name": "stderr",
     "output_type": "stream",
     "text": [
      "C:\\ProgramData\\Anaconda3\\lib\\site-packages\\sklearn\\svm\\_base.py:255: ConvergenceWarning: Solver terminated early (max_iter=1000).  Consider pre-processing your data with StandardScaler or MinMaxScaler.\n",
      "  warnings.warn('Solver terminated early (max_iter=%i).'\n"
     ]
    },
    {
     "name": "stdout",
     "output_type": "stream",
     "text": [
      "[CV] END .....................C=10.0, gamma=0.03, kernel=rbf; total time=   9.3s\n"
     ]
    },
    {
     "name": "stderr",
     "output_type": "stream",
     "text": [
      "C:\\ProgramData\\Anaconda3\\lib\\site-packages\\sklearn\\svm\\_base.py:255: ConvergenceWarning: Solver terminated early (max_iter=1000).  Consider pre-processing your data with StandardScaler or MinMaxScaler.\n",
      "  warnings.warn('Solver terminated early (max_iter=%i).'\n"
     ]
    },
    {
     "name": "stdout",
     "output_type": "stream",
     "text": [
      "[CV] END .....................C=10.0, gamma=0.03, kernel=rbf; total time=   9.4s\n"
     ]
    },
    {
     "name": "stderr",
     "output_type": "stream",
     "text": [
      "C:\\ProgramData\\Anaconda3\\lib\\site-packages\\sklearn\\svm\\_base.py:255: ConvergenceWarning: Solver terminated early (max_iter=1000).  Consider pre-processing your data with StandardScaler or MinMaxScaler.\n",
      "  warnings.warn('Solver terminated early (max_iter=%i).'\n"
     ]
    },
    {
     "name": "stdout",
     "output_type": "stream",
     "text": [
      "[CV] END .....................C=10.0, gamma=0.03, kernel=rbf; total time=   9.5s\n"
     ]
    },
    {
     "name": "stderr",
     "output_type": "stream",
     "text": [
      "C:\\ProgramData\\Anaconda3\\lib\\site-packages\\sklearn\\svm\\_base.py:255: ConvergenceWarning: Solver terminated early (max_iter=1000).  Consider pre-processing your data with StandardScaler or MinMaxScaler.\n",
      "  warnings.warn('Solver terminated early (max_iter=%i).'\n"
     ]
    },
    {
     "name": "stdout",
     "output_type": "stream",
     "text": [
      "[CV] END ......................C=10.0, gamma=0.1, kernel=rbf; total time=   8.4s\n"
     ]
    },
    {
     "name": "stderr",
     "output_type": "stream",
     "text": [
      "C:\\ProgramData\\Anaconda3\\lib\\site-packages\\sklearn\\svm\\_base.py:255: ConvergenceWarning: Solver terminated early (max_iter=1000).  Consider pre-processing your data with StandardScaler or MinMaxScaler.\n",
      "  warnings.warn('Solver terminated early (max_iter=%i).'\n"
     ]
    },
    {
     "name": "stdout",
     "output_type": "stream",
     "text": [
      "[CV] END ......................C=10.0, gamma=0.1, kernel=rbf; total time=   8.9s\n"
     ]
    },
    {
     "name": "stderr",
     "output_type": "stream",
     "text": [
      "C:\\ProgramData\\Anaconda3\\lib\\site-packages\\sklearn\\svm\\_base.py:255: ConvergenceWarning: Solver terminated early (max_iter=1000).  Consider pre-processing your data with StandardScaler or MinMaxScaler.\n",
      "  warnings.warn('Solver terminated early (max_iter=%i).'\n"
     ]
    },
    {
     "name": "stdout",
     "output_type": "stream",
     "text": [
      "[CV] END ......................C=10.0, gamma=0.1, kernel=rbf; total time=   8.7s\n"
     ]
    },
    {
     "name": "stderr",
     "output_type": "stream",
     "text": [
      "C:\\ProgramData\\Anaconda3\\lib\\site-packages\\sklearn\\svm\\_base.py:255: ConvergenceWarning: Solver terminated early (max_iter=1000).  Consider pre-processing your data with StandardScaler or MinMaxScaler.\n",
      "  warnings.warn('Solver terminated early (max_iter=%i).'\n"
     ]
    },
    {
     "name": "stdout",
     "output_type": "stream",
     "text": [
      "[CV] END ......................C=10.0, gamma=0.3, kernel=rbf; total time=   6.8s\n"
     ]
    },
    {
     "name": "stderr",
     "output_type": "stream",
     "text": [
      "C:\\ProgramData\\Anaconda3\\lib\\site-packages\\sklearn\\svm\\_base.py:255: ConvergenceWarning: Solver terminated early (max_iter=1000).  Consider pre-processing your data with StandardScaler or MinMaxScaler.\n",
      "  warnings.warn('Solver terminated early (max_iter=%i).'\n"
     ]
    },
    {
     "name": "stdout",
     "output_type": "stream",
     "text": [
      "[CV] END ......................C=10.0, gamma=0.3, kernel=rbf; total time=   7.5s\n"
     ]
    },
    {
     "name": "stderr",
     "output_type": "stream",
     "text": [
      "C:\\ProgramData\\Anaconda3\\lib\\site-packages\\sklearn\\svm\\_base.py:255: ConvergenceWarning: Solver terminated early (max_iter=1000).  Consider pre-processing your data with StandardScaler or MinMaxScaler.\n",
      "  warnings.warn('Solver terminated early (max_iter=%i).'\n"
     ]
    },
    {
     "name": "stdout",
     "output_type": "stream",
     "text": [
      "[CV] END ......................C=10.0, gamma=0.3, kernel=rbf; total time=   7.4s\n"
     ]
    },
    {
     "name": "stderr",
     "output_type": "stream",
     "text": [
      "C:\\ProgramData\\Anaconda3\\lib\\site-packages\\sklearn\\svm\\_base.py:255: ConvergenceWarning: Solver terminated early (max_iter=1000).  Consider pre-processing your data with StandardScaler or MinMaxScaler.\n",
      "  warnings.warn('Solver terminated early (max_iter=%i).'\n"
     ]
    },
    {
     "name": "stdout",
     "output_type": "stream",
     "text": [
      "[CV] END ......................C=10.0, gamma=1.0, kernel=rbf; total time=   6.6s\n"
     ]
    },
    {
     "name": "stderr",
     "output_type": "stream",
     "text": [
      "C:\\ProgramData\\Anaconda3\\lib\\site-packages\\sklearn\\svm\\_base.py:255: ConvergenceWarning: Solver terminated early (max_iter=1000).  Consider pre-processing your data with StandardScaler or MinMaxScaler.\n",
      "  warnings.warn('Solver terminated early (max_iter=%i).'\n"
     ]
    },
    {
     "name": "stdout",
     "output_type": "stream",
     "text": [
      "[CV] END ......................C=10.0, gamma=1.0, kernel=rbf; total time=   6.6s\n"
     ]
    },
    {
     "name": "stderr",
     "output_type": "stream",
     "text": [
      "C:\\ProgramData\\Anaconda3\\lib\\site-packages\\sklearn\\svm\\_base.py:255: ConvergenceWarning: Solver terminated early (max_iter=1000).  Consider pre-processing your data with StandardScaler or MinMaxScaler.\n",
      "  warnings.warn('Solver terminated early (max_iter=%i).'\n"
     ]
    },
    {
     "name": "stdout",
     "output_type": "stream",
     "text": [
      "[CV] END ......................C=10.0, gamma=1.0, kernel=rbf; total time=   6.8s\n"
     ]
    },
    {
     "name": "stderr",
     "output_type": "stream",
     "text": [
      "C:\\ProgramData\\Anaconda3\\lib\\site-packages\\sklearn\\svm\\_base.py:255: ConvergenceWarning: Solver terminated early (max_iter=1000).  Consider pre-processing your data with StandardScaler or MinMaxScaler.\n",
      "  warnings.warn('Solver terminated early (max_iter=%i).'\n"
     ]
    },
    {
     "name": "stdout",
     "output_type": "stream",
     "text": [
      "[CV] END .....................C=30.0, gamma=0.01, kernel=rbf; total time=   9.5s\n"
     ]
    },
    {
     "name": "stderr",
     "output_type": "stream",
     "text": [
      "C:\\ProgramData\\Anaconda3\\lib\\site-packages\\sklearn\\svm\\_base.py:255: ConvergenceWarning: Solver terminated early (max_iter=1000).  Consider pre-processing your data with StandardScaler or MinMaxScaler.\n",
      "  warnings.warn('Solver terminated early (max_iter=%i).'\n"
     ]
    },
    {
     "name": "stdout",
     "output_type": "stream",
     "text": [
      "[CV] END .....................C=30.0, gamma=0.01, kernel=rbf; total time=   9.5s\n"
     ]
    },
    {
     "name": "stderr",
     "output_type": "stream",
     "text": [
      "C:\\ProgramData\\Anaconda3\\lib\\site-packages\\sklearn\\svm\\_base.py:255: ConvergenceWarning: Solver terminated early (max_iter=1000).  Consider pre-processing your data with StandardScaler or MinMaxScaler.\n",
      "  warnings.warn('Solver terminated early (max_iter=%i).'\n"
     ]
    },
    {
     "name": "stdout",
     "output_type": "stream",
     "text": [
      "[CV] END .....................C=30.0, gamma=0.01, kernel=rbf; total time=   9.4s\n"
     ]
    },
    {
     "name": "stderr",
     "output_type": "stream",
     "text": [
      "C:\\ProgramData\\Anaconda3\\lib\\site-packages\\sklearn\\svm\\_base.py:255: ConvergenceWarning: Solver terminated early (max_iter=1000).  Consider pre-processing your data with StandardScaler or MinMaxScaler.\n",
      "  warnings.warn('Solver terminated early (max_iter=%i).'\n"
     ]
    },
    {
     "name": "stdout",
     "output_type": "stream",
     "text": [
      "[CV] END .....................C=30.0, gamma=0.03, kernel=rbf; total time=   9.2s\n"
     ]
    },
    {
     "name": "stderr",
     "output_type": "stream",
     "text": [
      "C:\\ProgramData\\Anaconda3\\lib\\site-packages\\sklearn\\svm\\_base.py:255: ConvergenceWarning: Solver terminated early (max_iter=1000).  Consider pre-processing your data with StandardScaler or MinMaxScaler.\n",
      "  warnings.warn('Solver terminated early (max_iter=%i).'\n"
     ]
    },
    {
     "name": "stdout",
     "output_type": "stream",
     "text": [
      "[CV] END .....................C=30.0, gamma=0.03, kernel=rbf; total time=   9.0s\n"
     ]
    },
    {
     "name": "stderr",
     "output_type": "stream",
     "text": [
      "C:\\ProgramData\\Anaconda3\\lib\\site-packages\\sklearn\\svm\\_base.py:255: ConvergenceWarning: Solver terminated early (max_iter=1000).  Consider pre-processing your data with StandardScaler or MinMaxScaler.\n",
      "  warnings.warn('Solver terminated early (max_iter=%i).'\n"
     ]
    },
    {
     "name": "stdout",
     "output_type": "stream",
     "text": [
      "[CV] END .....................C=30.0, gamma=0.03, kernel=rbf; total time=   9.0s\n"
     ]
    },
    {
     "name": "stderr",
     "output_type": "stream",
     "text": [
      "C:\\ProgramData\\Anaconda3\\lib\\site-packages\\sklearn\\svm\\_base.py:255: ConvergenceWarning: Solver terminated early (max_iter=1000).  Consider pre-processing your data with StandardScaler or MinMaxScaler.\n",
      "  warnings.warn('Solver terminated early (max_iter=%i).'\n"
     ]
    },
    {
     "name": "stdout",
     "output_type": "stream",
     "text": [
      "[CV] END ......................C=30.0, gamma=0.1, kernel=rbf; total time=   8.6s\n"
     ]
    },
    {
     "name": "stderr",
     "output_type": "stream",
     "text": [
      "C:\\ProgramData\\Anaconda3\\lib\\site-packages\\sklearn\\svm\\_base.py:255: ConvergenceWarning: Solver terminated early (max_iter=1000).  Consider pre-processing your data with StandardScaler or MinMaxScaler.\n",
      "  warnings.warn('Solver terminated early (max_iter=%i).'\n"
     ]
    },
    {
     "name": "stdout",
     "output_type": "stream",
     "text": [
      "[CV] END ......................C=30.0, gamma=0.1, kernel=rbf; total time=   8.3s\n"
     ]
    },
    {
     "name": "stderr",
     "output_type": "stream",
     "text": [
      "C:\\ProgramData\\Anaconda3\\lib\\site-packages\\sklearn\\svm\\_base.py:255: ConvergenceWarning: Solver terminated early (max_iter=1000).  Consider pre-processing your data with StandardScaler or MinMaxScaler.\n",
      "  warnings.warn('Solver terminated early (max_iter=%i).'\n"
     ]
    },
    {
     "name": "stdout",
     "output_type": "stream",
     "text": [
      "[CV] END ......................C=30.0, gamma=0.1, kernel=rbf; total time=   8.3s\n"
     ]
    },
    {
     "name": "stderr",
     "output_type": "stream",
     "text": [
      "C:\\ProgramData\\Anaconda3\\lib\\site-packages\\sklearn\\svm\\_base.py:255: ConvergenceWarning: Solver terminated early (max_iter=1000).  Consider pre-processing your data with StandardScaler or MinMaxScaler.\n",
      "  warnings.warn('Solver terminated early (max_iter=%i).'\n"
     ]
    },
    {
     "name": "stdout",
     "output_type": "stream",
     "text": [
      "[CV] END ......................C=30.0, gamma=0.3, kernel=rbf; total time=   7.3s\n"
     ]
    },
    {
     "name": "stderr",
     "output_type": "stream",
     "text": [
      "C:\\ProgramData\\Anaconda3\\lib\\site-packages\\sklearn\\svm\\_base.py:255: ConvergenceWarning: Solver terminated early (max_iter=1000).  Consider pre-processing your data with StandardScaler or MinMaxScaler.\n",
      "  warnings.warn('Solver terminated early (max_iter=%i).'\n"
     ]
    },
    {
     "name": "stdout",
     "output_type": "stream",
     "text": [
      "[CV] END ......................C=30.0, gamma=0.3, kernel=rbf; total time=   7.1s\n"
     ]
    },
    {
     "name": "stderr",
     "output_type": "stream",
     "text": [
      "C:\\ProgramData\\Anaconda3\\lib\\site-packages\\sklearn\\svm\\_base.py:255: ConvergenceWarning: Solver terminated early (max_iter=1000).  Consider pre-processing your data with StandardScaler or MinMaxScaler.\n",
      "  warnings.warn('Solver terminated early (max_iter=%i).'\n"
     ]
    },
    {
     "name": "stdout",
     "output_type": "stream",
     "text": [
      "[CV] END ......................C=30.0, gamma=0.3, kernel=rbf; total time=   7.7s\n"
     ]
    },
    {
     "name": "stderr",
     "output_type": "stream",
     "text": [
      "C:\\ProgramData\\Anaconda3\\lib\\site-packages\\sklearn\\svm\\_base.py:255: ConvergenceWarning: Solver terminated early (max_iter=1000).  Consider pre-processing your data with StandardScaler or MinMaxScaler.\n",
      "  warnings.warn('Solver terminated early (max_iter=%i).'\n"
     ]
    },
    {
     "name": "stdout",
     "output_type": "stream",
     "text": [
      "[CV] END ......................C=30.0, gamma=1.0, kernel=rbf; total time=   6.6s\n"
     ]
    },
    {
     "name": "stderr",
     "output_type": "stream",
     "text": [
      "C:\\ProgramData\\Anaconda3\\lib\\site-packages\\sklearn\\svm\\_base.py:255: ConvergenceWarning: Solver terminated early (max_iter=1000).  Consider pre-processing your data with StandardScaler or MinMaxScaler.\n",
      "  warnings.warn('Solver terminated early (max_iter=%i).'\n"
     ]
    },
    {
     "name": "stdout",
     "output_type": "stream",
     "text": [
      "[CV] END ......................C=30.0, gamma=1.0, kernel=rbf; total time=   6.7s\n"
     ]
    },
    {
     "name": "stderr",
     "output_type": "stream",
     "text": [
      "C:\\ProgramData\\Anaconda3\\lib\\site-packages\\sklearn\\svm\\_base.py:255: ConvergenceWarning: Solver terminated early (max_iter=1000).  Consider pre-processing your data with StandardScaler or MinMaxScaler.\n",
      "  warnings.warn('Solver terminated early (max_iter=%i).'\n"
     ]
    },
    {
     "name": "stdout",
     "output_type": "stream",
     "text": [
      "[CV] END ......................C=30.0, gamma=1.0, kernel=rbf; total time=   6.8s\n"
     ]
    },
    {
     "name": "stderr",
     "output_type": "stream",
     "text": [
      "C:\\ProgramData\\Anaconda3\\lib\\site-packages\\sklearn\\svm\\_base.py:255: ConvergenceWarning: Solver terminated early (max_iter=1000).  Consider pre-processing your data with StandardScaler or MinMaxScaler.\n",
      "  warnings.warn('Solver terminated early (max_iter=%i).'\n"
     ]
    },
    {
     "data": {
      "text/plain": [
       "GridSearchCV(cv=3, estimator=SVR(max_iter=1000),\n",
       "             param_grid=[{'C': [0.1, 1.0, 10.0, 30.0, 100.0],\n",
       "                          'kernel': ['linear']},\n",
       "                         {'C': [0.1, 1.0, 10.0, 30.0],\n",
       "                          'gamma': [0.01, 0.03, 0.1, 0.3, 1.0],\n",
       "                          'kernel': ['rbf']}],\n",
       "             scoring='neg_mean_squared_error', verbose=2)"
      ]
     },
     "execution_count": 38,
     "metadata": {},
     "output_type": "execute_result"
    }
   ],
   "source": [
    "import numpy as np\n",
    "from sklearn import datasets\n",
    "from sklearn.svm import SVR\n",
    "from sklearn.metrics import mean_squared_error, explained_variance_score\n",
    "from sklearn.metrics import r2_score\n",
    "from sklearn.model_selection import GridSearchCV\n",
    "\n",
    "param_grid = [{'kernel': ['linear'], 'C': [0.1,1., 10., 30., 100.]},\n",
    "              {'kernel': ['rbf'], 'C': [0.1,1., 10., 30.], 'gamma': [0.01, 0.03, 0.1, 0.3, 1.0]}]\n",
    "\n",
    "svm_reg = SVR(max_iter = 1000)\n",
    "\n",
    "grid_search = GridSearchCV(svm_reg, param_grid, cv=10, scoring=\"neg_mean_squared_error\", verbose=2)\n",
    "grid_search.fit(x_train, y_train.values.ravel())"
   ]
  },
  {
   "cell_type": "code",
   "execution_count": 41,
   "id": "PztLpP8ONw-Y",
   "metadata": {
    "colab": {
     "base_uri": "https://localhost:8080/"
    },
    "id": "PztLpP8ONw-Y",
    "outputId": "deb5b645-5b98-46c4-f32b-7b82e151ae52"
   },
   "outputs": [
    {
     "data": {
      "text/plain": [
       "{'C': 10.0, 'gamma': 0.3, 'kernel': 'rbf'}"
      ]
     },
     "execution_count": 41,
     "metadata": {},
     "output_type": "execute_result"
    }
   ],
   "source": [
    "grid_search.best_params_"
   ]
  },
  {
   "cell_type": "code",
   "execution_count": 42,
   "id": "ff109caa",
   "metadata": {},
   "outputs": [
    {
     "data": {
      "text/plain": [
       "0.6446372119904992"
      ]
     },
     "execution_count": 42,
     "metadata": {},
     "output_type": "execute_result"
    }
   ],
   "source": [
    "-grid_search.best_score_"
   ]
  }
 ],
 "metadata": {
  "accelerator": "GPU",
  "colab": {
   "name": "6기 프로젝트1.ipynb",
   "provenance": []
  },
  "kernelspec": {
   "display_name": "Python 3 (ipykernel)",
   "language": "python",
   "name": "python3"
  },
  "language_info": {
   "codemirror_mode": {
    "name": "ipython",
    "version": 3
   },
   "file_extension": ".py",
   "mimetype": "text/x-python",
   "name": "python",
   "nbconvert_exporter": "python",
   "pygments_lexer": "ipython3",
   "version": "3.9.7"
  },
  "toc": {
   "base_numbering": 1,
   "nav_menu": {},
   "number_sections": true,
   "sideBar": true,
   "skip_h1_title": false,
   "title_cell": "Table of Contents",
   "title_sidebar": "Contents",
   "toc_cell": false,
   "toc_position": {},
   "toc_section_display": true,
   "toc_window_display": false
  },
  "varInspector": {
   "cols": {
    "lenName": 16,
    "lenType": 16,
    "lenVar": 40
   },
   "kernels_config": {
    "python": {
     "delete_cmd_postfix": "",
     "delete_cmd_prefix": "del ",
     "library": "var_list.py",
     "varRefreshCmd": "print(var_dic_list())"
    },
    "r": {
     "delete_cmd_postfix": ") ",
     "delete_cmd_prefix": "rm(",
     "library": "var_list.r",
     "varRefreshCmd": "cat(var_dic_list()) "
    }
   },
   "types_to_exclude": [
    "module",
    "function",
    "builtin_function_or_method",
    "instance",
    "_Feature"
   ],
   "window_display": false
  }
 },
 "nbformat": 4,
 "nbformat_minor": 5
}
