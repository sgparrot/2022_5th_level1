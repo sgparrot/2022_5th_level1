{
 "cells": [
  {
   "cell_type": "code",
   "execution_count": 1,
   "id": "0425eef1",
   "metadata": {},
   "outputs": [
    {
     "name": "stdout",
     "output_type": "stream",
     "text": [
      "(1797, 8, 8) (1797,)\n"
     ]
    }
   ],
   "source": [
    "import matplotlib.pyplot as plt\n",
    "from sklearn import datasets, svm, metrics\n",
    "from sklearn.metrics import accuracy_score, confusion_matrix\n",
    "from sklearn.model_selection import GridSearchCV\n",
    "\n",
    "digits = datasets.load_digits()\n",
    "\n",
    "print(digits.images.shape, digits.target.shape, end='\\n')\n",
    "\n",
    "images_and_label = list(zip(digits.images, digits.target))"
   ]
  },
  {
   "cell_type": "code",
   "execution_count": 2,
   "id": "53d11bf2",
   "metadata": {},
   "outputs": [
    {
     "data": {
      "image/png": "[encoded data removed]",
      "text/plain": [
       "<Figure size 432x288 with 6 Axes>"
      ]
     },
     "metadata": {
      "needs_background": "light"
     },
     "output_type": "display_data"
    }
   ],
   "source": [
    "#  show image and label\n",
    "for index, (image, label) in enumerate(images_and_label[:6]):\n",
    "    plt.subplot(2, 3, index + 1)  # 2 row, 3 column, plot image and label\n",
    "    plt.imshow(image, cmap=plt.cm.gray_r, interpolation='nearest')  # gray scale image\n",
    "    plt.title('Target: %i' % label)\n",
    "plt.show()"
   ]
  },
  {
   "cell_type": "code",
   "execution_count": 3,
   "id": "1c205dc7",
   "metadata": {},
   "outputs": [
    {
     "name": "stdout",
     "output_type": "stream",
     "text": [
      "(1797, 64)\n"
     ]
    }
   ],
   "source": [
    "# to apply a classifier on this data, we need to flatten the image : instead of a 8x8 matirx,\n",
    "# we have to use a one-dimensional array with 64 items\n",
    "data = digits.images.reshape((len(digits.images), -1)) #  reshape(# of row, # of col)\n",
    "\n",
    "\n",
    "print(data.shape)"
   ]
  },
  {
   "cell_type": "code",
   "execution_count": 4,
   "id": "5d7b767a",
   "metadata": {},
   "outputs": [
    {
     "name": "stdout",
     "output_type": "stream",
     "text": [
      "SVC(C=1, gamma=0.001)\n"
     ]
    }
   ],
   "source": [
    "param_grid = { 'C' : [0.1, 1, 5, 10, 20, 30, 40, 50, 60, 70, 100, 200], \n",
    "              'gamma' : [1, 0.1, 0.01, 0.001], \n",
    "              'kernel': ['rbf', 'poly', 'sigmoid']}\n",
    "\n",
    "classifier = svm.SVC()\n",
    "\n",
    "#  70% of original data-set is for training\n",
    "train_test_split = int(len(digits.images) * 0.7)\n",
    "grid = GridSearchCV(classifier, param_grid, refit=True)\n",
    "\n",
    "grid.fit(data[:train_test_split], digits.target[:train_test_split])\n",
    "print(grid.best_estimator_)"
   ]
  },
  {
   "cell_type": "code",
   "execution_count": 5,
   "id": "bde9fecc",
   "metadata": {},
   "outputs": [
    {
     "name": "stdout",
     "output_type": "stream",
     "text": [
      "[[52  0  0  0  1  0  0  0  0  0]\n",
      " [ 0 53  0  0  0  0  0  0  0  0]\n",
      " [ 0  0 52  1  0  0  0  0  0  0]\n",
      " [ 0  0  0 47  0  2  0  0  4  0]\n",
      " [ 0  0  0  0 54  0  0  0  1  2]\n",
      " [ 0  0  0  0  0 55  1  0  0  0]\n",
      " [ 0  1  0  0  0  0 53  0  0  0]\n",
      " [ 0  0  0  0  0  0  0 54  0  0]\n",
      " [ 0  1  0  0  0  0  0  0 51  0]\n",
      " [ 0  0  0  1  0  1  0  0  0 53]]\n",
      "0.9703703703703703\n"
     ]
    }
   ],
   "source": [
    "grid_prediction = grid.predict(data[train_test_split:])\n",
    "print(confusion_matrix(digits.target[train_test_split:], grid_prediction))\n",
    "print(accuracy_score(digits.target[train_test_split:], grid_prediction))"
   ]
  },
  {
   "cell_type": "code",
   "execution_count": 6,
   "id": "14ae9ee5",
   "metadata": {},
   "outputs": [
    {
     "name": "stdout",
     "output_type": "stream",
     "text": [
      "confusion matrix:\n",
      "[[52  0  0  0  1  0  0  0  0  0]\n",
      " [ 0 52  0  0  0  0  0  0  0  1]\n",
      " [ 1  0 51  1  0  0  0  0  0  0]\n",
      " [ 0  0  0 44  0  3  0  1  5  0]\n",
      " [ 0  0  0  0 54  0  0  0  1  2]\n",
      " [ 0  0  0  0  0 55  1  0  0  0]\n",
      " [ 0  1  0  0  0  0 53  0  0  0]\n",
      " [ 0  0  0  0  0  0  0 53  1  0]\n",
      " [ 0  1  0  0  0  0  0  0 50  1]\n",
      " [ 0  0  0  1  0  2  0  1  0 51]]\n",
      "\n",
      "0.9537037037037037\n"
     ]
    }
   ],
   "source": [
    "classifier.fit(data[:train_test_split], digits.target[:train_test_split])\n",
    "\n",
    "#  now predict the value of the digit on the 25%\n",
    "expected = digits.target[train_test_split:]\n",
    "predicted = classifier.predict(data[train_test_split:])\n",
    "print(f\"confusion matrix:\\n{metrics.confusion_matrix(expected, predicted)}\\n\" )\n",
    "print(accuracy_score(expected, predicted))\n"
   ]
  },
  {
   "cell_type": "code",
   "execution_count": 7,
   "id": "51be4b5f",
   "metadata": {},
   "outputs": [
    {
     "data": {
      "image/png": "[encoded data removed]",
      "text/plain": [
       "<Figure size 648x648 with 9 Axes>"
      ]
     },
     "metadata": {
      "needs_background": "light"
     },
     "output_type": "display_data"
    }
   ],
   "source": [
    "# let's test on the last few images\n",
    "\n",
    "fig, sub = plt.subplots(3, 3, figsize = (9, 9))\n",
    "plt.subplots_adjust(left=0.125, bottom=0, right=1, top=1, wspace=0.3, hspace=0.1)\n",
    "for i in range(3):\n",
    "    for j in range(3):\n",
    "    \n",
    "        sub[i][j].imshow(digits.images[i+j], cmap=plt.cm.gray_r, interpolation='nearest')\n",
    "        sub[i][j].set_title(str(classifier.predict(data[i+j].reshape(1,-1))))\n",
    "plt.show()\n"
   ]
  },
  {
   "cell_type": "code",
   "execution_count": null,
   "id": "170cf0d8",
   "metadata": {},
   "outputs": [],
   "source": []
  }
 ],
 "metadata": {
  "kernelspec": {
   "display_name": "Python 3 (ipykernel)",
   "language": "python",
   "name": "python3"
  },
  "language_info": {
   "codemirror_mode": {
    "name": "ipython",
    "version": 3
   },
   "file_extension": ".py",
   "mimetype": "text/x-python",
   "name": "python",
   "nbconvert_exporter": "python",
   "pygments_lexer": "ipython3",
   "version": "3.9.7"
  },
  "toc": {
   "base_numbering": 1,
   "nav_menu": {},
   "number_sections": true,
   "sideBar": true,
   "skip_h1_title": false,
   "title_cell": "Table of Contents",
   "title_sidebar": "Contents",
   "toc_cell": false,
   "toc_position": {},
   "toc_section_display": true,
   "toc_window_display": false
  },
  "varInspector": {
   "cols": {
    "lenName": 16,
    "lenType": 16,
    "lenVar": 40
   },
   "kernels_config": {
    "python": {
     "delete_cmd_postfix": "",
     "delete_cmd_prefix": "del ",
     "library": "var_list.py",
     "varRefreshCmd": "print(var_dic_list())"
    },
    "r": {
     "delete_cmd_postfix": ") ",
     "delete_cmd_prefix": "rm(",
     "library": "var_list.r",
     "varRefreshCmd": "cat(var_dic_list()) "
    }
   },
   "types_to_exclude": [
    "module",
    "function",
    "builtin_function_or_method",
    "instance",
    "_Feature"
   ],
   "window_display": false
  }
 },
 "nbformat": 4,
 "nbformat_minor": 5
}
