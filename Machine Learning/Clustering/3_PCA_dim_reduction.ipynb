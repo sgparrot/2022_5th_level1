{
 "cells": [
  {
   "cell_type": "code",
   "execution_count": 3,
   "id": "9a530287",
   "metadata": {},
   "outputs": [],
   "source": [
    "from sklearn.model_selection import train_test_split, GridSearchCV\n",
    "from sklearn.datasets import fetch_openml\n",
    "from sklearn.preprocessing import StandardScaler\n",
    "from sklearn.decomposition import PCA\n",
    "from sklearn import svm\n",
    "from sklearn.metrics import confusion_matrix, accuracy_score"
   ]
  },
  {
   "cell_type": "code",
   "execution_count": 4,
   "id": "05269df9",
   "metadata": {},
   "outputs": [
    {
     "name": "stdout",
     "output_type": "stream",
     "text": [
      "(70000, 784)\n"
     ]
    }
   ],
   "source": [
    "# load data-set\n",
    "mnist_data = fetch_openml('mnist_784')\n",
    "\n",
    "features = mnist_data.data\n",
    "targets = mnist_data.target\n",
    "#  60,000 training sample, 10,000 test sample.\n",
    "#  target = 28 x 28\n",
    "print(features.shape)\n",
    "#  (70000, 784)"
   ]
  },
  {
   "cell_type": "code",
   "execution_count": 5,
   "id": "f3b72451",
   "metadata": {},
   "outputs": [
    {
     "name": "stdout",
     "output_type": "stream",
     "text": [
      "(59500, 784)\n"
     ]
    }
   ],
   "source": [
    "train_img, test_img, train_lbl, test_lbl = train_test_split(features, targets, test_size=0.15, random_state=123)\n",
    "\n",
    "scaler = StandardScaler()\n",
    "scaler.fit(train_img)  # calculate the mean and S for later scaling\n",
    "train_img = scaler.transform(train_img)  # perform standardization by centering and scaling\n",
    "test_img = scaler.transform(test_img)\n",
    "\n",
    "print(train_img.shape)\n",
    "#  (70000, 784) << original dataset so no change\n",
    "\n",
    "# We keep 95% of variance >> so 95% of the original information is used"
   ]
  },
  {
   "cell_type": "code",
   "execution_count": 6,
   "id": "10c1bcc5",
   "metadata": {},
   "outputs": [],
   "source": [
    "pca = PCA(.95)\n",
    "pca.fit(train_img)\n",
    "\n",
    "# Transform\n",
    "train_img = pca.transform(train_img)\n",
    "test_img = pca.transform(test_img)"
   ]
  },
  {
   "cell_type": "code",
   "execution_count": 7,
   "id": "4e0ceaa0",
   "metadata": {},
   "outputs": [
    {
     "name": "stdout",
     "output_type": "stream",
     "text": [
      "(59500, 328)\n"
     ]
    }
   ],
   "source": [
    " print(train_img.shape)\n",
    "#  (59500, 328) << approximately 400 features are removed while keeping 95% of original information\n",
    "#  instead of fitting 784 feature we can use 328 feature(almost half of feature)\n",
    "\n",
    "#  but DL can use original feature as whole >> much powerful"
   ]
  },
  {
   "cell_type": "code",
   "execution_count": null,
   "id": "8ec8b84d",
   "metadata": {},
   "outputs": [],
   "source": []
  }
 ],
 "metadata": {
  "kernelspec": {
   "display_name": "Python 3 (ipykernel)",
   "language": "python",
   "name": "python3"
  },
  "language_info": {
   "codemirror_mode": {
    "name": "ipython",
    "version": 3
   },
   "file_extension": ".py",
   "mimetype": "text/x-python",
   "name": "python",
   "nbconvert_exporter": "python",
   "pygments_lexer": "ipython3",
   "version": "3.9.7"
  },
  "toc": {
   "base_numbering": 1,
   "nav_menu": {},
   "number_sections": true,
   "sideBar": true,
   "skip_h1_title": false,
   "title_cell": "Table of Contents",
   "title_sidebar": "Contents",
   "toc_cell": false,
   "toc_position": {},
   "toc_section_display": true,
   "toc_window_display": false
  },
  "varInspector": {
   "cols": {
    "lenName": 16,
    "lenType": 16,
    "lenVar": 40
   },
   "kernels_config": {
    "python": {
     "delete_cmd_postfix": "",
     "delete_cmd_prefix": "del ",
     "library": "var_list.py",
     "varRefreshCmd": "print(var_dic_list())"
    },
    "r": {
     "delete_cmd_postfix": ") ",
     "delete_cmd_prefix": "rm(",
     "library": "var_list.r",
     "varRefreshCmd": "cat(var_dic_list()) "
    }
   },
   "types_to_exclude": [
    "module",
    "function",
    "builtin_function_or_method",
    "instance",
    "_Feature"
   ],
   "window_display": false
  }
 },
 "nbformat": 4,
 "nbformat_minor": 5
}
