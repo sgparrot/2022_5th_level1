{
  "nbformat": 4,
  "nbformat_minor": 0,
  "metadata": {
    "colab": {
      "name": "Numpy.ipynb",
      "provenance": [],
      "collapsed_sections": []
    },
    "kernelspec": {
      "name": "python3",
      "display_name": "Python 3"
    },
    "language_info": {
      "name": "python"
    }
  },
  "cells": [
    {
      "cell_type": "markdown",
      "source": [
        "#Anaconda\n",
        "- 파이썬 통합 개발환경(IDE)\n",
        "- jupyter notebook 지원\n",
        "- https://www.anaconda.com/products/individual\n",
        "\n",
        "#Jupyter notebook\n",
        "- Windows Powershell (shift+우클릭) / 명령 프롬프트(cmd) / Mac OS X terminal\n",
        " 실행\n",
        "- jupyter notebook 입력\n",
        "- H: 키보드 단축키 설명"
      ],
      "metadata": {
        "id": "EZ10QDOhujeQ"
      }
    },
    {
      "cell_type": "markdown",
      "source": [
        "## 데이터 처리 및 분석을 위한 파이썬 모듈\n",
        "\n",
        "1. Numpy: 다차원 배열 생성 및 연산\n",
        "2. Pandas: Dataframe 생성 및 조작\n",
        "3. Scipy: 과학 및 공학 연산 --> 통계분석\n",
        "4. Matplotlib: 시각화\n"
      ],
      "metadata": {
        "id": "Bbayl_iTuXdj"
      }
    },
    {
      "cell_type": "code",
      "source": [
        "#  모듈설치\n",
        "\n",
        "### Windows 명령 프롬프트(cmd), Powershell \n",
        "pip install numpy scipy pandas matplotlib --user\n",
        "### Mac OS 터미널\n",
        "pip3 install numpy scipy pandas matplotlib\n",
        "### Jupyter notebook\n",
        "!pip install numpy scipy pandas matplotlib"
      ],
      "metadata": {
        "id": "6LSy770o98I5"
      },
      "execution_count": null,
      "outputs": []
    },
    {
      "cell_type": "markdown",
      "source": [
        "\n",
        "# Numpy\n",
        "Numerical Python<br/><br/>\n",
        "다차원 배열(multi-dimensional array)을 쉽고 빠르게 처리<br/>\n",
        "숫자로 이루어진 Table형 데이터를 다룰 때 주로 사용(예: 이미지)<br/>\n",
        "같은 종류의 data type을 원소로 함<br/>\n",
        "\n",
        "https://wikidocs.net/14569\n"
      ],
      "metadata": {
        "id": "7KJh4KwXv0Eh"
      }
    },
    {
      "cell_type": "markdown",
      "source": [
        "###차원에 따라 데이터를 부르는 이름\n",
        "- 1차원: vector<br/>\n",
        "- 2차원: matrix<br/>\n",
        "- 3차원: tensor\n"
      ],
      "metadata": {
        "id": "rLkLfGovB81k"
      }
    },
    {
      "cell_type": "code",
      "source": [
        "# numpy 호출\n",
        "import numpy as np"
      ],
      "metadata": {
        "id": "M5iFb8VWxo5Y"
      },
      "execution_count": null,
      "outputs": []
    },
    {
      "cell_type": "markdown",
      "source": [
        "# Ndarray (N-dimensional Array) <b/>\n",
        "- numpy의 array함수, ...,\n",
        "- 같은 data type만을 가짐"
      ],
      "metadata": {
        "id": "FDPuzE48wbLQ"
      }
    },
    {
      "cell_type": "code",
      "source": [
        "# numpy.array(object, [dtype=None, copy=True, order=None, subok=False, ndmin=0])"
      ],
      "metadata": {
        "id": "TMNHW7GuQdd-"
      },
      "execution_count": null,
      "outputs": []
    },
    {
      "cell_type": "code",
      "source": [
        "import numpy as np\n",
        "a = [1,2,3,4,5.0]\n",
        "b = np.array(a)\n",
        "b"
      ],
      "metadata": {
        "id": "16Fe-kMSF6Jn",
        "colab": {
          "base_uri": "https://localhost:8080/"
        },
        "outputId": "b5b1999e-d51f-4b04-984b-debc32066dd8"
      },
      "execution_count": null,
      "outputs": [
        {
          "output_type": "execute_result",
          "data": {
            "text/plain": [
              "array([1., 2., 3., 4., 5.])"
            ]
          },
          "metadata": {},
          "execution_count": 97
        }
      ]
    },
    {
      "cell_type": "code",
      "source": [
        "# list와 ndarray 비교\n",
        "a = [9,2,5.06,20]\n",
        "b = np.array(a)\n",
        "c = np.array(a, dtype=\"int\")\n",
        "# b\n",
        "# c\n",
        "print(type(a),'\\n', type(b))"
      ],
      "metadata": {
        "id": "r8_VXu89FDnL",
        "colab": {
          "base_uri": "https://localhost:8080/"
        },
        "outputId": "acece1d2-470f-4de8-b925-13dd83eb15f5"
      },
      "execution_count": null,
      "outputs": [
        {
          "output_type": "stream",
          "name": "stdout",
          "text": [
            "<class 'list'> \n",
            " <class 'numpy.ndarray'>\n"
          ]
        }
      ]
    },
    {
      "cell_type": "code",
      "execution_count": null,
      "metadata": {
        "id": "PXZ4RMZmcdnh",
        "colab": {
          "base_uri": "https://localhost:8080/"
        },
        "outputId": "933c07b7-9502-438c-b84f-bb9d867d3175"
      },
      "outputs": [
        {
          "output_type": "execute_result",
          "data": {
            "text/plain": [
              "[9.0, 2.0, 5.06, 20.0]"
            ]
          },
          "metadata": {},
          "execution_count": 99
        }
      ],
      "source": [
        "# ndarray -> list 변환: tolist()\n",
        "b.tolist()"
      ]
    },
    {
      "cell_type": "code",
      "source": [
        "# ndarray 내부 data: int, float, (str), (bool)\n",
        "# data type: numeric(int, float, complex), str, bool, str, list, tuple, dict, set\n",
        "\n",
        "a = \"abcd\"\n",
        "b = list(a)\n",
        "c = tuple(a)\n",
        "d = dict((('a',1), ('b', 2)))\n",
        "e = set(a)"
      ],
      "metadata": {
        "id": "l8DInizXctg5"
      },
      "execution_count": null,
      "outputs": []
    },
    {
      "cell_type": "code",
      "source": [
        "#np.array(a)    # dtype = data type, 'U' = 유니코드 약자 = 문자열\n",
        "#np.array(b)    # 대괄호 [] = 차원\n",
        "#np.array(c)\n",
        "#np.array(d)    # object = 객체\n",
        "#np.array(e)"
      ],
      "metadata": {
        "id": "VsnWm5lMcuZz"
      },
      "execution_count": null,
      "outputs": []
    },
    {
      "cell_type": "code",
      "source": [
        "# size: 총 원소의 개수\n",
        "# shape: 차원구조\n",
        "# ndim : 차원 수\n",
        "# dtype: 원소의 data type\n",
        "\n",
        "print(np.array(a).size, np.array(a).shape, np.array(a).ndim, np.array(a).dtype)\n",
        "print(np.array(b).size, np.array(b).shape, np.array(b).ndim, np.array(b).dtype)\n",
        "print(np.array(c).size, np.array(c).shape, np.array(c).ndim, np.array(c).dtype)\n",
        "print(np.array(d).size, np.array(d).shape, np.array(d).ndim, np.array(d).dtype)\n",
        "print(np.array(e).size, np.array(e).shape, np.array(e).ndim, np.array(e).dtype)"
      ],
      "metadata": {
        "colab": {
          "base_uri": "https://localhost:8080/"
        },
        "id": "0_FVLwElCQqX",
        "outputId": "9d3f1bce-ad39-4e66-9214-0040a84dbaaf"
      },
      "execution_count": null,
      "outputs": [
        {
          "output_type": "stream",
          "name": "stdout",
          "text": [
            "1 () 0 <U4\n",
            "4 (4,) 1 <U1\n",
            "4 (4,) 1 <U1\n",
            "1 () 0 object\n",
            "1 () 0 object\n"
          ]
        }
      ]
    },
    {
      "cell_type": "code",
      "source": [
        "arr = np.array([[1,2,3,4],[5,6,7,8]])\n",
        "# np.array([(1,2,3,4),(5,6,7,8)])\n",
        "# np.array(([1,2,3,4),(5,6,7,8]))\n",
        "# np.array(((1,2,3,4),(5,6,7,8)))\n",
        "arr\n",
        "print(arr.size, arr.shape, arr.ndim, arr.dtype)\n",
        "#len(arr)"
      ],
      "metadata": {
        "colab": {
          "base_uri": "https://localhost:8080/"
        },
        "id": "00skozKzKq5F",
        "outputId": "7e2fa38b-0668-4d2d-9b21-0e18585fde59"
      },
      "execution_count": null,
      "outputs": [
        {
          "output_type": "stream",
          "name": "stdout",
          "text": [
            "8 (2, 4) 2 int64\n"
          ]
        }
      ]
    },
    {
      "cell_type": "code",
      "source": [
        "# ndarray 생성 함수\n",
        "- numpy.arange:np.arange([start,] stop[, step,], dtype=None)\n",
        "- numpy.linspace: numpy.linspace(start, stop, [num=50, endpoint=True, retstep=False, dtype=None)])\n",
        "- numpy.logspace:: log scale"
      ],
      "metadata": {
        "id": "UbYMbqOpPdx7",
        "colab": {
          "base_uri": "https://localhost:8080/",
          "height": 136
        },
        "outputId": "c911bb55-dc4a-4057-8f28-a7e53f209132"
      },
      "execution_count": null,
      "outputs": [
        {
          "output_type": "error",
          "ename": "SyntaxError",
          "evalue": "ignored",
          "traceback": [
            "\u001b[0;36m  File \u001b[0;32m\"<ipython-input-104-e0fdd0362c58>\"\u001b[0;36m, line \u001b[0;32m2\u001b[0m\n\u001b[0;31m    - numpy.arange:np.arange([start,] stop[, step,], dtype=None)\u001b[0m\n\u001b[0m                                         ^\u001b[0m\n\u001b[0;31mSyntaxError\u001b[0m\u001b[0;31m:\u001b[0m invalid syntax\n"
          ]
        }
      ]
    },
    {
      "cell_type": "code",
      "source": [
        "a = np.arange(10)\n",
        "b = np.arange(1,10.)\n",
        "c = np.arange(1,10,0.5)\n",
        "d = np.arange(1,10,3,dtype='float')"
      ],
      "metadata": {
        "id": "1akdVd4FPxOg"
      },
      "execution_count": null,
      "outputs": []
    },
    {
      "cell_type": "code",
      "source": [
        "a = np.linspace(1,10)\n",
        "b = np.linspace(1,np.pi,num=5)\n",
        "c = np.linspace(1,10, num=5, endpoint = False)\n",
        "d = np.linspace(1, 10., num=5, retstep=True)  # step 명시\n",
        "d"
      ],
      "metadata": {
        "id": "_vP2UBHnRoYT"
      },
      "execution_count": null,
      "outputs": []
    },
    {
      "cell_type": "code",
      "source": [
        "print(np.linspace(0.02, 2, 20))\n",
        "print(np.logspace(0.02, 2, 20))\n",
        "np.logspace(np.log10(0.02), np.log10(2), 20)"
      ],
      "metadata": {
        "id": "5ufNfZ_OTeti"
      },
      "execution_count": null,
      "outputs": []
    },
    {
      "cell_type": "code",
      "source": [
        "# ones, zeros, full, eye(identity)\n",
        "a = np.ones((2,5))   # default dtype = float\n",
        "b = np.zeros((2,5),dtype='int')  # default dtpe = float\n",
        "c = np.full((2,3), 0.5)\n",
        "d = np.eye(3) # 3 by 3 단위행렬(identity)\n",
        "dd = np.identity(3)\n",
        "dd"
      ],
      "metadata": {
        "id": "xlc3AtqUBRpO"
      },
      "execution_count": null,
      "outputs": []
    },
    {
      "cell_type": "code",
      "source": [
        "# T: transpose (전치) (2,5).T = (5.2)\n",
        "# reshape: ndarray 차원 변환\n",
        "#a = np.arange(1,20,2)\n",
        "#a.reshape(2,5)\n",
        "#a.shape = (2,5)\n",
        "#aa= a.reshape(2,5).T\n",
        "#aa\n",
        "a = np.arange(1,10).reshape(3,3)\n",
        "a.T"
      ],
      "metadata": {
        "id": "k0q2bvXdD69c"
      },
      "execution_count": null,
      "outputs": []
    },
    {
      "cell_type": "code",
      "source": [
        "# astype: ndarray data type 변환\n",
        "a = np.arange(0,10,2)\n",
        "\n",
        "#print(a.dtype)\n",
        "a.astype('str')   # 자료형 + 비트수\n",
        "# astype('float' |'str' | 'int' )\n",
        "# b = a.astype('str')"
      ],
      "metadata": {
        "id": "HB_9J5WEFFH4"
      },
      "execution_count": null,
      "outputs": []
    },
    {
      "cell_type": "code",
      "source": [
        "# ndarray 연산\n",
        "a = np.arange(1,10).reshape(3,3)\n",
        "a"
      ],
      "metadata": {
        "id": "-GPONE_SHRxk"
      },
      "execution_count": null,
      "outputs": []
    },
    {
      "cell_type": "code",
      "source": [
        "#a + [2]\n",
        "# a * 2\n",
        "#a + [1,2]\n",
        "# a - a\n",
        "# a * a\n",
        "# a * [14]\n",
        "# a * [1,2,3]\n",
        "# a / (a+1)\n",
        "# a % [1,2,3]\n",
        "# a + [4,5]\n",
        "# a.tolist() + [1,2,3]"
      ],
      "metadata": {
        "id": "lALUTD57GHBW"
      },
      "execution_count": null,
      "outputs": []
    },
    {
      "cell_type": "code",
      "source": [
        "# 행렬 곱 첫번째 matrix 열 = 두번째 matrix 행\n",
        "aa = np.arange(10).reshape(5,2)\n",
        "bb = np.arange(10).reshape(2,5)\n",
        "#aa @ bb\n",
        "np.dot(aa,bb) # 내적"
      ],
      "metadata": {
        "id": "flYIhhad7MVW"
      },
      "execution_count": null,
      "outputs": []
    },
    {
      "cell_type": "code",
      "source": [
        "# indexing, slicing: 1차원\n",
        "a = np.arange(1,8)\n",
        "a\n",
        "#1,2,3,4,5,6,7\n",
        "#0 1 2 3 4 5 6\n",
        "# a[5]\n",
        "# a[1:3]\n",
        "# a[1] = 0\n",
        "# a[1:3] = [10, 100]\n",
        "# a[1:3] = [10,100]; a\n",
        "# a[1:3] = [1]\n",
        "a[1:3] = [1,2,3]"
      ],
      "metadata": {
        "id": "GRIA11GVAOKR"
      },
      "execution_count": null,
      "outputs": []
    },
    {
      "cell_type": "code",
      "source": [
        "# Step: 1차원\n",
        "#[start:end:step]\n",
        "#step 양수: 왼쪽 -> 오른쪽\n",
        "#음수 오른쪽 -> 왼쪽\n",
        "a = np.arange(1,10,2)\n",
        "#1,3,5,7,9\n",
        "#0 1 2 3 4\n",
        "#-5  -4  -3  -2 -1\n",
        "# a[::]\n",
        "# a[::2] \n",
        "# a[::-1]\n",
        "# a[::-2]\n",
        "a[-2::-1]\n",
        "# a[2::-1]"
      ],
      "metadata": {
        "id": "H2sj9D1uApzi"
      },
      "execution_count": null,
      "outputs": []
    },
    {
      "cell_type": "code",
      "source": [
        "# indexing, slicing: 2차원\n",
        "a = np.arange(1,13).reshape(3,4)\n",
        "\n",
        "# a[-3]\n",
        "# a[0][-1]\n",
        "# a[-1][0]\n",
        "# a[0:2]\n",
        "# a[0:1]\n",
        "# a[0:2][0]\n",
        "# a[0:2][0][1:]"
      ],
      "metadata": {
        "id": "lDJn5EAXA4wJ"
      },
      "execution_count": null,
      "outputs": []
    },
    {
      "cell_type": "code",
      "source": [
        "# Step: 2차원\n",
        "a = np.arange(1,13).reshape(3,4)\n",
        "# a[::2]\n",
        "# a[::-1]\n",
        "# a[1::-1]\n",
        "# a[::2][1]\n",
        "# a[::2][1:2]\n",
        "a[::2][::2]\n"
      ],
      "metadata": {
        "id": "CnOzoMvbBSkX"
      },
      "execution_count": null,
      "outputs": []
    },
    {
      "cell_type": "code",
      "source": [
        "# row&column indexing, slicing\n",
        "a = np.arange(1,13).reshape(3,4)\n",
        "# a[0][1]\n",
        "# a[0,1]\n",
        "# a[0:2][1]\n",
        "# a[0:2,1]\n",
        "# a[:][:-1]\n",
        "# a[:,:-1]\n",
        "# a[0,]"
      ],
      "metadata": {
        "id": "mnr9aoXdBhcv"
      },
      "execution_count": null,
      "outputs": []
    },
    {
      "cell_type": "code",
      "source": [
        "a = np.arange(1,13).reshape(3,4)\n",
        "a[0:2,0]"
      ],
      "metadata": {
        "colab": {
          "base_uri": "https://localhost:8080/"
        },
        "id": "0SyUsCs-OY1M",
        "outputId": "85dfd069-f78b-4bff-ad9b-106a4239bf6f"
      },
      "execution_count": null,
      "outputs": [
        {
          "output_type": "execute_result",
          "data": {
            "text/plain": [
              "array([1, 5])"
            ]
          },
          "metadata": {},
          "execution_count": 173
        }
      ]
    },
    {
      "cell_type": "code",
      "source": [
        "# 2차원 ndarray 값 변경\n",
        "a = np.arange(1,9).reshape(2,4)\n",
        "a\n",
        "# a[0] = 100; a\n",
        "# a[0] = [100]; a\n",
        "# a[0] = [10,20,30,40]; a\n",
        "# a[0] = np.linspace(10,30,num=4); a"
      ],
      "metadata": {
        "id": "PKTBKOCpCaXx"
      },
      "execution_count": null,
      "outputs": []
    },
    {
      "cell_type": "code",
      "source": [
        "b = np.arange(20).reshape(4,5)\n",
        "# b[0:2] = 12; b\n",
        "# b[0:2] = np.arange(12,17); b\n",
        "# b[0:2] = np.arange(20,30); b\n",
        "# b[0:2] = np.arange(20,30).reshape(2,5); b"
      ],
      "metadata": {
        "id": "Zgn9-jfOAuYk"
      },
      "execution_count": null,
      "outputs": []
    },
    {
      "cell_type": "code",
      "source": [
        "c = np.arange(1,13).reshape(3,4)\n",
        "# c[0:2,0:2] = 5; c\n",
        "# c[0:2,0:3] = [11,12,13]; c\n",
        "# c[1:, 1:] = np.array([[2,4,8],[16,32,64]]);c"
      ],
      "metadata": {
        "id": "rUeRqd-QBgh3"
      },
      "execution_count": null,
      "outputs": []
    },
    {
      "cell_type": "code",
      "source": [
        "# squeeze: remove axes of length one\n",
        "a = np.arange(16).reshape(4,1,4)\n",
        "a\n",
        "b = np.squeeze(a)\n",
        "b"
      ],
      "metadata": {
        "id": "huvWveUtHSgT",
        "colab": {
          "base_uri": "https://localhost:8080/"
        },
        "outputId": "44e4994f-3fbc-43eb-a2cf-c05efaa75aaa"
      },
      "execution_count": null,
      "outputs": [
        {
          "output_type": "execute_result",
          "data": {
            "text/plain": [
              "array([[ 0,  1,  2,  3],\n",
              "       [ 4,  5,  6,  7],\n",
              "       [ 8,  9, 10, 11],\n",
              "       [12, 13, 14, 15]])"
            ]
          },
          "metadata": {},
          "execution_count": 106
        }
      ]
    },
    {
      "cell_type": "code",
      "source": [
        "# 조건검색\n",
        "a = np.arange(2,20,2).reshape(3,3); a\n",
        "#a == 10\n",
        "a[a==10] = 100\n",
        "a"
      ],
      "metadata": {
        "colab": {
          "base_uri": "https://localhost:8080/"
        },
        "id": "5yXO8MRCC50n",
        "outputId": "dd1ec3bc-1404-44f8-bcbe-44d25511f501"
      },
      "execution_count": null,
      "outputs": [
        {
          "output_type": "execute_result",
          "data": {
            "text/plain": [
              "array([[  2,   4,   6],\n",
              "       [  8, 100,  12],\n",
              "       [ 14,  16,  18]])"
            ]
          },
          "metadata": {},
          "execution_count": 110
        }
      ]
    },
    {
      "cell_type": "code",
      "source": [
        "# numpy.random\n",
        "# seed: pseudo random 상태 설정, 난수 정해진 순서대로\n",
        "# shuffle: 조합\n",
        "# choice: 순열\n",
        "# rand: uniform distribution\n",
        "# randn: Gaussian noraml distribution\n",
        "\n",
        "np.random.seed(0)\n",
        "x = np.arange(10)\n",
        "np.random.shuffle(x)\n",
        "#np.random.choice(x)\n",
        "x"
      ],
      "metadata": {
        "id": "UJPyZ1u_KF_9",
        "colab": {
          "base_uri": "https://localhost:8080/"
        },
        "outputId": "f893debb-cbec-42d4-fbed-ce86b27a2eaa"
      },
      "execution_count": null,
      "outputs": [
        {
          "output_type": "execute_result",
          "data": {
            "text/plain": [
              "array([2, 8, 4, 9, 1, 6, 7, 3, 0, 5])"
            ]
          },
          "metadata": {},
          "execution_count": 119
        }
      ]
    },
    {
      "cell_type": "code",
      "source": [
        "# np.random.rand(차원,..): [0,1)\n",
        "a = np.random.rand()  # [0,1) 실수 하나\n",
        "b = np.random.rand(5) # shape: (5,)\n",
        "c = np.random.rand(2,5) # shape: (2,5)\n",
        "d = np.random.rand(3,2,6) # shape: (3,2,6)\n",
        "b"
      ],
      "metadata": {
        "id": "pqcHDOqGFhd-",
        "colab": {
          "base_uri": "https://localhost:8080/"
        },
        "outputId": "373ce44a-91cd-463a-d33a-9e394940c3d8"
      },
      "execution_count": null,
      "outputs": [
        {
          "output_type": "execute_result",
          "data": {
            "text/plain": [
              "array([0.24442559, 0.15896958, 0.11037514, 0.65632959, 0.13818295])"
            ]
          },
          "metadata": {},
          "execution_count": 121
        }
      ]
    },
    {
      "cell_type": "code",
      "source": [
        "# np.random.randn(차원,..): mean=0, variance=1 표준정규분포\n",
        "a = np.random.randn() # 실수 하나\n",
        "b = np.random.randn(5) # (5,)\n",
        "c = np.random.randn(2,5) \n",
        "d = np.random.randn(3,2,6)"
      ],
      "metadata": {
        "id": "ZIFNs7qTLmk7"
      },
      "execution_count": null,
      "outputs": []
    },
    {
      "cell_type": "code",
      "source": [
        "# np.random.randint(low, [high=None, size=None, dtype=int])\n",
        "a = np.random.randint(10) # [0,10) discrete uniform\n",
        "b = np.random.randint(1,10,(3,3)) \n",
        "b"
      ],
      "metadata": {
        "id": "fZSlfhgeJvB6",
        "colab": {
          "base_uri": "https://localhost:8080/"
        },
        "outputId": "8322f4a5-6bc8-4c8d-f565-fb237b12387b"
      },
      "execution_count": null,
      "outputs": [
        {
          "output_type": "execute_result",
          "data": {
            "text/plain": [
              "array([[3, 9, 7],\n",
              "       [7, 2, 7],\n",
              "       [9, 9, 4]])"
            ]
          },
          "metadata": {},
          "execution_count": 124
        }
      ]
    },
    {
      "cell_type": "code",
      "source": [
        "# np.cumsum(a, [axis=None, dtype=None, out=None]): cumulative sum\n",
        "(#np.cumprod: cumulative product)\n",
        "# row: axis = 0  \n",
        "# column: axis = 1"
      ],
      "metadata": {
        "id": "xUu8Zr1gfFXO"
      },
      "execution_count": null,
      "outputs": []
    },
    {
      "cell_type": "code",
      "source": [
        "arr = np.array([[1,2,3],[4,5,6]])\n",
        "arr\n",
        "#np.cumsum(arr)\n",
        "# np.cumsum(arr, axis=0)\n",
        "# np.cumsum(arr, axis=1)\n",
        "# np.cumprod(arr)"
      ],
      "metadata": {
        "id": "JDdoajYsLzLi",
        "colab": {
          "base_uri": "https://localhost:8080/"
        },
        "outputId": "d825c271-abcc-4ede-f583-1f4da71ececa"
      },
      "execution_count": null,
      "outputs": [
        {
          "output_type": "execute_result",
          "data": {
            "text/plain": [
              "array([[1, 2, 3],\n",
              "       [5, 7, 9]])"
            ]
          },
          "metadata": {},
          "execution_count": 127
        }
      ]
    },
    {
      "cell_type": "code",
      "source": [
        "# ravel(), flatten(), reshape(-1): 다차원 -> 1차원\n",
        "a = np.arange(1,5).reshape(2,2)\n",
        "  # row 기준\n",
        "\n",
        "# a.ravel('F')  # column 기준\n",
        "# a.flatten(), a.flatten('F')\n",
        "rav = a.ravel()\n",
        "res = a.reshape(-1)\n",
        "flat = a.flatten() # 1차원배열을 복사함, 원본 데이터 변경에 영향받지 않음\n",
        "a"
      ],
      "metadata": {
        "id": "z9NAgBOMLFwO",
        "colab": {
          "base_uri": "https://localhost:8080/"
        },
        "outputId": "6e5eca1c-1112-4ec0-eb81-baa934bb5c4f"
      },
      "execution_count": null,
      "outputs": [
        {
          "output_type": "execute_result",
          "data": {
            "text/plain": [
              "array([[1, 2],\n",
              "       [3, 4]])"
            ]
          },
          "metadata": {},
          "execution_count": 133
        }
      ]
    },
    {
      "cell_type": "code",
      "source": [
        "a[0,0] = 0\n",
        "# rav\n",
        "#res\n",
        "flat"
      ],
      "metadata": {
        "id": "eEzWLwEKMIOB",
        "colab": {
          "base_uri": "https://localhost:8080/"
        },
        "outputId": "37b13cee-a754-4281-de0a-39b27836a5b3"
      },
      "execution_count": null,
      "outputs": [
        {
          "output_type": "execute_result",
          "data": {
            "text/plain": [
              "array([1, 2, 3, 4])"
            ]
          },
          "metadata": {},
          "execution_count": 137
        }
      ]
    },
    {
      "cell_type": "code",
      "source": [
        "# ndarray 참조만 할당\n",
        "a = np.array([[1,1],[2,2], [3,3]])\n",
        "b = a[1:]\n",
        "a[1,1] = 0 \n",
        "print(id(a), id(b))\n",
        "# a\n",
        "# b \n",
        "# c = a.copy()  # a와 독립적"
      ],
      "metadata": {
        "id": "Ou63DCD4N9hl",
        "colab": {
          "base_uri": "https://localhost:8080/"
        },
        "outputId": "47625e2e-e84c-4d68-a3f2-484f09ef5bca"
      },
      "execution_count": null,
      "outputs": [
        {
          "output_type": "stream",
          "name": "stdout",
          "text": [
            "139649573834800 139649573717648\n"
          ]
        }
      ]
    },
    {
      "cell_type": "code",
      "source": [
        "# np.concatenate([arr1, arr2, ], axis = 0) # row(0): default, column(1)\n",
        "a = np.array([[1,2,3], [4,5,6]])\n",
        "b = np.array([[7,8,9], [10,11,12]])\n",
        "c = np.array([[1],[2]])\n",
        "# np.concatenate([a,b])\n",
        "np.concatenate([a,b,c], axis=1)"
      ],
      "metadata": {
        "colab": {
          "base_uri": "https://localhost:8080/"
        },
        "id": "5dIYtFtnNjPT",
        "outputId": "89da178e-c59c-4a6d-e9c5-ec169a4d7133"
      },
      "execution_count": null,
      "outputs": [
        {
          "output_type": "execute_result",
          "data": {
            "text/plain": [
              "array([[ 1,  2,  3,  7,  8,  9,  1],\n",
              "       [ 4,  5,  6, 10, 11, 12,  2]])"
            ]
          },
          "metadata": {},
          "execution_count": 144
        }
      ]
    },
    {
      "cell_type": "code",
      "source": [
        "# repeat(array 개별 원소 반복횟수, [axis=])\n",
        "import numpy as np\n",
        "a = np.arange(4)\n",
        "a.repeat(3)\n",
        "a.repeat([1,2,3,4])\n",
        "b = np.random.randint(1,10,(2,3))\n",
        "b\n",
        "#b.repeat([2,3],axis=0)\n",
        "b.repeat([1,2,3],axis=1)\n"
      ],
      "metadata": {
        "id": "Z8FIHWWENkHt",
        "colab": {
          "base_uri": "https://localhost:8080/"
        },
        "outputId": "cc16ada2-25f7-445b-cb75-76c0ea2f48e1"
      },
      "execution_count": null,
      "outputs": [
        {
          "output_type": "execute_result",
          "data": {
            "text/plain": [
              "array([[2, 3, 3, 3, 3, 3],\n",
              "       [9, 2, 2, 6, 6, 6]])"
            ]
          },
          "metadata": {},
          "execution_count": 150
        }
      ]
    },
    {
      "cell_type": "code",
      "source": [
        "# np.tile(ndarray, shape)\n",
        "b = np.random.randint(1,10,(2,3))\n",
        "b\n",
        "# np.tile(b,2)   # (2,)\n",
        "# np.tile(b, (2,1))\n",
        "# np.tile(b, (2,2,2))"
      ],
      "metadata": {
        "id": "2oUXneD9Rem-",
        "colab": {
          "base_uri": "https://localhost:8080/"
        },
        "outputId": "e3bde133-b02b-489e-84dd-5ba8de16b506"
      },
      "execution_count": null,
      "outputs": [
        {
          "output_type": "execute_result",
          "data": {
            "text/plain": [
              "array([[3, 6, 8],\n",
              "       [8, 7, 2],\n",
              "       [3, 6, 8],\n",
              "       [8, 7, 2]])"
            ]
          },
          "metadata": {},
          "execution_count": 156
        }
      ]
    },
    {
      "cell_type": "code",
      "source": [
        "# Agrregate function \n",
        "a = np.arange(16).reshape(4,4)\n",
        "# a.sum()   # np.sum(a)\n",
        "# a.sum(0)  # 각 coulumn별 합계값, np.sum(a,0)\n",
        "# a.sum(1)  # 각 row별 합계값, np.sum(a,1)\n",
        "# a.mean()   # np.mean(a)\n",
        "# a.mean(0)    # column\n",
        "# a.mean(1)    # row\n",
        "# a.min(0)\n",
        "# a.max(0)\n",
        "# a.std(0)\n",
        "# np.median(a)   # 메서드 불가능 (a.median()불가)"
      ],
      "metadata": {
        "id": "4gacgNwtOdxp",
        "colab": {
          "base_uri": "https://localhost:8080/"
        },
        "outputId": "8e07e0f9-21f4-46f6-e948-e79d1fc361f7"
      },
      "execution_count": null,
      "outputs": [
        {
          "output_type": "execute_result",
          "data": {
            "text/plain": [
              "array([ 6, 22, 38, 54])"
            ]
          },
          "metadata": {},
          "execution_count": 159
        }
      ]
    },
    {
      "cell_type": "code",
      "source": [
        "# np.append(ndarray, 추가할 값): 1차원으로 출력\n",
        "# np.array(ndarray1, ndarray2, axis=): ndarray1과 ndarray2 차원이 같아야 함\n",
        "a = np.arange(16).reshape(4,4)\n",
        "# np.append(a, -10)\n",
        "# np.append(a, np.arange(4).reshape(2,2))\n",
        "# np.append(a, a[:1], axis=0)\n",
        "# np.append(a, np.arange(4).reshape(4,1),axis=1)"
      ],
      "metadata": {
        "id": "TpbO48yoPr7b",
        "colab": {
          "base_uri": "https://localhost:8080/"
        },
        "outputId": "0a4f6d38-3225-41aa-a31a-fb206bded229"
      },
      "execution_count": null,
      "outputs": [
        {
          "output_type": "execute_result",
          "data": {
            "text/plain": [
              "array([ 0,  1,  2,  3,  4,  5,  6,  7,  8,  9, 10, 11, 12, 13, 14, 15,  0,\n",
              "        1,  2,  3])"
            ]
          },
          "metadata": {},
          "execution_count": 160
        }
      ]
    },
    {
      "cell_type": "code",
      "source": [
        "# sort()\n",
        "a = np.random.rand(2,4)\n",
        "a\n",
        "#a.sort(); a  # 행별 오름차순\n",
        "#a[:,::-1]  #행별 내림차순\n",
        "#b = np.random.randn(4,2)\n",
        "b.sort(0); b   # 열별 오름차순\n",
        "b[::-1,:]   #열별 내림차순\n"
      ],
      "metadata": {
        "id": "vEwnNdLJVzip",
        "colab": {
          "base_uri": "https://localhost:8080/"
        },
        "outputId": "399db88b-defa-439b-9ba5-96d2a34598ef"
      },
      "execution_count": null,
      "outputs": [
        {
          "output_type": "execute_result",
          "data": {
            "text/plain": [
              "array([[ 1.18802979,  0.84436298],\n",
              "       [ 0.94942081,  0.31694261],\n",
              "       [-1.00021535,  0.08755124],\n",
              "       [-1.22543552, -1.5447711 ]])"
            ]
          },
          "metadata": {},
          "execution_count": 165
        }
      ]
    },
    {
      "cell_type": "code",
      "source": [
        "# ndarray 파일 입출력\n",
        "# np.savetxt(fname, X, fmt='%.18e', delimiter=' ', newline='\\n', header='', footer='', comments='# ', encoding=None)\n",
        "# np.loadtxt(fname, dtype=float, comments='#', delimiter=None, converters=None, skiprows=0, usecols=None, unpack=False, ndmin=0, encoding='bytes', max_rows=None, *, like=None)\n",
        "a = np.random.rand(3,2)\n",
        "\n",
        "np.savetxt('out.txt', a, fmt = '%.4f', delimiter='\\t')\n",
        "np.loadtxt('out.txt', dtype='float', delimiter = '\\t')"
      ],
      "metadata": {
        "id": "X3v5AUaecuNj",
        "colab": {
          "base_uri": "https://localhost:8080/"
        },
        "outputId": "21c2db68-4d9d-4aa2-b00f-3208766825f7"
      },
      "execution_count": null,
      "outputs": [
        {
          "output_type": "execute_result",
          "data": {
            "text/plain": [
              "array([[0.6699, 0.7852],\n",
              "       [0.2817, 0.5864],\n",
              "       [0.064 , 0.4856]])"
            ]
          },
          "metadata": {},
          "execution_count": 168
        }
      ]
    },
    {
      "cell_type": "code",
      "source": [
        "# 연립방정식 해 구하기\n",
        "\n",
        "# x+y-z=0, 2x-y+3z=9, x+2y+z=8\n",
        "A = np.linalg.inv(np.array([[[1,1,-1],[2,-1,3],[1,2,1]]]))  #np.linalg.inv: 역행렬\n",
        "B = np.array([0,9,8])\n",
        "C = np.dot(A,B); C  # np.dot : 행렬의 곱\n"
      ],
      "metadata": {
        "id": "FbjZO3rhkX9Z"
      },
      "execution_count": null,
      "outputs": []
    }
  ]
}