{
  "nbformat": 4,
  "nbformat_minor": 0,
  "metadata": {
    "colab": {
      "name": "통계분석실습.ipynb",
      "provenance": [],
      "collapsed_sections": []
    },
    "kernelspec": {
      "name": "python3",
      "display_name": "Python 3"
    },
    "language_info": {
      "name": "python"
    }
  },
  "cells": [
    {
      "cell_type": "code",
      "execution_count": null,
      "metadata": {
        "id": "vy0JYvHRVl5a"
      },
      "outputs": [],
      "source": [
        "import numpy as np \n",
        "import pandas as pd \n",
        "from scipy import stats    \n",
        "import matplotlib.pyplot as plt \n",
        "#import seaborn as sns     # 시각화\n",
        "#from sklearn import preprocessing"
      ]
    },
    {
      "cell_type": "code",
      "source": [
        "# 구글드라이브에 파일 업로드하면 colab 상에서 이용가능\n",
        "from google.colab import drive\n",
        "drive.mount('/content/drive')"
      ],
      "metadata": {
        "colab": {
          "base_uri": "https://localhost:8080/"
        },
        "id": "s_JtCQu5VwdH",
        "outputId": "ea230258-22e8-4a8a-ed5b-af3cad904473"
      },
      "execution_count": null,
      "outputs": [
        {
          "output_type": "stream",
          "name": "stdout",
          "text": [
            "Drive already mounted at /content/drive; to attempt to forcibly remount, call drive.mount(\"/content/drive\", force_remount=True).\n"
          ]
        }
      ]
    },
    {
      "cell_type": "code",
      "source": [
        "# colab에서 matplotlib 한글폰트 설정1\n",
        "!apt-get update -qq\n",
        "!apt-get install fonts-nanum* -qq"
      ],
      "metadata": {
        "id": "v4s3nWPoWAHD",
        "colab": {
          "base_uri": "https://localhost:8080/"
        },
        "outputId": "d070faeb-e7e6-435e-bc69-1d6aa01b3826"
      },
      "execution_count": null,
      "outputs": [
        {
          "output_type": "stream",
          "name": "stdout",
          "text": [
            "Selecting previously unselected package fonts-nanum.\n",
            "(Reading database ... 156210 files and directories currently installed.)\n",
            "Preparing to unpack .../fonts-nanum_20170925-1_all.deb ...\n",
            "Unpacking fonts-nanum (20170925-1) ...\n",
            "Selecting previously unselected package fonts-nanum-eco.\n",
            "Preparing to unpack .../fonts-nanum-eco_1.000-6_all.deb ...\n",
            "Unpacking fonts-nanum-eco (1.000-6) ...\n",
            "Selecting previously unselected package fonts-nanum-extra.\n",
            "Preparing to unpack .../fonts-nanum-extra_20170925-1_all.deb ...\n",
            "Unpacking fonts-nanum-extra (20170925-1) ...\n",
            "Selecting previously unselected package fonts-nanum-coding.\n",
            "Preparing to unpack .../fonts-nanum-coding_2.5-1_all.deb ...\n",
            "Unpacking fonts-nanum-coding (2.5-1) ...\n",
            "Setting up fonts-nanum-extra (20170925-1) ...\n",
            "Setting up fonts-nanum (20170925-1) ...\n",
            "Setting up fonts-nanum-coding (2.5-1) ...\n",
            "Setting up fonts-nanum-eco (1.000-6) ...\n",
            "Processing triggers for fontconfig (2.12.6-0ubuntu2) ...\n"
          ]
        }
      ]
    },
    {
      "cell_type": "code",
      "source": [
        "# colab에서 matplotlib 한글폰트 설정2\n",
        "import matplotlib.pyplot as plt\n",
        "import matplotlib as mpl\n",
        "import matplotlib.font_manager as fm\n",
        "%matplotlib inline\n",
        "\n",
        "plt.rcParams['axes.unicode_minus'] = False\n",
        "\n",
        "path = '/usr/share/fonts/truetype/nanum/NanumGothic.ttf'\n",
        "font_name = mpl.font_manager.FontProperties(fname=path).get_name()\n",
        "mpl.rc('font', family=font_name)\n",
        "mpl.font_manager._rebuild()\n",
        "\n",
        "# 런타임 다시 시작"
      ],
      "metadata": {
        "id": "qEBZzplOWzrl"
      },
      "execution_count": null,
      "outputs": []
    },
    {
      "cell_type": "code",
      "source": [
        "# PresidentsParty.CSV"
      ],
      "metadata": {
        "id": "JgZQnTnDW3T_"
      },
      "execution_count": null,
      "outputs": []
    },
    {
      "cell_type": "code",
      "source": [
        "import pandas as pd\n",
        "df = pd.read_csv('/content/drive/MyDrive/PresidentsParty.CSV', index_col = 0)\n",
        "df"
      ],
      "metadata": {
        "id": "jEVGCgiAW4a-"
      },
      "execution_count": null,
      "outputs": []
    },
    {
      "cell_type": "code",
      "source": [
        "# isin(values)\n",
        "# values = iterable(list, tuple), Series, DataFrame or dict\n",
        "# Series, DataFrame에 적용가능\n",
        "# True, False로 출력 -> indexing 에 사용"
      ],
      "metadata": {
        "id": "au_5d_5Naw6Z"
      },
      "execution_count": null,
      "outputs": []
    },
    {
      "cell_type": "code",
      "source": [
        "# 1. 2회 연임 대통령 데이터프레임으로 출력하기\n",
        "# isin( , , , ,): True or False로 출력\n",
        "freq = df['President'].value_counts()\n",
        "# freq\n",
        "\n",
        "freq[freq == 2].index\n",
        "\n",
        "#df.isin(freq[freq == 2].index)  # Party는 all false\n",
        "df[df['President'].isin(freq[freq == 2].index)]"
      ],
      "metadata": {
        "id": "g0wbAN4SW4qP"
      },
      "execution_count": null,
      "outputs": []
    },
    {
      "cell_type": "code",
      "source": [
        "# 2. 취임횟수 2회가 아닌 대통령 데이터프레임\n",
        "# ~: not\n",
        "df[df.President.isin(freq[freq != 2].index)]\n",
        "df[~(df.President.isin(freq[freq == 2].index))]"
      ],
      "metadata": {
        "id": "_mwST781W46C"
      },
      "execution_count": null,
      "outputs": []
    },
    {
      "cell_type": "code",
      "source": [
        "# 3. Republican과 Democrat을 제외한 정당을 모두 ETC로 변환하여 bar plot으로 나타내기\n",
        "df.Party[~df.Party.isin(['Republican', 'Democrat'])] = 'ETC'\n",
        "# df\n",
        "df.Party.value_counts()\n",
        "# df.Party.value_counts().plot.bar()"
      ],
      "metadata": {
        "id": "jqrwwr7pW5Ji"
      },
      "execution_count": null,
      "outputs": []
    },
    {
      "cell_type": "code",
      "source": [
        " df.head(10)"
      ],
      "metadata": {
        "id": "PJN2WBsYgTRO"
      },
      "execution_count": null,
      "outputs": []
    },
    {
      "cell_type": "code",
      "source": [
        "# value_counts()\n",
        "df.value_counts()\n",
        "df.Party.value_counts()\n",
        "\n",
        "# groupby():splitting the object, applying a function, and combining the results\n",
        "df.groupby('Party').size()\n",
        "df.groupby(['Party','President']).size()   # Party: 상위기준, President: 하위기준"
      ],
      "metadata": {
        "id": "X8co2ckIX7lS"
      },
      "execution_count": null,
      "outputs": []
    },
    {
      "cell_type": "code",
      "source": [
        "df.groupby(['Party','President']).size().plot.bar(figsize=(8,3))\n",
        "plt.yticks(range(4))"
      ],
      "metadata": {
        "id": "ZiDbmd3zX9cg"
      },
      "execution_count": null,
      "outputs": []
    },
    {
      "cell_type": "code",
      "source": [
        "# hierarchical indexing\n",
        "new_freq = df.groupby(['Party','President']).size()\n",
        "new_freq['Democrat']\n",
        "# new_freq['President'] error"
      ],
      "metadata": {
        "id": "iXdBi53xX_JM"
      },
      "execution_count": null,
      "outputs": []
    },
    {
      "cell_type": "code",
      "source": [
        "# 4. 2회 이상 연임한 Democrat, Republican 정당의 대통령을 추출하여 시각화하기\n",
        "new_freq = df.groupby(['Party','President']).size()\n",
        "# new_freq\n",
        "# new_freq>=2\n",
        "new_freq[new_freq>=2][['Democrat','Republican']]   # Fancy indexing, 상위기준(Party)"
      ],
      "metadata": {
        "id": "Jwe6B6nyYAdw"
      },
      "execution_count": null,
      "outputs": []
    },
    {
      "cell_type": "code",
      "source": [
        "new_freq[new_freq>=2][['Democrat','Republican']].plot.bar(figsize=(5,3))\n",
        "plt.yticks(range(4))"
      ],
      "metadata": {
        "id": "cYf4eXEAn_ym"
      },
      "execution_count": null,
      "outputs": []
    },
    {
      "cell_type": "code",
      "source": [
        ""
      ],
      "metadata": {
        "id": "SvcdtcXY9reo"
      },
      "execution_count": null,
      "outputs": []
    },
    {
      "cell_type": "code",
      "source": [
        "# 5. 상위 계층: Party, 하위 계층: 취임횟수인 Series 만들기\n",
        "\n",
        "new_series = df.groupby(['Party', 'President']).size().groupby('Party').value_counts()\n",
        "\n",
        "# df.groupby(['Party', 'President']).size()\n",
        "# df.groupby(['Party']).size()\n",
        "df.groupby(['Party', 'President']).size().groupby('Party').value_counts()\n",
        "\n",
        "# df.groupby(['Party', 'President']).size().groupby('Party').size()  == df.groupby(['Party']).size()"
      ],
      "metadata": {
        "id": "nGOQLc8AYCQa"
      },
      "execution_count": null,
      "outputs": []
    },
    {
      "cell_type": "code",
      "source": [
        "# unstack(level=-1, fill_value=None): pivot a level of the (necessarily hierarchical) index labels\n",
        "# Unstack, also known as pivot, Series with MultiIndex to produce DataFrame."
      ],
      "metadata": {
        "id": "HHEdVqBXrXsV"
      },
      "execution_count": null,
      "outputs": []
    },
    {
      "cell_type": "code",
      "source": [
        "new_df = new_series.unstack(level=1, fill_value = 0)     # 상위기준이 row, 하위기준이 column/ level = -1 도 가능\n",
        "new_series.unstack(level=1, fill_value = 0) \n",
        "# new_series.unstack(level=0, fill_value = 0)\n",
        "# new_series.unstack(level='Party', fill_value = 0)"
      ],
      "metadata": {
        "id": "yrKbUTbUtikk"
      },
      "execution_count": null,
      "outputs": []
    },
    {
      "cell_type": "code",
      "source": [
        "# stack(level = -1, dropna=True): Stack the prescribed level(s) from columns to index, inverse operation from unstack\n",
        "new_df.stack()     # column 기준 하나이므로 Series로 출력"
      ],
      "metadata": {
        "id": "6GFPaj113eIu"
      },
      "execution_count": null,
      "outputs": []
    },
    {
      "cell_type": "code",
      "source": [
        "# pivot(index=None, columns=None, values=None): Pivot a table based on column values, DataFrame으로 출력\n",
        "# Return reshaped DataFrame organized by given index / column values"
      ],
      "metadata": {
        "id": "R2pji3H4wBZP"
      },
      "execution_count": null,
      "outputs": []
    },
    {
      "cell_type": "code",
      "source": [
        "before_pivot = pd.DataFrame({'lv1': ['one', 'one', 'one', 'two', 'two', 'two'], \n",
        "                             'lv2': ['A', 'B', 'C', 'A', 'B', 'C'], \n",
        "                             'ver': [1, 2, 3, 4, 5, 6], \n",
        "                             'hor': ['e', 's', 'l', 'c', 'o', 'n']})\n",
        "\n",
        "before_pivot"
      ],
      "metadata": {
        "id": "9WSJPg_1w-N_"
      },
      "execution_count": null,
      "outputs": []
    },
    {
      "cell_type": "code",
      "source": [
        "before_pivot.pivot(index='lv1', columns='lv2', values='ver')\n",
        "before_pivot.pivot(index='lv1', columns='lv2')\n",
        "before_pivot.pivot(index='lv1', columns='lv2')['hor']\n",
        "\n",
        "after_pivot = before_pivot.pivot(index='lv1', columns='lv2')\n",
        "after_pivot"
      ],
      "metadata": {
        "id": "Jj83quW20ZoA"
      },
      "execution_count": null,
      "outputs": []
    },
    {
      "cell_type": "code",
      "source": [
        "after_pivot.stack()"
      ],
      "metadata": {
        "id": "CdhEQbZ93H7w"
      },
      "execution_count": null,
      "outputs": []
    },
    {
      "cell_type": "code",
      "source": [
        "new_df"
      ],
      "metadata": {
        "id": "cNYBz3Wt-oME"
      },
      "execution_count": null,
      "outputs": []
    },
    {
      "cell_type": "code",
      "source": [
        "new_df.columns = [str(i) + '회' for i in new_df.columns]\n",
        "new_df.plot.barh(stacked = True)\n",
        "plt.title('정당별 역대 미국 대통령 동일 인물 취임 횟수')"
      ],
      "metadata": {
        "colab": {
          "base_uri": "https://localhost:8080/",
          "height": 297
        },
        "id": "oG78R7t4-XET",
        "outputId": "10dcb592-6195-410d-c082-06e7d560cf4a"
      },
      "execution_count": null,
      "outputs": [
        {
          "output_type": "execute_result",
          "data": {
            "text/plain": [
              "Text(0.5, 1.0, '정당별 역대 미국 대통령 동일 인물 취임 횟수')"
            ]
          },
          "metadata": {},
          "execution_count": 188
        },
        {
          "output_type": "display_data",
          "data": {
            "text/plain": [
              "<Figure size 432x288 with 1 Axes>"
            ],
            "image/png": "[encoded data removed]"
          },
          "metadata": {
            "needs_background": "light"
          }
        }
      ]
    },
    {
      "cell_type": "code",
      "source": [
        "# 카이제곱 검정 // 값이 많지 않으므로 해당 데이터셋에는 Fisher's exact test가 더 적절함\n",
        "# 교차분할표(contingency table) 사용\n"
      ],
      "metadata": {
        "id": "DyscOoPAYG4e"
      },
      "execution_count": null,
      "outputs": []
    },
    {
      "cell_type": "code",
      "source": [
        "from scipy.stats import chi2_contingency\n",
        "chi2, p, df, expected = chi2_contingency(new_df)\n",
        "print(f'Chi2: {chi2}\\np-value: {p}\\nDF: {df}')\n",
        "print('Expected:\\n', expected)      # expected(기대빈도) > 5인 값이 80%이상일 것"
      ],
      "metadata": {
        "colab": {
          "base_uri": "https://localhost:8080/"
        },
        "id": "ralmQZsrYIdA",
        "outputId": "674ece09-1ac4-4df5-8839-a50e557ac844"
      },
      "execution_count": null,
      "outputs": [
        {
          "output_type": "stream",
          "name": "stdout",
          "text": [
            "Chi2: 2.232692307692308\n",
            "p-value: 0.6930486609369784\n",
            "DF: 4\n",
            "Expected:\n",
            " [[ 9.06976744  5.58139535  0.34883721]\n",
            " [ 6.04651163  3.72093023  0.23255814]\n",
            " [10.88372093  6.69767442  0.41860465]]\n"
          ]
        }
      ]
    },
    {
      "cell_type": "code",
      "source": [
        ""
      ],
      "metadata": {
        "id": "K0Nz0cFGYJrF"
      },
      "execution_count": null,
      "outputs": []
    },
    {
      "cell_type": "code",
      "source": [
        "# AmeriacFreedom.CSV\n",
        "# 각 미국 대통령의 취임연설문에서 'America'와 'Freedom'이 쓰인 비율\n",
        "# index: 미국 대통령의 취임연도"
      ],
      "metadata": {
        "id": "vrpoQ9DXOh8w"
      },
      "execution_count": null,
      "outputs": []
    },
    {
      "cell_type": "code",
      "source": [
        "import pandas as pd\n",
        "Address = pd.read_csv('/content/drive/MyDrive/AmericaFreedom.CSV', index_col = 0)\n",
        "Address.head()\n",
        "#Address.shape"
      ],
      "metadata": {
        "colab": {
          "base_uri": "https://localhost:8080/",
          "height": 206
        },
        "id": "JFdeXmnmMgXb",
        "outputId": "eab74c67-451b-4e53-ee1d-cc0801abf088"
      },
      "execution_count": null,
      "outputs": [
        {
          "output_type": "execute_result",
          "data": {
            "text/plain": [
              "       America   Freedom\n",
              "1789  0.000000  0.000000\n",
              "1793  0.000000  0.000000\n",
              "1797  0.001726  0.000000\n",
              "1801  0.000000  0.002317\n",
              "1805  0.000000  0.000923"
            ],
            "text/html": [
              "\n",
              "  <div id=\"df-7a6b2e32-8335-4b7c-882d-ecd42a9f1aa1\">\n",
              "    <div class=\"colab-df-container\">\n",
              "      <div>\n",
              "<style scoped>\n",
              "    .dataframe tbody tr th:only-of-type {\n",
              "        vertical-align: middle;\n",
              "    }\n",
              "\n",
              "    .dataframe tbody tr th {\n",
              "        vertical-align: top;\n",
              "    }\n",
              "\n",
              "    .dataframe thead th {\n",
              "        text-align: right;\n",
              "    }\n",
              "</style>\n",
              "<table border=\"1\" class=\"dataframe\">\n",
              "  <thead>\n",
              "    <tr style=\"text-align: right;\">\n",
              "      <th></th>\n",
              "      <th>America</th>\n",
              "      <th>Freedom</th>\n",
              "    </tr>\n",
              "  </thead>\n",
              "  <tbody>\n",
              "    <tr>\n",
              "      <th>1789</th>\n",
              "      <td>0.000000</td>\n",
              "      <td>0.000000</td>\n",
              "    </tr>\n",
              "    <tr>\n",
              "      <th>1793</th>\n",
              "      <td>0.000000</td>\n",
              "      <td>0.000000</td>\n",
              "    </tr>\n",
              "    <tr>\n",
              "      <th>1797</th>\n",
              "      <td>0.001726</td>\n",
              "      <td>0.000000</td>\n",
              "    </tr>\n",
              "    <tr>\n",
              "      <th>1801</th>\n",
              "      <td>0.000000</td>\n",
              "      <td>0.002317</td>\n",
              "    </tr>\n",
              "    <tr>\n",
              "      <th>1805</th>\n",
              "      <td>0.000000</td>\n",
              "      <td>0.000923</td>\n",
              "    </tr>\n",
              "  </tbody>\n",
              "</table>\n",
              "</div>\n",
              "      <button class=\"colab-df-convert\" onclick=\"convertToInteractive('df-7a6b2e32-8335-4b7c-882d-ecd42a9f1aa1')\"\n",
              "              title=\"Convert this dataframe to an interactive table.\"\n",
              "              style=\"display:none;\">\n",
              "        \n",
              "  <svg xmlns=\"http://www.w3.org/2000/svg\" height=\"24px\"viewBox=\"0 0 24 24\"\n",
              "       width=\"24px\">\n",
              "    <path d=\"M0 0h24v24H0V0z\" fill=\"none\"/>\n",
              "    <path d=\"M18.56 5.44l.94 2.06.94-2.06 2.06-.94-2.06-.94-.94-2.06-.94 2.06-2.06.94zm-11 1L8.5 8.5l.94-2.06 2.06-.94-2.06-.94L8.5 2.5l-.94 2.06-2.06.94zm10 10l.94 2.06.94-2.06 2.06-.94-2.06-.94-.94-2.06-.94 2.06-2.06.94z\"/><path d=\"M17.41 7.96l-1.37-1.37c-.4-.4-.92-.59-1.43-.59-.52 0-1.04.2-1.43.59L10.3 9.45l-7.72 7.72c-.78.78-.78 2.05 0 2.83L4 21.41c.39.39.9.59 1.41.59.51 0 1.02-.2 1.41-.59l7.78-7.78 2.81-2.81c.8-.78.8-2.07 0-2.86zM5.41 20L4 18.59l7.72-7.72 1.47 1.35L5.41 20z\"/>\n",
              "  </svg>\n",
              "      </button>\n",
              "      \n",
              "  <style>\n",
              "    .colab-df-container {\n",
              "      display:flex;\n",
              "      flex-wrap:wrap;\n",
              "      gap: 12px;\n",
              "    }\n",
              "\n",
              "    .colab-df-convert {\n",
              "      background-color: #E8F0FE;\n",
              "      border: none;\n",
              "      border-radius: 50%;\n",
              "      cursor: pointer;\n",
              "      display: none;\n",
              "      fill: #1967D2;\n",
              "      height: 32px;\n",
              "      padding: 0 0 0 0;\n",
              "      width: 32px;\n",
              "    }\n",
              "\n",
              "    .colab-df-convert:hover {\n",
              "      background-color: #E2EBFA;\n",
              "      box-shadow: 0px 1px 2px rgba(60, 64, 67, 0.3), 0px 1px 3px 1px rgba(60, 64, 67, 0.15);\n",
              "      fill: #174EA6;\n",
              "    }\n",
              "\n",
              "    [theme=dark] .colab-df-convert {\n",
              "      background-color: #3B4455;\n",
              "      fill: #D2E3FC;\n",
              "    }\n",
              "\n",
              "    [theme=dark] .colab-df-convert:hover {\n",
              "      background-color: #434B5C;\n",
              "      box-shadow: 0px 1px 3px 1px rgba(0, 0, 0, 0.15);\n",
              "      filter: drop-shadow(0px 1px 2px rgba(0, 0, 0, 0.3));\n",
              "      fill: #FFFFFF;\n",
              "    }\n",
              "  </style>\n",
              "\n",
              "      <script>\n",
              "        const buttonEl =\n",
              "          document.querySelector('#df-7a6b2e32-8335-4b7c-882d-ecd42a9f1aa1 button.colab-df-convert');\n",
              "        buttonEl.style.display =\n",
              "          google.colab.kernel.accessAllowed ? 'block' : 'none';\n",
              "\n",
              "        async function convertToInteractive(key) {\n",
              "          const element = document.querySelector('#df-7a6b2e32-8335-4b7c-882d-ecd42a9f1aa1');\n",
              "          const dataTable =\n",
              "            await google.colab.kernel.invokeFunction('convertToInteractive',\n",
              "                                                     [key], {});\n",
              "          if (!dataTable) return;\n",
              "\n",
              "          const docLinkHtml = 'Like what you see? Visit the ' +\n",
              "            '<a target=\"_blank\" href=https://colab.research.google.com/notebooks/data_table.ipynb>data table notebook</a>'\n",
              "            + ' to learn more about interactive tables.';\n",
              "          element.innerHTML = '';\n",
              "          dataTable['output_type'] = 'display_data';\n",
              "          await google.colab.output.renderOutput(dataTable, element);\n",
              "          const docLink = document.createElement('div');\n",
              "          docLink.innerHTML = docLinkHtml;\n",
              "          element.appendChild(docLink);\n",
              "        }\n",
              "      </script>\n",
              "    </div>\n",
              "  </div>\n",
              "  "
            ]
          },
          "metadata": {},
          "execution_count": 215
        }
      ]
    },
    {
      "cell_type": "code",
      "source": [
        "Address.describe()"
      ],
      "metadata": {
        "id": "Aoow2F_7T8gN"
      },
      "execution_count": null,
      "outputs": []
    },
    {
      "cell_type": "code",
      "source": [
        "Address.boxplot()\n",
        "# 정규분포 : mean\n",
        "# 비정규분포: median, IQR"
      ],
      "metadata": {
        "id": "iQd_CNf4MhOe"
      },
      "execution_count": null,
      "outputs": []
    },
    {
      "cell_type": "code",
      "source": [
        "Address.columns.name = '어휘'\n",
        "Address.plot()\n",
        "plt.xlabel('년도')\n",
        "plt.ylabel('상대빈도')\n",
        "plt.title('추세도')"
      ],
      "metadata": {
        "colab": {
          "base_uri": "https://localhost:8080/",
          "height": 310
        },
        "id": "zKOte9CQM2Cx",
        "outputId": "b2e3c031-90be-4fa4-b403-4c2382549472"
      },
      "execution_count": null,
      "outputs": [
        {
          "output_type": "execute_result",
          "data": {
            "text/plain": [
              "Text(0.5, 1.0, '추세도')"
            ]
          },
          "metadata": {},
          "execution_count": 283
        },
        {
          "output_type": "display_data",
          "data": {
            "text/plain": [
              "<Figure size 432x288 with 1 Axes>"
            ],
            "image/png": "[encoded data removed]"
          },
          "metadata": {
            "needs_background": "light"
          }
        }
      ]
    },
    {
      "cell_type": "code",
      "source": [
        "import numpy as np\n",
        "#def polyfit(x, y, deg, rcond=None, full=False, w=None, cov=False)\n",
        "a, b = np.polyfit(Address['America'],\n",
        "                 Address['Freedom'],1)\n",
        "plt.scatter(Address['America'], Address['Freedom'])\n",
        "plt.xlabel('Amercia')\n",
        "plt.ylabel('Freedom')\n",
        "plt.plot(Address['America'], (a*Address['America'])+b, '-r')"
      ],
      "metadata": {
        "id": "Smre3lWGM4Jf"
      },
      "execution_count": null,
      "outputs": []
    },
    {
      "cell_type": "code",
      "source": [
        "# America와 Freedom 상관분석\n",
        "# Pearson: 정규분포, 선형성 가정\n",
        "# Kendall: 비정규분포, 특이값에 민감X,\n",
        "# Spearman: 비정규분포, 특이값에 민감\n",
        "Address.corr(method='pearson')    \n",
        "Address.corr(method='spearman')\n",
        "Address.corr(method='kendall')"
      ],
      "metadata": {
        "id": "RTYLgM1NNLMJ"
      },
      "execution_count": null,
      "outputs": []
    },
    {
      "cell_type": "code",
      "source": [
        "Address.cumsum().plot()"
      ],
      "metadata": {
        "colab": {
          "base_uri": "https://localhost:8080/",
          "height": 282
        },
        "id": "51skOaM0NZSz",
        "outputId": "6c8465a8-a1e8-4cb7-e296-0c37e6dbcc77"
      },
      "execution_count": null,
      "outputs": [
        {
          "output_type": "execute_result",
          "data": {
            "text/plain": [
              "<matplotlib.axes._subplots.AxesSubplot at 0x7f8b8f365d10>"
            ]
          },
          "metadata": {},
          "execution_count": 218
        },
        {
          "output_type": "display_data",
          "data": {
            "text/plain": [
              "<Figure size 432x288 with 1 Axes>"
            ],
            "image/png": "[encoded data removed]"
          },
          "metadata": {
            "needs_background": "light"
          }
        }
      ]
    },
    {
      "cell_type": "code",
      "source": [
        ""
      ],
      "metadata": {
        "id": "rRFNVvHZyKY6"
      },
      "execution_count": null,
      "outputs": []
    },
    {
      "cell_type": "code",
      "source": [
        ""
      ],
      "metadata": {
        "id": "p8ptOKMXyKyX"
      },
      "execution_count": null,
      "outputs": []
    },
    {
      "cell_type": "markdown",
      "source": [
        "#추론통계: 가설검정</br></br>\n",
        "1. 표본이 2개일 때</br>\n",
        " [1] 정규분포</br>\n",
        "(1) 정규성 검정: shapiro</br>\n",
        " p-value< 0.05 비정규분포 / p-value >= 0.05 정규분포 </br></br>\n",
        "(2) F등분산 검정: levene</br>\n",
        "p-value < 0.05 이분산 / p-value >= 0.05 등분산</br></br>\n",
        "(3)two-sample t-test: mean 비교</br>\n",
        "p-value < 0.05 두 표본평균 유의한 차이 존재 </br></br>\n",
        "\n",
        " [2] 비정규분포</br>\n",
        "(1) 정규성 검정: shapiro</br>\n",
        "(2)two-sample WIlcoxon rank sum test: median 비교\n",
        "p-value < 0.05 두 표본중앙값 유의한 차이 존재 </br></br>\n"
      ],
      "metadata": {
        "id": "0yk0zRGE92tg"
      }
    },
    {
      "cell_type": "code",
      "source": [
        "#(1) 정규성 검정\n",
        "# p-value< 0.05 비정규분포 / p-value >= 0.05 정규분포\n",
        "\n",
        "\n",
        "from scipy import stats\n",
        "Address.apply(stats.shapiro)\n",
        "\n",
        "\n",
        "# index = 0: W(통계량)\n",
        "# index = 1:  p-value"
      ],
      "metadata": {
        "colab": {
          "base_uri": "https://localhost:8080/",
          "height": 112
        },
        "id": "pUBh4-cUYKLq",
        "outputId": "98b30202-fcf1-426d-9e33-a766f82d6a84"
      },
      "execution_count": null,
      "outputs": [
        {
          "output_type": "execute_result",
          "data": {
            "text/plain": [
              "어휘       America       Freedom\n",
              "0   7.213426e-01  7.913462e-01\n",
              "1   3.554743e-09  1.196102e-07"
            ],
            "text/html": [
              "\n",
              "  <div id=\"df-f0bf9a3a-b26d-4c83-89c0-c0d61c8d768f\">\n",
              "    <div class=\"colab-df-container\">\n",
              "      <div>\n",
              "<style scoped>\n",
              "    .dataframe tbody tr th:only-of-type {\n",
              "        vertical-align: middle;\n",
              "    }\n",
              "\n",
              "    .dataframe tbody tr th {\n",
              "        vertical-align: top;\n",
              "    }\n",
              "\n",
              "    .dataframe thead th {\n",
              "        text-align: right;\n",
              "    }\n",
              "</style>\n",
              "<table border=\"1\" class=\"dataframe\">\n",
              "  <thead>\n",
              "    <tr style=\"text-align: right;\">\n",
              "      <th>어휘</th>\n",
              "      <th>America</th>\n",
              "      <th>Freedom</th>\n",
              "    </tr>\n",
              "  </thead>\n",
              "  <tbody>\n",
              "    <tr>\n",
              "      <th>0</th>\n",
              "      <td>7.213426e-01</td>\n",
              "      <td>7.913462e-01</td>\n",
              "    </tr>\n",
              "    <tr>\n",
              "      <th>1</th>\n",
              "      <td>3.554743e-09</td>\n",
              "      <td>1.196102e-07</td>\n",
              "    </tr>\n",
              "  </tbody>\n",
              "</table>\n",
              "</div>\n",
              "      <button class=\"colab-df-convert\" onclick=\"convertToInteractive('df-f0bf9a3a-b26d-4c83-89c0-c0d61c8d768f')\"\n",
              "              title=\"Convert this dataframe to an interactive table.\"\n",
              "              style=\"display:none;\">\n",
              "        \n",
              "  <svg xmlns=\"http://www.w3.org/2000/svg\" height=\"24px\"viewBox=\"0 0 24 24\"\n",
              "       width=\"24px\">\n",
              "    <path d=\"M0 0h24v24H0V0z\" fill=\"none\"/>\n",
              "    <path d=\"M18.56 5.44l.94 2.06.94-2.06 2.06-.94-2.06-.94-.94-2.06-.94 2.06-2.06.94zm-11 1L8.5 8.5l.94-2.06 2.06-.94-2.06-.94L8.5 2.5l-.94 2.06-2.06.94zm10 10l.94 2.06.94-2.06 2.06-.94-2.06-.94-.94-2.06-.94 2.06-2.06.94z\"/><path d=\"M17.41 7.96l-1.37-1.37c-.4-.4-.92-.59-1.43-.59-.52 0-1.04.2-1.43.59L10.3 9.45l-7.72 7.72c-.78.78-.78 2.05 0 2.83L4 21.41c.39.39.9.59 1.41.59.51 0 1.02-.2 1.41-.59l7.78-7.78 2.81-2.81c.8-.78.8-2.07 0-2.86zM5.41 20L4 18.59l7.72-7.72 1.47 1.35L5.41 20z\"/>\n",
              "  </svg>\n",
              "      </button>\n",
              "      \n",
              "  <style>\n",
              "    .colab-df-container {\n",
              "      display:flex;\n",
              "      flex-wrap:wrap;\n",
              "      gap: 12px;\n",
              "    }\n",
              "\n",
              "    .colab-df-convert {\n",
              "      background-color: #E8F0FE;\n",
              "      border: none;\n",
              "      border-radius: 50%;\n",
              "      cursor: pointer;\n",
              "      display: none;\n",
              "      fill: #1967D2;\n",
              "      height: 32px;\n",
              "      padding: 0 0 0 0;\n",
              "      width: 32px;\n",
              "    }\n",
              "\n",
              "    .colab-df-convert:hover {\n",
              "      background-color: #E2EBFA;\n",
              "      box-shadow: 0px 1px 2px rgba(60, 64, 67, 0.3), 0px 1px 3px 1px rgba(60, 64, 67, 0.15);\n",
              "      fill: #174EA6;\n",
              "    }\n",
              "\n",
              "    [theme=dark] .colab-df-convert {\n",
              "      background-color: #3B4455;\n",
              "      fill: #D2E3FC;\n",
              "    }\n",
              "\n",
              "    [theme=dark] .colab-df-convert:hover {\n",
              "      background-color: #434B5C;\n",
              "      box-shadow: 0px 1px 3px 1px rgba(0, 0, 0, 0.15);\n",
              "      filter: drop-shadow(0px 1px 2px rgba(0, 0, 0, 0.3));\n",
              "      fill: #FFFFFF;\n",
              "    }\n",
              "  </style>\n",
              "\n",
              "      <script>\n",
              "        const buttonEl =\n",
              "          document.querySelector('#df-f0bf9a3a-b26d-4c83-89c0-c0d61c8d768f button.colab-df-convert');\n",
              "        buttonEl.style.display =\n",
              "          google.colab.kernel.accessAllowed ? 'block' : 'none';\n",
              "\n",
              "        async function convertToInteractive(key) {\n",
              "          const element = document.querySelector('#df-f0bf9a3a-b26d-4c83-89c0-c0d61c8d768f');\n",
              "          const dataTable =\n",
              "            await google.colab.kernel.invokeFunction('convertToInteractive',\n",
              "                                                     [key], {});\n",
              "          if (!dataTable) return;\n",
              "\n",
              "          const docLinkHtml = 'Like what you see? Visit the ' +\n",
              "            '<a target=\"_blank\" href=https://colab.research.google.com/notebooks/data_table.ipynb>data table notebook</a>'\n",
              "            + ' to learn more about interactive tables.';\n",
              "          element.innerHTML = '';\n",
              "          dataTable['output_type'] = 'display_data';\n",
              "          await google.colab.output.renderOutput(dataTable, element);\n",
              "          const docLink = document.createElement('div');\n",
              "          docLink.innerHTML = docLinkHtml;\n",
              "          element.appendChild(docLink);\n",
              "        }\n",
              "      </script>\n",
              "    </div>\n",
              "  </div>\n",
              "  "
            ]
          },
          "metadata": {},
          "execution_count": 285
        }
      ]
    },
    {
      "cell_type": "code",
      "source": [
        "#(2) F 등분산 검정: 정상성 가정, 두 표본의 분산이 같은지 검정\n",
        "# p-value < 0.05 이분산 / p-value >= 0.05 등분산\n",
        "#(Bartlett 검증, Cochran 검증, Levene 검증, Scheffe 검증)\n",
        "\n",
        "stats.levene(Address.America, Address.Freedom)"
      ],
      "metadata": {
        "colab": {
          "base_uri": "https://localhost:8080/"
        },
        "id": "V7rOzwjNbDsa",
        "outputId": "9c340aee-0282-45c2-90da-a2a744c6f1f1"
      },
      "execution_count": null,
      "outputs": [
        {
          "output_type": "execute_result",
          "data": {
            "text/plain": [
              "LeveneResult(statistic=0.35308373335847815, pvalue=0.5535500548129513)"
            ]
          },
          "metadata": {},
          "execution_count": 224
        }
      ]
    },
    {
      "cell_type": "code",
      "source": [
        "#(3) two-sample t-test: mean 비교\n",
        "# p-value < 0.05 mean 유의미한 차이 존재\n",
        "\n",
        "# 3-1 등분산 t-test(default)\n",
        "stats.ttest_ind(Address.America, Address.Freedom, equal_var = True)\n",
        "\n",
        "# 3-2 이분산 t-test\n",
        "stats.ttest_int(Address.America, Address.Freedom, equal_var = False)"
      ],
      "metadata": {
        "colab": {
          "base_uri": "https://localhost:8080/"
        },
        "id": "sdtPTBHJd444",
        "outputId": "5ca54dc1-7eda-4302-a7cc-fbd1d4e42c41"
      },
      "execution_count": null,
      "outputs": [
        {
          "output_type": "execute_result",
          "data": {
            "text/plain": [
              "Ttest_indResult(statistic=0.2673571791980549, pvalue=0.7896772487131498)"
            ]
          },
          "metadata": {},
          "execution_count": 226
        }
      ]
    },
    {
      "cell_type": "code",
      "source": [
        "# two-sample WIlcoxon rank sum test: 비정규분포, median 비교\n",
        "# p-value < 0.05 median 유의미한 차이 존재\n",
        "\n",
        "stats.ranksums(Address.America, Address.Freedom)"
      ],
      "metadata": {
        "colab": {
          "base_uri": "https://localhost:8080/"
        },
        "id": "Ay2KpBaJfXjj",
        "outputId": "9763b94a-afed-4c4b-8ef5-01af21c6611a"
      },
      "execution_count": null,
      "outputs": [
        {
          "output_type": "execute_result",
          "data": {
            "text/plain": [
              "RanksumsResult(statistic=-0.6515559361724235, pvalue=0.5146876813237625)"
            ]
          },
          "metadata": {},
          "execution_count": 227
        }
      ]
    },
    {
      "cell_type": "code",
      "source": [
        "# America와 Freedom 의 평균/중앙값에서 유의미한 차이 없다는 결론"
      ],
      "metadata": {
        "id": "_-hOOlBRf48z"
      },
      "execution_count": null,
      "outputs": []
    },
    {
      "cell_type": "code",
      "source": [
        ""
      ],
      "metadata": {
        "id": "wniPlVC_0Qkl"
      },
      "execution_count": null,
      "outputs": []
    },
    {
      "cell_type": "code",
      "source": [
        "Address.columns.name = '어휘'\n",
        "Address.plot()\n",
        "plt.xlabel('년도')\n",
        "plt.ylabel('상대빈도')\n",
        "plt.title('추세도')"
      ],
      "metadata": {
        "colab": {
          "base_uri": "https://localhost:8080/",
          "height": 310
        },
        "id": "vq0e273xf_3p",
        "outputId": "25494249-e0e7-4cba-8bbe-c0fc0898e36a"
      },
      "execution_count": null,
      "outputs": [
        {
          "output_type": "execute_result",
          "data": {
            "text/plain": [
              "Text(0.5, 1.0, '추세도')"
            ]
          },
          "metadata": {},
          "execution_count": 228
        },
        {
          "output_type": "display_data",
          "data": {
            "text/plain": [
              "<Figure size 432x288 with 1 Axes>"
            ],
            "image/png": "[encoded data removed]"
          },
          "metadata": {
            "needs_background": "light"
          }
        }
      ]
    },
    {
      "cell_type": "code",
      "source": [
        "# 20세기 이후의 데이터만 추출, 2차세계대전을 기점으로 시대구분\n",
        "\n",
        "after_20C = Address.loc[Address.index >= 1900]\n",
        "\n",
        "Address_20C = pd.concat([after_20C, pd.DataFrame({'Period': ['|' if i < 1950 else '||'\n",
        "                             for i in Address.index[Address.index >=1900]]},\n",
        "                 index = Address.index[Address.index >= 1900])], axis = 1)\n",
        "Address_20C"
      ],
      "metadata": {
        "id": "y3GSlywKM6D-"
      },
      "execution_count": null,
      "outputs": []
    },
    {
      "cell_type": "code",
      "source": [
        "Address_20C.head()"
      ],
      "metadata": {
        "id": "OAfCtsIXM-oN"
      },
      "execution_count": null,
      "outputs": []
    },
    {
      "cell_type": "code",
      "source": [
        "Address_20C.groupby(['Period']).boxplot()"
      ],
      "metadata": {
        "colab": {
          "base_uri": "https://localhost:8080/",
          "height": 332
        },
        "id": "Zh-1wyBrgl7H",
        "outputId": "bed88b4b-b006-483c-a3e5-89d8c6c442cb"
      },
      "execution_count": null,
      "outputs": [
        {
          "output_type": "execute_result",
          "data": {
            "text/plain": [
              "|          AxesSubplot(0.1,0.15;0.363636x0.75)\n",
              "||    AxesSubplot(0.536364,0.15;0.363636x0.75)\n",
              "dtype: object"
            ]
          },
          "metadata": {},
          "execution_count": 230
        },
        {
          "output_type": "display_data",
          "data": {
            "text/plain": [
              "<Figure size 432x288 with 2 Axes>"
            ],
            "image/png": "[encoded data removed]"
          },
          "metadata": {
            "needs_background": "light"
          }
        }
      ]
    },
    {
      "cell_type": "code",
      "source": [
        "# America에 대한 Period | 표본과 Period || 표본의 정규성 검정\n",
        "\n",
        "Address_20C[['America','Period']].groupby(['Period']).apply(stats.shapiro)"
      ],
      "metadata": {
        "colab": {
          "base_uri": "https://localhost:8080/"
        },
        "id": "Vxn7AgA2hDjC",
        "outputId": "fc4c1143-300f-4995-e9cc-c204d7fb9ffd"
      },
      "execution_count": null,
      "outputs": [
        {
          "output_type": "execute_result",
          "data": {
            "text/plain": [
              "Period\n",
              "|     (0.7653388381004333, 0.002718827221542597)\n",
              "||      (0.8532366752624512, 0.0120198093354702)\n",
              "dtype: object"
            ]
          },
          "metadata": {},
          "execution_count": 234
        }
      ]
    },
    {
      "cell_type": "code",
      "source": [
        "# 비정규분포\n",
        "stats.ranksums(Address_20C.America[Address_20C.Period=='I'],\n",
        "              Address_20C.America[Address_20C.Period=='||'])"
      ],
      "metadata": {
        "colab": {
          "base_uri": "https://localhost:8080/"
        },
        "id": "vpDFmDGjhlxT",
        "outputId": "5f8db21f-938e-44d3-dc4a-3fe3026587df"
      },
      "execution_count": null,
      "outputs": [
        {
          "output_type": "stream",
          "name": "stderr",
          "text": [
            "/usr/local/lib/python3.7/dist-packages/scipy/stats/stats.py:6475: RuntimeWarning: invalid value encountered in double_scalars\n",
            "  z = (s - expected) / np.sqrt(n1*n2*(n1+n2+1)/12.0)\n"
          ]
        },
        {
          "output_type": "execute_result",
          "data": {
            "text/plain": [
              "RanksumsResult(statistic=nan, pvalue=nan)"
            ]
          },
          "metadata": {},
          "execution_count": 291
        }
      ]
    },
    {
      "cell_type": "code",
      "source": [
        "# Period |과 || 의 America 언급량이 통계적으로 유의미한 차이 존재\n",
        "\n",
        "stats.ranksums(Address_20C.America[Address_20C.Period=='|'],\n",
        "            Address_20C.America[Address_20C.Period=='||'])"
      ],
      "metadata": {
        "colab": {
          "base_uri": "https://localhost:8080/"
        },
        "id": "jPamjZqS1syH",
        "outputId": "53930d1e-6733-4573-b899-d69e79a46c01"
      },
      "execution_count": null,
      "outputs": [
        {
          "output_type": "execute_result",
          "data": {
            "text/plain": [
              "RanksumsResult(statistic=-3.243510750860898, pvalue=0.0011806635490339812)"
            ]
          },
          "metadata": {},
          "execution_count": 292
        }
      ]
    },
    {
      "cell_type": "code",
      "source": [
        ""
      ],
      "metadata": {
        "id": "tfndW26B3iiC"
      },
      "execution_count": null,
      "outputs": []
    },
    {
      "cell_type": "code",
      "source": [
        "# Freedom에 대한 Period | 표본과 Period || 표본의 정규성 검정\n",
        "\n",
        "Address_20C[['Freedom','Period']].groupby(['Period']).apply(stats.shapiro)\n",
        "\n",
        "# | 정규분포, || 비정규분포"
      ],
      "metadata": {
        "colab": {
          "base_uri": "https://localhost:8080/"
        },
        "id": "2ThV0tyaNA48",
        "outputId": "b5339b59-b5dd-46a4-d55b-b784879dba45"
      },
      "execution_count": null,
      "outputs": [
        {
          "output_type": "execute_result",
          "data": {
            "text/plain": [
              "Period\n",
              "|     (0.8378305435180664, 0.019888868555426598)\n",
              "||      (0.926120400428772, 0.18733899295330048)\n",
              "dtype: object"
            ]
          },
          "metadata": {},
          "execution_count": 293
        }
      ]
    },
    {
      "cell_type": "code",
      "source": [
        "# 비정규분포 가정\n",
        "\n",
        "stats.ranksums(Address_20C.Freedom[Address_20C.Period=='|'],\n",
        "            Address_20C.Freedom[Address_20C.Period=='||'])"
      ],
      "metadata": {
        "colab": {
          "base_uri": "https://localhost:8080/"
        },
        "id": "YaJeMaJe2sbz",
        "outputId": "a569efc7-0934-471a-9a85-0fb44aef83a7"
      },
      "execution_count": null,
      "outputs": [
        {
          "output_type": "execute_result",
          "data": {
            "text/plain": [
              "RanksumsResult(statistic=-0.9625902873522665, pvalue=0.33575317363085)"
            ]
          },
          "metadata": {},
          "execution_count": 294
        }
      ]
    },
    {
      "cell_type": "code",
      "source": [
        "# 정규분포 가정 - 등분산 검정 \n",
        "\n",
        "stats.levene(Address_20C.Freedom[Address_20C.Period=='|'],\n",
        "            Address_20C.Freedom[Address_20C.Period=='||'])"
      ],
      "metadata": {
        "colab": {
          "base_uri": "https://localhost:8080/"
        },
        "id": "LCJKfCoVNCTc",
        "outputId": "aa4bc7f3-b0fe-4ef6-91f8-4c983faf4cfe"
      },
      "execution_count": null,
      "outputs": [
        {
          "output_type": "execute_result",
          "data": {
            "text/plain": [
              "LeveneResult(statistic=0.00043800557684377, pvalue=0.9834510577555695)"
            ]
          },
          "metadata": {},
          "execution_count": 295
        }
      ]
    },
    {
      "cell_type": "code",
      "source": [
        "# 정규분포 가정 - t-test\n",
        "stats.ttest_ind(Address_20C.Freedom[Address_20C.Period=='|'],\n",
        "            Address_20C.Freedom[Address_20C.Period=='||'],\n",
        "               equal_var = True)"
      ],
      "metadata": {
        "colab": {
          "base_uri": "https://localhost:8080/"
        },
        "id": "aIaHuJMlND3n",
        "outputId": "22cad691-00e4-42e4-9222-5c76ba152240"
      },
      "execution_count": null,
      "outputs": [
        {
          "output_type": "execute_result",
          "data": {
            "text/plain": [
              "Ttest_indResult(statistic=-0.7360121994678185, pvalue=0.4678448591715145)"
            ]
          },
          "metadata": {},
          "execution_count": 296
        }
      ]
    },
    {
      "cell_type": "code",
      "source": [
        "# Freedom은 America와 달리 언급량이 시대적으로 차이가 없음. pattern 재탐색"
      ],
      "metadata": {
        "id": "2UbBhtSt3cFT"
      },
      "execution_count": null,
      "outputs": []
    },
    {
      "cell_type": "code",
      "source": [
        ""
      ],
      "metadata": {
        "id": "ZJ431vRYiRkq"
      },
      "execution_count": null,
      "outputs": []
    },
    {
      "cell_type": "code",
      "source": [
        "a = Address.Freedom.cumsum()\n",
        "a.plot()\n",
        "plt.title('Freedom 누적분포')\n",
        "plt.xticks([Address.index[0], 1861, 1939,  Address.index[-1]],\n",
        "          rotation = 90)\n",
        "plt.vlines([1861,1939], 0, a.max(), linestyle = ':')"
      ],
      "metadata": {
        "colab": {
          "base_uri": "https://localhost:8080/",
          "height": 313
        },
        "id": "k323xlxRjv8y",
        "outputId": "787ca8d7-aa42-4ec0-a4fb-bf2b23588812"
      },
      "execution_count": null,
      "outputs": [
        {
          "output_type": "execute_result",
          "data": {
            "text/plain": [
              "<matplotlib.collections.LineCollection at 0x7f8b833101d0>"
            ]
          },
          "metadata": {},
          "execution_count": 297
        },
        {
          "output_type": "display_data",
          "data": {
            "text/plain": [
              "<Figure size 432x288 with 1 Axes>"
            ],
            "image/png": "[encoded data removed]"
          },
          "metadata": {
            "needs_background": "light"
          }
        }
      ]
    },
    {
      "cell_type": "code",
      "source": [
        "df_Freedom = pd.concat([pd.DataFrame(Address.Freedom),\n",
        "                     pd.DataFrame({'Period': ['|' if i < 1861 else '||'\n",
        "                                              if i < 1939 else '|||'\n",
        "                                              for i in Address.Freedom.index]},\n",
        "                                  index = Address.index)], axis = 1)"
      ],
      "metadata": {
        "id": "_TxgBdRajwFk"
      },
      "execution_count": null,
      "outputs": []
    },
    {
      "cell_type": "code",
      "source": [
        "df_Freedom.head()"
      ],
      "metadata": {
        "colab": {
          "base_uri": "https://localhost:8080/",
          "height": 206
        },
        "id": "42xY8rY45Fkf",
        "outputId": "4a26f669-83e4-4558-f6d8-c4d74daac342"
      },
      "execution_count": null,
      "outputs": [
        {
          "output_type": "execute_result",
          "data": {
            "text/plain": [
              "       Freedom Period\n",
              "1789  0.000000      |\n",
              "1793  0.000000      |\n",
              "1797  0.000000      |\n",
              "1801  0.002317      |\n",
              "1805  0.000923      |"
            ],
            "text/html": [
              "\n",
              "  <div id=\"df-8a053df6-074f-4ad4-bd03-bc3369af81a2\">\n",
              "    <div class=\"colab-df-container\">\n",
              "      <div>\n",
              "<style scoped>\n",
              "    .dataframe tbody tr th:only-of-type {\n",
              "        vertical-align: middle;\n",
              "    }\n",
              "\n",
              "    .dataframe tbody tr th {\n",
              "        vertical-align: top;\n",
              "    }\n",
              "\n",
              "    .dataframe thead th {\n",
              "        text-align: right;\n",
              "    }\n",
              "</style>\n",
              "<table border=\"1\" class=\"dataframe\">\n",
              "  <thead>\n",
              "    <tr style=\"text-align: right;\">\n",
              "      <th></th>\n",
              "      <th>Freedom</th>\n",
              "      <th>Period</th>\n",
              "    </tr>\n",
              "  </thead>\n",
              "  <tbody>\n",
              "    <tr>\n",
              "      <th>1789</th>\n",
              "      <td>0.000000</td>\n",
              "      <td>|</td>\n",
              "    </tr>\n",
              "    <tr>\n",
              "      <th>1793</th>\n",
              "      <td>0.000000</td>\n",
              "      <td>|</td>\n",
              "    </tr>\n",
              "    <tr>\n",
              "      <th>1797</th>\n",
              "      <td>0.000000</td>\n",
              "      <td>|</td>\n",
              "    </tr>\n",
              "    <tr>\n",
              "      <th>1801</th>\n",
              "      <td>0.002317</td>\n",
              "      <td>|</td>\n",
              "    </tr>\n",
              "    <tr>\n",
              "      <th>1805</th>\n",
              "      <td>0.000923</td>\n",
              "      <td>|</td>\n",
              "    </tr>\n",
              "  </tbody>\n",
              "</table>\n",
              "</div>\n",
              "      <button class=\"colab-df-convert\" onclick=\"convertToInteractive('df-8a053df6-074f-4ad4-bd03-bc3369af81a2')\"\n",
              "              title=\"Convert this dataframe to an interactive table.\"\n",
              "              style=\"display:none;\">\n",
              "        \n",
              "  <svg xmlns=\"http://www.w3.org/2000/svg\" height=\"24px\"viewBox=\"0 0 24 24\"\n",
              "       width=\"24px\">\n",
              "    <path d=\"M0 0h24v24H0V0z\" fill=\"none\"/>\n",
              "    <path d=\"M18.56 5.44l.94 2.06.94-2.06 2.06-.94-2.06-.94-.94-2.06-.94 2.06-2.06.94zm-11 1L8.5 8.5l.94-2.06 2.06-.94-2.06-.94L8.5 2.5l-.94 2.06-2.06.94zm10 10l.94 2.06.94-2.06 2.06-.94-2.06-.94-.94-2.06-.94 2.06-2.06.94z\"/><path d=\"M17.41 7.96l-1.37-1.37c-.4-.4-.92-.59-1.43-.59-.52 0-1.04.2-1.43.59L10.3 9.45l-7.72 7.72c-.78.78-.78 2.05 0 2.83L4 21.41c.39.39.9.59 1.41.59.51 0 1.02-.2 1.41-.59l7.78-7.78 2.81-2.81c.8-.78.8-2.07 0-2.86zM5.41 20L4 18.59l7.72-7.72 1.47 1.35L5.41 20z\"/>\n",
              "  </svg>\n",
              "      </button>\n",
              "      \n",
              "  <style>\n",
              "    .colab-df-container {\n",
              "      display:flex;\n",
              "      flex-wrap:wrap;\n",
              "      gap: 12px;\n",
              "    }\n",
              "\n",
              "    .colab-df-convert {\n",
              "      background-color: #E8F0FE;\n",
              "      border: none;\n",
              "      border-radius: 50%;\n",
              "      cursor: pointer;\n",
              "      display: none;\n",
              "      fill: #1967D2;\n",
              "      height: 32px;\n",
              "      padding: 0 0 0 0;\n",
              "      width: 32px;\n",
              "    }\n",
              "\n",
              "    .colab-df-convert:hover {\n",
              "      background-color: #E2EBFA;\n",
              "      box-shadow: 0px 1px 2px rgba(60, 64, 67, 0.3), 0px 1px 3px 1px rgba(60, 64, 67, 0.15);\n",
              "      fill: #174EA6;\n",
              "    }\n",
              "\n",
              "    [theme=dark] .colab-df-convert {\n",
              "      background-color: #3B4455;\n",
              "      fill: #D2E3FC;\n",
              "    }\n",
              "\n",
              "    [theme=dark] .colab-df-convert:hover {\n",
              "      background-color: #434B5C;\n",
              "      box-shadow: 0px 1px 3px 1px rgba(0, 0, 0, 0.15);\n",
              "      filter: drop-shadow(0px 1px 2px rgba(0, 0, 0, 0.3));\n",
              "      fill: #FFFFFF;\n",
              "    }\n",
              "  </style>\n",
              "\n",
              "      <script>\n",
              "        const buttonEl =\n",
              "          document.querySelector('#df-8a053df6-074f-4ad4-bd03-bc3369af81a2 button.colab-df-convert');\n",
              "        buttonEl.style.display =\n",
              "          google.colab.kernel.accessAllowed ? 'block' : 'none';\n",
              "\n",
              "        async function convertToInteractive(key) {\n",
              "          const element = document.querySelector('#df-8a053df6-074f-4ad4-bd03-bc3369af81a2');\n",
              "          const dataTable =\n",
              "            await google.colab.kernel.invokeFunction('convertToInteractive',\n",
              "                                                     [key], {});\n",
              "          if (!dataTable) return;\n",
              "\n",
              "          const docLinkHtml = 'Like what you see? Visit the ' +\n",
              "            '<a target=\"_blank\" href=https://colab.research.google.com/notebooks/data_table.ipynb>data table notebook</a>'\n",
              "            + ' to learn more about interactive tables.';\n",
              "          element.innerHTML = '';\n",
              "          dataTable['output_type'] = 'display_data';\n",
              "          await google.colab.output.renderOutput(dataTable, element);\n",
              "          const docLink = document.createElement('div');\n",
              "          docLink.innerHTML = docLinkHtml;\n",
              "          element.appendChild(docLink);\n",
              "        }\n",
              "      </script>\n",
              "    </div>\n",
              "  </div>\n",
              "  "
            ]
          },
          "metadata": {},
          "execution_count": 306
        }
      ]
    },
    {
      "cell_type": "code",
      "source": [
        "df_Freedom.boxplot(column = 'Freedom', by = 'Period', grid = False)"
      ],
      "metadata": {
        "colab": {
          "base_uri": "https://localhost:8080/",
          "height": 373
        },
        "id": "u0FIa6iajx7r",
        "outputId": "2f2e01f0-a624-4b2f-f18e-b2684f07fd2b"
      },
      "execution_count": null,
      "outputs": [
        {
          "output_type": "stream",
          "name": "stderr",
          "text": [
            "/usr/local/lib/python3.7/dist-packages/matplotlib/cbook/__init__.py:1376: VisibleDeprecationWarning: Creating an ndarray from ragged nested sequences (which is a list-or-tuple of lists-or-tuples-or ndarrays with different lengths or shapes) is deprecated. If you meant to do this, you must specify 'dtype=object' when creating the ndarray.\n",
            "  X = np.atleast_1d(X.T if isinstance(X, np.ndarray) else np.asarray(X))\n"
          ]
        },
        {
          "output_type": "execute_result",
          "data": {
            "text/plain": [
              "<matplotlib.axes._subplots.AxesSubplot at 0x7f8b83310790>"
            ]
          },
          "metadata": {},
          "execution_count": 307
        },
        {
          "output_type": "display_data",
          "data": {
            "text/plain": [
              "<Figure size 432x288 with 1 Axes>"
            ],
            "image/png": "[encoded data removed]"
          },
          "metadata": {
            "needs_background": "light"
          }
        }
      ]
    },
    {
      "cell_type": "code",
      "source": [
        ""
      ],
      "metadata": {
        "id": "wWZK0ofWBVp1"
      },
      "execution_count": null,
      "outputs": []
    },
    {
      "cell_type": "code",
      "source": [
        ""
      ],
      "metadata": {
        "id": "w5CoirzxBeVL"
      },
      "execution_count": null,
      "outputs": []
    },
    {
      "cell_type": "markdown",
      "source": [
        "추론통계: 가설검정</br></br>\n",
        "2. 표본 3개 이상</br></br>\n",
        "\n",
        "[1] 정규분포(등분산)</br>\n",
        "(1) 정규성 검정: ols</br>\n",
        " p-value< 0.05 비정규분포 / p-value >= 0.05 정규분포 </br></br>\n",
        "(2) F등분산 검정: levene</br>\n",
        "p-value < 0.05 이분산 / p-value >= 0.05 등분산</br></br>\n",
        "(3) one-way ANOVA: mean 비교</br>\n",
        "p-value < 0.05 표본평균간 유의한 차이 존재 </br></br>\n",
        "(4) 사후검정: TukeyHSD</br>\n",
        "어떤 표본집단 간에 평균 차이가 존재하는지 검정</br></br>\n"
      ],
      "metadata": {
        "id": "s4kIDo3g_bCG"
      }
    },
    {
      "cell_type": "markdown",
      "source": [
        "[2] 비정규분포, 정규분포(이분산)</br>\n",
        "(1) 정규성 검정: ols</br>\n",
        " p-value< 0.05 비정규분포 / p-value >= 0.05 정규분포 </br></br>\n",
        "(2) F등분산 검정: levene</br>\n",
        "p-value < 0.05 이분산 / p-value >= 0.05 등분산</br></br>\n",
        "(3) Kruskal-Wallis: median 비교</br>\n",
        "p-value < 0.05 표본 중앙값간 유의한 차이 존재 </br></br>\n",
        "(4) 사후검정: Dunn</br>"
      ],
      "metadata": {
        "id": "cTjqqNAcBQmU"
      }
    },
    {
      "cell_type": "markdown",
      "source": [
        ""
      ],
      "metadata": {
        "id": "bECuBLSdBQia"
      }
    },
    {
      "cell_type": "code",
      "source": [
        "# 정규분포(등분산)\n",
        "#(1) 정규성 검정\n",
        "# ols 기반 선형 모델을 만들고 잔차를 대상으로 정규성 검정\n",
        "# ols('종속변수 ~ C(독립변수)', data=dataFrame)\n",
        "\n",
        "from statsmodels.formula.api import ols\n",
        "model = ols('Freedom ~ C(Period)', data = df_Freedom).fit()\n",
        "stats.shapiro(model.resid)"
      ],
      "metadata": {
        "colab": {
          "base_uri": "https://localhost:8080/"
        },
        "id": "h3M1kz0JkKbw",
        "outputId": "3fbfeb18-5a8a-4cfa-e0ff-eb2a8474e7b0"
      },
      "execution_count": null,
      "outputs": [
        {
          "output_type": "execute_result",
          "data": {
            "text/plain": [
              "(0.9211161732673645, 0.001058013178408146)"
            ]
          },
          "metadata": {},
          "execution_count": 309
        }
      ]
    },
    {
      "cell_type": "code",
      "source": [
        "#(2) 등분산 검정\n",
        "\n",
        "stats.levene(df_Freedom.Freedom[df_Freedom.Period=='|'], df_Freedom.Freedom[df_Freedom.Period=='||'], df_Freedom.Freedom[df_Freedom.Period=='|||'])\n",
        "\n",
        "#이분산"
      ],
      "metadata": {
        "colab": {
          "base_uri": "https://localhost:8080/"
        },
        "id": "Y62AwBBGkcto",
        "outputId": "c1de8dce-2d39-479d-f03c-e162f143f8c0"
      },
      "execution_count": null,
      "outputs": [
        {
          "output_type": "execute_result",
          "data": {
            "text/plain": [
              "LeveneResult(statistic=5.892721142064274, pvalue=0.004799812634807271)"
            ]
          },
          "metadata": {},
          "execution_count": 310
        }
      ]
    },
    {
      "cell_type": "code",
      "source": [
        "#(3) one-way ANOVA (등분산의 경우)\n",
        "\n",
        "stats.f_oneway(df_Freedom.Freedom[df_Freedom.Period=='|'], df_Freedom.Freedom[df_Freedom.Period=='||'], df_Freedom.Freedom[df_Freedom.Period=='|||'])\n",
        "\n",
        "# p-value < 0.05: 표본집단의 평균간 유의미한 차이 존재"
      ],
      "metadata": {
        "colab": {
          "base_uri": "https://localhost:8080/"
        },
        "id": "4oh8dovylC57",
        "outputId": "cfcd678a-b98a-4369-bf40-3612a04995a2"
      },
      "execution_count": null,
      "outputs": [
        {
          "output_type": "execute_result",
          "data": {
            "text/plain": [
              "F_onewayResult(statistic=13.87557878517657, pvalue=1.3218641542916707e-05)"
            ]
          },
          "metadata": {},
          "execution_count": 311
        }
      ]
    },
    {
      "cell_type": "code",
      "source": [
        "#(4) 사후검정: 어떤 표본집단 간에 평균 차이가 존재하는지 검정\n",
        "# TukeyHSD\n",
        "\n",
        "from statsmodels.stats.multicomp import pairwise_tukeyhsd\n",
        "hsd = pairwise_tukeyhsd(df_Freedom.Freedom, df_Freedom.Period)\n",
        "hsd.summary()\n",
        "\n",
        "# Period |||이 |&||과 유의미한 차이를 보임"
      ],
      "metadata": {
        "colab": {
          "base_uri": "https://localhost:8080/",
          "height": 137
        },
        "id": "mWLfAB_XlVgy",
        "outputId": "c4bdb263-3123-4ce3-b991-de92e69fc8a9"
      },
      "execution_count": null,
      "outputs": [
        {
          "output_type": "execute_result",
          "data": {
            "text/plain": [
              "<class 'statsmodels.iolib.table.SimpleTable'>"
            ],
            "text/html": [
              "<table class=\"simpletable\">\n",
              "<caption>Multiple Comparison of Means - Tukey HSD, FWER=0.05</caption>\n",
              "<tr>\n",
              "  <th>group1</th> <th>group2</th> <th>meandiff</th> <th>p-adj</th>  <th>lower</th>   <th>upper</th> <th>reject</th>\n",
              "</tr>\n",
              "<tr>\n",
              "     <td>|</td>     <td>||</td>    <td>0.0001</td>   <td>0.9</td>  <td>-0.0007</td> <td>0.0008</td>  <td>False</td>\n",
              "</tr>\n",
              "<tr>\n",
              "     <td>|</td>     <td>|||</td>   <td>0.0015</td>  <td>0.001</td> <td>0.0007</td>  <td>0.0023</td>  <td>True</td> \n",
              "</tr>\n",
              "<tr>\n",
              "    <td>||</td>     <td>|||</td>   <td>0.0014</td>  <td>0.001</td> <td>0.0007</td>  <td>0.0022</td>  <td>True</td> \n",
              "</tr>\n",
              "</table>"
            ]
          },
          "metadata": {},
          "execution_count": 313
        }
      ]
    },
    {
      "cell_type": "code",
      "source": [
        ""
      ],
      "metadata": {
        "id": "ZYkRu99tA6tV"
      },
      "execution_count": null,
      "outputs": []
    },
    {
      "cell_type": "code",
      "source": [
        "#비정규분포\n",
        "# (3) Kruskal-Wallis\n",
        "\n",
        "stats.kruskal(df_Freedom.Freedom[df_Freedom.Period=='|'], df_Freedom.Freedom[df_Freedom.Period=='||'], df_Freedom.Freedom[df_Freedom.Period=='|||'])"
      ],
      "metadata": {
        "colab": {
          "base_uri": "https://localhost:8080/"
        },
        "id": "pIBoCf7M73w9",
        "outputId": "5f88a41c-395e-4281-b821-84ba513f0190"
      },
      "execution_count": null,
      "outputs": [
        {
          "output_type": "execute_result",
          "data": {
            "text/plain": [
              "KruskalResult(statistic=17.784286292262617, pvalue=0.00013746473504788813)"
            ]
          },
          "metadata": {},
          "execution_count": 324
        }
      ]
    },
    {
      "cell_type": "code",
      "source": [
        "!pip install scikit_posthocs "
      ],
      "metadata": {
        "colab": {
          "base_uri": "https://localhost:8080/"
        },
        "id": "mJO3iDQbmR1o",
        "outputId": "44c56aaa-0eb9-4689-8a1f-1752fe7bc87a"
      },
      "execution_count": null,
      "outputs": [
        {
          "output_type": "stream",
          "name": "stdout",
          "text": [
            "Collecting scikit_posthocs\n",
            "  Downloading scikit-posthocs-0.6.7.tar.gz (43 kB)\n",
            "\u001b[?25l\r\u001b[K     |███████▋                        | 10 kB 16.4 MB/s eta 0:00:01\r\u001b[K     |███████████████▏                | 20 kB 17.9 MB/s eta 0:00:01\r\u001b[K     |██████████████████████▊         | 30 kB 8.5 MB/s eta 0:00:01\r\u001b[K     |██████████████████████████████▎ | 40 kB 5.9 MB/s eta 0:00:01\r\u001b[K     |████████████████████████████████| 43 kB 1.1 MB/s \n",
            "\u001b[?25h  Installing build dependencies ... \u001b[?25l\u001b[?25hdone\n",
            "  Getting requirements to build wheel ... \u001b[?25l\u001b[?25hdone\n",
            "    Preparing wheel metadata ... \u001b[?25l\u001b[?25hdone\n",
            "Requirement already satisfied: statsmodels in /usr/local/lib/python3.7/dist-packages (from scikit_posthocs) (0.10.2)\n",
            "Requirement already satisfied: scipy in /usr/local/lib/python3.7/dist-packages (from scikit_posthocs) (1.4.1)\n",
            "Requirement already satisfied: pandas>=0.20.0 in /usr/local/lib/python3.7/dist-packages (from scikit_posthocs) (1.3.5)\n",
            "Requirement already satisfied: seaborn in /usr/local/lib/python3.7/dist-packages (from scikit_posthocs) (0.11.2)\n",
            "Requirement already satisfied: matplotlib in /usr/local/lib/python3.7/dist-packages (from scikit_posthocs) (3.2.2)\n",
            "Requirement already satisfied: numpy in /usr/local/lib/python3.7/dist-packages (from scikit_posthocs) (1.21.5)\n",
            "Requirement already satisfied: pytz>=2017.3 in /usr/local/lib/python3.7/dist-packages (from pandas>=0.20.0->scikit_posthocs) (2018.9)\n",
            "Requirement already satisfied: python-dateutil>=2.7.3 in /usr/local/lib/python3.7/dist-packages (from pandas>=0.20.0->scikit_posthocs) (2.8.2)\n",
            "Requirement already satisfied: six>=1.5 in /usr/local/lib/python3.7/dist-packages (from python-dateutil>=2.7.3->pandas>=0.20.0->scikit_posthocs) (1.15.0)\n",
            "Requirement already satisfied: kiwisolver>=1.0.1 in /usr/local/lib/python3.7/dist-packages (from matplotlib->scikit_posthocs) (1.4.0)\n",
            "Requirement already satisfied: cycler>=0.10 in /usr/local/lib/python3.7/dist-packages (from matplotlib->scikit_posthocs) (0.11.0)\n",
            "Requirement already satisfied: pyparsing!=2.0.4,!=2.1.2,!=2.1.6,>=2.0.1 in /usr/local/lib/python3.7/dist-packages (from matplotlib->scikit_posthocs) (3.0.7)\n",
            "Requirement already satisfied: typing-extensions in /usr/local/lib/python3.7/dist-packages (from kiwisolver>=1.0.1->matplotlib->scikit_posthocs) (3.10.0.2)\n",
            "Requirement already satisfied: patsy>=0.4.0 in /usr/local/lib/python3.7/dist-packages (from statsmodels->scikit_posthocs) (0.5.2)\n",
            "Building wheels for collected packages: scikit-posthocs\n",
            "  Building wheel for scikit-posthocs (PEP 517) ... \u001b[?25l\u001b[?25hdone\n",
            "  Created wheel for scikit-posthocs: filename=scikit_posthocs-0.6.7-py3-none-any.whl size=37903 sha256=aee66ce713f2f8f4b08305712caf4bb3c170420b89ee0ffff8b3f053f43325e7\n",
            "  Stored in directory: /root/.cache/pip/wheels/b8/21/e6/f39794d4a6ee3d3cc5146ca80b5cd949452ad4a8fde9f6b9fc\n",
            "Successfully built scikit-posthocs\n",
            "Installing collected packages: scikit-posthocs\n",
            "Successfully installed scikit-posthocs-0.6.7\n"
          ]
        }
      ]
    },
    {
      "cell_type": "code",
      "source": [
        "# (4) 사후검정: Dunn\n",
        "\n",
        "import scikit_posthocs as sp\n",
        "sp.posthoc_dunn(df_Freedom, val_col = 'Freedom', group_col = 'Period')"
      ],
      "metadata": {
        "colab": {
          "base_uri": "https://localhost:8080/",
          "height": 143
        },
        "id": "CljhaNW5mBrj",
        "outputId": "f5bbaa82-2771-454a-9d16-246299fd876c"
      },
      "execution_count": null,
      "outputs": [
        {
          "output_type": "execute_result",
          "data": {
            "text/plain": [
              "            |        ||       |||\n",
              "|    1.000000  0.892282  0.000257\n",
              "||   0.892282  1.000000  0.000299\n",
              "|||  0.000257  0.000299  1.000000"
            ],
            "text/html": [
              "\n",
              "  <div id=\"df-c8682ddb-9af3-4bf1-b206-71ead9628a4e\">\n",
              "    <div class=\"colab-df-container\">\n",
              "      <div>\n",
              "<style scoped>\n",
              "    .dataframe tbody tr th:only-of-type {\n",
              "        vertical-align: middle;\n",
              "    }\n",
              "\n",
              "    .dataframe tbody tr th {\n",
              "        vertical-align: top;\n",
              "    }\n",
              "\n",
              "    .dataframe thead th {\n",
              "        text-align: right;\n",
              "    }\n",
              "</style>\n",
              "<table border=\"1\" class=\"dataframe\">\n",
              "  <thead>\n",
              "    <tr style=\"text-align: right;\">\n",
              "      <th></th>\n",
              "      <th>|</th>\n",
              "      <th>||</th>\n",
              "      <th>|||</th>\n",
              "    </tr>\n",
              "  </thead>\n",
              "  <tbody>\n",
              "    <tr>\n",
              "      <th>|</th>\n",
              "      <td>1.000000</td>\n",
              "      <td>0.892282</td>\n",
              "      <td>0.000257</td>\n",
              "    </tr>\n",
              "    <tr>\n",
              "      <th>||</th>\n",
              "      <td>0.892282</td>\n",
              "      <td>1.000000</td>\n",
              "      <td>0.000299</td>\n",
              "    </tr>\n",
              "    <tr>\n",
              "      <th>|||</th>\n",
              "      <td>0.000257</td>\n",
              "      <td>0.000299</td>\n",
              "      <td>1.000000</td>\n",
              "    </tr>\n",
              "  </tbody>\n",
              "</table>\n",
              "</div>\n",
              "      <button class=\"colab-df-convert\" onclick=\"convertToInteractive('df-c8682ddb-9af3-4bf1-b206-71ead9628a4e')\"\n",
              "              title=\"Convert this dataframe to an interactive table.\"\n",
              "              style=\"display:none;\">\n",
              "        \n",
              "  <svg xmlns=\"http://www.w3.org/2000/svg\" height=\"24px\"viewBox=\"0 0 24 24\"\n",
              "       width=\"24px\">\n",
              "    <path d=\"M0 0h24v24H0V0z\" fill=\"none\"/>\n",
              "    <path d=\"M18.56 5.44l.94 2.06.94-2.06 2.06-.94-2.06-.94-.94-2.06-.94 2.06-2.06.94zm-11 1L8.5 8.5l.94-2.06 2.06-.94-2.06-.94L8.5 2.5l-.94 2.06-2.06.94zm10 10l.94 2.06.94-2.06 2.06-.94-2.06-.94-.94-2.06-.94 2.06-2.06.94z\"/><path d=\"M17.41 7.96l-1.37-1.37c-.4-.4-.92-.59-1.43-.59-.52 0-1.04.2-1.43.59L10.3 9.45l-7.72 7.72c-.78.78-.78 2.05 0 2.83L4 21.41c.39.39.9.59 1.41.59.51 0 1.02-.2 1.41-.59l7.78-7.78 2.81-2.81c.8-.78.8-2.07 0-2.86zM5.41 20L4 18.59l7.72-7.72 1.47 1.35L5.41 20z\"/>\n",
              "  </svg>\n",
              "      </button>\n",
              "      \n",
              "  <style>\n",
              "    .colab-df-container {\n",
              "      display:flex;\n",
              "      flex-wrap:wrap;\n",
              "      gap: 12px;\n",
              "    }\n",
              "\n",
              "    .colab-df-convert {\n",
              "      background-color: #E8F0FE;\n",
              "      border: none;\n",
              "      border-radius: 50%;\n",
              "      cursor: pointer;\n",
              "      display: none;\n",
              "      fill: #1967D2;\n",
              "      height: 32px;\n",
              "      padding: 0 0 0 0;\n",
              "      width: 32px;\n",
              "    }\n",
              "\n",
              "    .colab-df-convert:hover {\n",
              "      background-color: #E2EBFA;\n",
              "      box-shadow: 0px 1px 2px rgba(60, 64, 67, 0.3), 0px 1px 3px 1px rgba(60, 64, 67, 0.15);\n",
              "      fill: #174EA6;\n",
              "    }\n",
              "\n",
              "    [theme=dark] .colab-df-convert {\n",
              "      background-color: #3B4455;\n",
              "      fill: #D2E3FC;\n",
              "    }\n",
              "\n",
              "    [theme=dark] .colab-df-convert:hover {\n",
              "      background-color: #434B5C;\n",
              "      box-shadow: 0px 1px 3px 1px rgba(0, 0, 0, 0.15);\n",
              "      filter: drop-shadow(0px 1px 2px rgba(0, 0, 0, 0.3));\n",
              "      fill: #FFFFFF;\n",
              "    }\n",
              "  </style>\n",
              "\n",
              "      <script>\n",
              "        const buttonEl =\n",
              "          document.querySelector('#df-c8682ddb-9af3-4bf1-b206-71ead9628a4e button.colab-df-convert');\n",
              "        buttonEl.style.display =\n",
              "          google.colab.kernel.accessAllowed ? 'block' : 'none';\n",
              "\n",
              "        async function convertToInteractive(key) {\n",
              "          const element = document.querySelector('#df-c8682ddb-9af3-4bf1-b206-71ead9628a4e');\n",
              "          const dataTable =\n",
              "            await google.colab.kernel.invokeFunction('convertToInteractive',\n",
              "                                                     [key], {});\n",
              "          if (!dataTable) return;\n",
              "\n",
              "          const docLinkHtml = 'Like what you see? Visit the ' +\n",
              "            '<a target=\"_blank\" href=https://colab.research.google.com/notebooks/data_table.ipynb>data table notebook</a>'\n",
              "            + ' to learn more about interactive tables.';\n",
              "          element.innerHTML = '';\n",
              "          dataTable['output_type'] = 'display_data';\n",
              "          await google.colab.output.renderOutput(dataTable, element);\n",
              "          const docLink = document.createElement('div');\n",
              "          docLink.innerHTML = docLinkHtml;\n",
              "          element.appendChild(docLink);\n",
              "        }\n",
              "      </script>\n",
              "    </div>\n",
              "  </div>\n",
              "  "
            ]
          },
          "metadata": {},
          "execution_count": 315
        }
      ]
    },
    {
      "cell_type": "code",
      "source": [
        ""
      ],
      "metadata": {
        "id": "quDd22U08yQ1"
      },
      "execution_count": null,
      "outputs": []
    },
    {
      "cell_type": "code",
      "source": [
        "# Two-way ANOVA"
      ],
      "metadata": {
        "id": "amOsGGbNApIb"
      },
      "execution_count": null,
      "outputs": []
    },
    {
      "cell_type": "code",
      "source": [
        "Presidents = pd.read_csv('/content/drive/MyDrive/US_Presidents.CSV', index_col = 0)\n",
        "FreedomParty = pd.concat([df_Freedom, Presidents.Party.loc[Address.index]],\n",
        "                        axis = 1)\n",
        "FreedomParty = FreedomParty.loc[FreedomParty.index >= 1869]\n",
        "FreedomParty"
      ],
      "metadata": {
        "id": "HjnBoNeRmPAJ"
      },
      "execution_count": null,
      "outputs": []
    },
    {
      "cell_type": "code",
      "source": [
        "FreedomParty.boxplot(column = 'Freedom', by = ['Period', 'Party'], grid = False)"
      ],
      "metadata": {
        "id": "BKANppe7mb3T"
      },
      "execution_count": null,
      "outputs": []
    },
    {
      "cell_type": "code",
      "source": [
        "from statsmodels.formula.api import ols\n",
        "model = ols('Freedom ~ C(Period) + C(Party) + C(Period):C(Party)', data = FreedomParty).fit()\n",
        "stats.shapiro(model.resid)"
      ],
      "metadata": {
        "colab": {
          "base_uri": "https://localhost:8080/"
        },
        "id": "caWajw5nukS9",
        "outputId": "8627d992-f4ba-4466-a93f-b185f1f8d664"
      },
      "execution_count": null,
      "outputs": [
        {
          "output_type": "execute_result",
          "data": {
            "text/plain": [
              "(0.9589298963546753, 0.16423533856868744)"
            ]
          },
          "metadata": {},
          "execution_count": 275
        }
      ]
    },
    {
      "cell_type": "code",
      "source": [
        "from statsmodels.stats.anova import anova_lm\n",
        "anova_lm(model)"
      ],
      "metadata": {
        "colab": {
          "base_uri": "https://localhost:8080/",
          "height": 175
        },
        "id": "3_1uk3s3u3Qo",
        "outputId": "5b43657a-a991-481f-9e7a-9e7382b917d3"
      },
      "execution_count": null,
      "outputs": [
        {
          "output_type": "execute_result",
          "data": {
            "text/plain": [
              "                      df        sum_sq       mean_sq          F    PR(>F)\n",
              "C(Period)            1.0  1.654448e-05  1.654448e-05  11.786039  0.001550\n",
              "C(Party)             1.0  5.855411e-07  5.855411e-07   0.417131  0.522584\n",
              "C(Period):C(Party)   1.0  7.737728e-07  7.737728e-07   0.551224  0.462772\n",
              "Residual            35.0  4.913073e-05  1.403735e-06        NaN       NaN"
            ],
            "text/html": [
              "\n",
              "  <div id=\"df-affd395f-74bd-47a1-8aca-824c0f75408e\">\n",
              "    <div class=\"colab-df-container\">\n",
              "      <div>\n",
              "<style scoped>\n",
              "    .dataframe tbody tr th:only-of-type {\n",
              "        vertical-align: middle;\n",
              "    }\n",
              "\n",
              "    .dataframe tbody tr th {\n",
              "        vertical-align: top;\n",
              "    }\n",
              "\n",
              "    .dataframe thead th {\n",
              "        text-align: right;\n",
              "    }\n",
              "</style>\n",
              "<table border=\"1\" class=\"dataframe\">\n",
              "  <thead>\n",
              "    <tr style=\"text-align: right;\">\n",
              "      <th></th>\n",
              "      <th>df</th>\n",
              "      <th>sum_sq</th>\n",
              "      <th>mean_sq</th>\n",
              "      <th>F</th>\n",
              "      <th>PR(&gt;F)</th>\n",
              "    </tr>\n",
              "  </thead>\n",
              "  <tbody>\n",
              "    <tr>\n",
              "      <th>C(Period)</th>\n",
              "      <td>1.0</td>\n",
              "      <td>1.654448e-05</td>\n",
              "      <td>1.654448e-05</td>\n",
              "      <td>11.786039</td>\n",
              "      <td>0.001550</td>\n",
              "    </tr>\n",
              "    <tr>\n",
              "      <th>C(Party)</th>\n",
              "      <td>1.0</td>\n",
              "      <td>5.855411e-07</td>\n",
              "      <td>5.855411e-07</td>\n",
              "      <td>0.417131</td>\n",
              "      <td>0.522584</td>\n",
              "    </tr>\n",
              "    <tr>\n",
              "      <th>C(Period):C(Party)</th>\n",
              "      <td>1.0</td>\n",
              "      <td>7.737728e-07</td>\n",
              "      <td>7.737728e-07</td>\n",
              "      <td>0.551224</td>\n",
              "      <td>0.462772</td>\n",
              "    </tr>\n",
              "    <tr>\n",
              "      <th>Residual</th>\n",
              "      <td>35.0</td>\n",
              "      <td>4.913073e-05</td>\n",
              "      <td>1.403735e-06</td>\n",
              "      <td>NaN</td>\n",
              "      <td>NaN</td>\n",
              "    </tr>\n",
              "  </tbody>\n",
              "</table>\n",
              "</div>\n",
              "      <button class=\"colab-df-convert\" onclick=\"convertToInteractive('df-affd395f-74bd-47a1-8aca-824c0f75408e')\"\n",
              "              title=\"Convert this dataframe to an interactive table.\"\n",
              "              style=\"display:none;\">\n",
              "        \n",
              "  <svg xmlns=\"http://www.w3.org/2000/svg\" height=\"24px\"viewBox=\"0 0 24 24\"\n",
              "       width=\"24px\">\n",
              "    <path d=\"M0 0h24v24H0V0z\" fill=\"none\"/>\n",
              "    <path d=\"M18.56 5.44l.94 2.06.94-2.06 2.06-.94-2.06-.94-.94-2.06-.94 2.06-2.06.94zm-11 1L8.5 8.5l.94-2.06 2.06-.94-2.06-.94L8.5 2.5l-.94 2.06-2.06.94zm10 10l.94 2.06.94-2.06 2.06-.94-2.06-.94-.94-2.06-.94 2.06-2.06.94z\"/><path d=\"M17.41 7.96l-1.37-1.37c-.4-.4-.92-.59-1.43-.59-.52 0-1.04.2-1.43.59L10.3 9.45l-7.72 7.72c-.78.78-.78 2.05 0 2.83L4 21.41c.39.39.9.59 1.41.59.51 0 1.02-.2 1.41-.59l7.78-7.78 2.81-2.81c.8-.78.8-2.07 0-2.86zM5.41 20L4 18.59l7.72-7.72 1.47 1.35L5.41 20z\"/>\n",
              "  </svg>\n",
              "      </button>\n",
              "      \n",
              "  <style>\n",
              "    .colab-df-container {\n",
              "      display:flex;\n",
              "      flex-wrap:wrap;\n",
              "      gap: 12px;\n",
              "    }\n",
              "\n",
              "    .colab-df-convert {\n",
              "      background-color: #E8F0FE;\n",
              "      border: none;\n",
              "      border-radius: 50%;\n",
              "      cursor: pointer;\n",
              "      display: none;\n",
              "      fill: #1967D2;\n",
              "      height: 32px;\n",
              "      padding: 0 0 0 0;\n",
              "      width: 32px;\n",
              "    }\n",
              "\n",
              "    .colab-df-convert:hover {\n",
              "      background-color: #E2EBFA;\n",
              "      box-shadow: 0px 1px 2px rgba(60, 64, 67, 0.3), 0px 1px 3px 1px rgba(60, 64, 67, 0.15);\n",
              "      fill: #174EA6;\n",
              "    }\n",
              "\n",
              "    [theme=dark] .colab-df-convert {\n",
              "      background-color: #3B4455;\n",
              "      fill: #D2E3FC;\n",
              "    }\n",
              "\n",
              "    [theme=dark] .colab-df-convert:hover {\n",
              "      background-color: #434B5C;\n",
              "      box-shadow: 0px 1px 3px 1px rgba(0, 0, 0, 0.15);\n",
              "      filter: drop-shadow(0px 1px 2px rgba(0, 0, 0, 0.3));\n",
              "      fill: #FFFFFF;\n",
              "    }\n",
              "  </style>\n",
              "\n",
              "      <script>\n",
              "        const buttonEl =\n",
              "          document.querySelector('#df-affd395f-74bd-47a1-8aca-824c0f75408e button.colab-df-convert');\n",
              "        buttonEl.style.display =\n",
              "          google.colab.kernel.accessAllowed ? 'block' : 'none';\n",
              "\n",
              "        async function convertToInteractive(key) {\n",
              "          const element = document.querySelector('#df-affd395f-74bd-47a1-8aca-824c0f75408e');\n",
              "          const dataTable =\n",
              "            await google.colab.kernel.invokeFunction('convertToInteractive',\n",
              "                                                     [key], {});\n",
              "          if (!dataTable) return;\n",
              "\n",
              "          const docLinkHtml = 'Like what you see? Visit the ' +\n",
              "            '<a target=\"_blank\" href=https://colab.research.google.com/notebooks/data_table.ipynb>data table notebook</a>'\n",
              "            + ' to learn more about interactive tables.';\n",
              "          element.innerHTML = '';\n",
              "          dataTable['output_type'] = 'display_data';\n",
              "          await google.colab.output.renderOutput(dataTable, element);\n",
              "          const docLink = document.createElement('div');\n",
              "          docLink.innerHTML = docLinkHtml;\n",
              "          element.appendChild(docLink);\n",
              "        }\n",
              "      </script>\n",
              "    </div>\n",
              "  </div>\n",
              "  "
            ]
          },
          "metadata": {},
          "execution_count": 281
        }
      ]
    }
  ]
}